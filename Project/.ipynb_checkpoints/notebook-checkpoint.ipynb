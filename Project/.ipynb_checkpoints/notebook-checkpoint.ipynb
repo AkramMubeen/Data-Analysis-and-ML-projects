{
 "cells": [
  {
   "cell_type": "markdown",
   "id": "450b9fbb",
   "metadata": {
    "id": "450b9fbb"
   },
   "source": [
    "# CLASSIFICATION"
   ]
  },
  {
   "cell_type": "markdown",
   "id": "81b4770c",
   "metadata": {
    "id": "81b4770c"
   },
   "source": [
    "### Attribute Information\n",
    "\n",
    "####    Age: age of the patient [years]\n",
    "####    Sex: sex of the patient [M: Male, F: Female]\n",
    "####    ChestPainType: chest pain type [TA: Typical Angina, ATA: Atypical Angina, NAP: Non-Anginal Pain, ASY: Asymptomatic]\n",
    "####    RestingBP: resting blood pressure [mm Hg]\n",
    "####    Cholesterol: serum cholesterol [mm/dl]\n",
    "####    FastingBS: fasting blood sugar [1: if FastingBS > 120 mg/dl, 0: otherwise]\n",
    "####    RestingECG: resting electrocardiogram results [Normal: Normal, ST: having ST-T wave abnormality (T wave inversions and/or ST elevation or depression of > 0.05 mV), LVH: showing probable or definite left ventricular hypertrophy by Estes' criteria]\n",
    "####    MaxHR: maximum heart rate achieved [Numeric value between 60 and 202]\n",
    "####    ExerciseAngina: exercise-induced angina [Y: Yes, N: No]\n",
    "####    Oldpeak: oldpeak = ST [Numeric value measured in depression]\n",
    "####    ST_Slope: the slope of the peak exercise ST segment [Up: upsloping, Flat: flat, Down: downsloping]\n",
    "####    HeartDisease: output class [1: heart disease, 0: Normal]"
   ]
  },
  {
   "cell_type": "markdown",
   "id": "aea8007f",
   "metadata": {
    "id": "aea8007f"
   },
   "source": [
    "# IMPORTING LIBRARIES"
   ]
  },
  {
   "cell_type": "code",
   "execution_count": 1,
   "id": "6mMZhwdhRzC9",
   "metadata": {
    "colab": {
     "base_uri": "https://localhost:8080/"
    },
    "id": "6mMZhwdhRzC9",
    "outputId": "deb04877-e041-4e80-d790-2f3b457df05d"
   },
   "outputs": [
    {
     "name": "stdout",
     "output_type": "stream",
     "text": [
      "Looking in indexes: https://pypi.org/simple, https://us-python.pkg.dev/colab-wheels/public/simple/\n",
      "Collecting opendatasets\n",
      "  Downloading opendatasets-0.1.22-py3-none-any.whl (15 kB)\n",
      "Requirement already satisfied: click in /usr/local/lib/python3.7/dist-packages (from opendatasets) (7.1.2)\n",
      "Requirement already satisfied: tqdm in /usr/local/lib/python3.7/dist-packages (from opendatasets) (4.64.1)\n",
      "Requirement already satisfied: kaggle in /usr/local/lib/python3.7/dist-packages (from opendatasets) (1.5.12)\n",
      "Requirement already satisfied: python-slugify in /usr/local/lib/python3.7/dist-packages (from kaggle->opendatasets) (6.1.2)\n",
      "Requirement already satisfied: certifi in /usr/local/lib/python3.7/dist-packages (from kaggle->opendatasets) (2022.9.24)\n",
      "Requirement already satisfied: six>=1.10 in /usr/local/lib/python3.7/dist-packages (from kaggle->opendatasets) (1.15.0)\n",
      "Requirement already satisfied: requests in /usr/local/lib/python3.7/dist-packages (from kaggle->opendatasets) (2.23.0)\n",
      "Requirement already satisfied: urllib3 in /usr/local/lib/python3.7/dist-packages (from kaggle->opendatasets) (1.24.3)\n",
      "Requirement already satisfied: python-dateutil in /usr/local/lib/python3.7/dist-packages (from kaggle->opendatasets) (2.8.2)\n",
      "Requirement already satisfied: text-unidecode>=1.3 in /usr/local/lib/python3.7/dist-packages (from python-slugify->kaggle->opendatasets) (1.3)\n",
      "Requirement already satisfied: idna<3,>=2.5 in /usr/local/lib/python3.7/dist-packages (from requests->kaggle->opendatasets) (2.10)\n",
      "Requirement already satisfied: chardet<4,>=3.0.2 in /usr/local/lib/python3.7/dist-packages (from requests->kaggle->opendatasets) (3.0.4)\n",
      "Installing collected packages: opendatasets\n",
      "Successfully installed opendatasets-0.1.22\n"
     ]
    }
   ],
   "source": [
    "!pip install opendatasets"
   ]
  },
  {
   "cell_type": "code",
   "execution_count": 2,
   "id": "0c7e9ca5",
   "metadata": {
    "id": "0c7e9ca5"
   },
   "outputs": [],
   "source": [
    "import pandas as pd\n",
    "import matplotlib.pyplot as plt\n",
    "import seaborn as sns\n",
    "import numpy as np\n",
    "import opendatasets as od"
   ]
  },
  {
   "cell_type": "code",
   "execution_count": 3,
   "id": "4ad3b3db",
   "metadata": {
    "colab": {
     "base_uri": "https://localhost:8080/"
    },
    "id": "4ad3b3db",
    "outputId": "dfff2791-33a1-4ff1-a9e9-16f2204b0709"
   },
   "outputs": [
    {
     "name": "stdout",
     "output_type": "stream",
     "text": [
      "Please provide your Kaggle credentials to download this dataset. Learn more: http://bit.ly/kaggle-creds\n",
      "Your Kaggle username: ace991\n",
      "Your Kaggle Key: ··········\n",
      "Downloading heart-failure-prediction.zip to ./heart-failure-prediction\n"
     ]
    },
    {
     "name": "stderr",
     "output_type": "stream",
     "text": [
      "100%|██████████| 8.56k/8.56k [00:00<00:00, 2.48MB/s]"
     ]
    },
    {
     "name": "stdout",
     "output_type": "stream",
     "text": [
      "\n"
     ]
    },
    {
     "name": "stderr",
     "output_type": "stream",
     "text": [
      "\n"
     ]
    }
   ],
   "source": [
    "dataset_url = 'https://www.kaggle.com/datasets/fedesoriano/heart-failure-prediction'\n",
    "od.download('https://www.kaggle.com/datasets/fedesoriano/heart-failure-prediction')"
   ]
  },
  {
   "cell_type": "code",
   "execution_count": 4,
   "id": "933726c7",
   "metadata": {
    "id": "933726c7"
   },
   "outputs": [],
   "source": [
    "df = pd.read_csv('./heart-failure-prediction/heart.csv')"
   ]
  },
  {
   "cell_type": "code",
   "execution_count": 5,
   "id": "41a678f8",
   "metadata": {
    "colab": {
     "base_uri": "https://localhost:8080/",
     "height": 206
    },
    "id": "41a678f8",
    "outputId": "70f328ce-22a1-457d-a626-a3c779d14ccb"
   },
   "outputs": [
    {
     "data": {
      "text/html": [
       "\n",
       "  <div id=\"df-fd2a10e5-9d03-41d8-aa35-27a4cfff9774\">\n",
       "    <div class=\"colab-df-container\">\n",
       "      <div>\n",
       "<style scoped>\n",
       "    .dataframe tbody tr th:only-of-type {\n",
       "        vertical-align: middle;\n",
       "    }\n",
       "\n",
       "    .dataframe tbody tr th {\n",
       "        vertical-align: top;\n",
       "    }\n",
       "\n",
       "    .dataframe thead th {\n",
       "        text-align: right;\n",
       "    }\n",
       "</style>\n",
       "<table border=\"1\" class=\"dataframe\">\n",
       "  <thead>\n",
       "    <tr style=\"text-align: right;\">\n",
       "      <th></th>\n",
       "      <th>Age</th>\n",
       "      <th>Sex</th>\n",
       "      <th>ChestPainType</th>\n",
       "      <th>RestingBP</th>\n",
       "      <th>Cholesterol</th>\n",
       "      <th>FastingBS</th>\n",
       "      <th>RestingECG</th>\n",
       "      <th>MaxHR</th>\n",
       "      <th>ExerciseAngina</th>\n",
       "      <th>Oldpeak</th>\n",
       "      <th>ST_Slope</th>\n",
       "      <th>HeartDisease</th>\n",
       "    </tr>\n",
       "  </thead>\n",
       "  <tbody>\n",
       "    <tr>\n",
       "      <th>0</th>\n",
       "      <td>40</td>\n",
       "      <td>M</td>\n",
       "      <td>ATA</td>\n",
       "      <td>140</td>\n",
       "      <td>289</td>\n",
       "      <td>0</td>\n",
       "      <td>Normal</td>\n",
       "      <td>172</td>\n",
       "      <td>N</td>\n",
       "      <td>0.0</td>\n",
       "      <td>Up</td>\n",
       "      <td>0</td>\n",
       "    </tr>\n",
       "    <tr>\n",
       "      <th>1</th>\n",
       "      <td>49</td>\n",
       "      <td>F</td>\n",
       "      <td>NAP</td>\n",
       "      <td>160</td>\n",
       "      <td>180</td>\n",
       "      <td>0</td>\n",
       "      <td>Normal</td>\n",
       "      <td>156</td>\n",
       "      <td>N</td>\n",
       "      <td>1.0</td>\n",
       "      <td>Flat</td>\n",
       "      <td>1</td>\n",
       "    </tr>\n",
       "    <tr>\n",
       "      <th>2</th>\n",
       "      <td>37</td>\n",
       "      <td>M</td>\n",
       "      <td>ATA</td>\n",
       "      <td>130</td>\n",
       "      <td>283</td>\n",
       "      <td>0</td>\n",
       "      <td>ST</td>\n",
       "      <td>98</td>\n",
       "      <td>N</td>\n",
       "      <td>0.0</td>\n",
       "      <td>Up</td>\n",
       "      <td>0</td>\n",
       "    </tr>\n",
       "    <tr>\n",
       "      <th>3</th>\n",
       "      <td>48</td>\n",
       "      <td>F</td>\n",
       "      <td>ASY</td>\n",
       "      <td>138</td>\n",
       "      <td>214</td>\n",
       "      <td>0</td>\n",
       "      <td>Normal</td>\n",
       "      <td>108</td>\n",
       "      <td>Y</td>\n",
       "      <td>1.5</td>\n",
       "      <td>Flat</td>\n",
       "      <td>1</td>\n",
       "    </tr>\n",
       "    <tr>\n",
       "      <th>4</th>\n",
       "      <td>54</td>\n",
       "      <td>M</td>\n",
       "      <td>NAP</td>\n",
       "      <td>150</td>\n",
       "      <td>195</td>\n",
       "      <td>0</td>\n",
       "      <td>Normal</td>\n",
       "      <td>122</td>\n",
       "      <td>N</td>\n",
       "      <td>0.0</td>\n",
       "      <td>Up</td>\n",
       "      <td>0</td>\n",
       "    </tr>\n",
       "  </tbody>\n",
       "</table>\n",
       "</div>\n",
       "      <button class=\"colab-df-convert\" onclick=\"convertToInteractive('df-fd2a10e5-9d03-41d8-aa35-27a4cfff9774')\"\n",
       "              title=\"Convert this dataframe to an interactive table.\"\n",
       "              style=\"display:none;\">\n",
       "        \n",
       "  <svg xmlns=\"http://www.w3.org/2000/svg\" height=\"24px\"viewBox=\"0 0 24 24\"\n",
       "       width=\"24px\">\n",
       "    <path d=\"M0 0h24v24H0V0z\" fill=\"none\"/>\n",
       "    <path d=\"M18.56 5.44l.94 2.06.94-2.06 2.06-.94-2.06-.94-.94-2.06-.94 2.06-2.06.94zm-11 1L8.5 8.5l.94-2.06 2.06-.94-2.06-.94L8.5 2.5l-.94 2.06-2.06.94zm10 10l.94 2.06.94-2.06 2.06-.94-2.06-.94-.94-2.06-.94 2.06-2.06.94z\"/><path d=\"M17.41 7.96l-1.37-1.37c-.4-.4-.92-.59-1.43-.59-.52 0-1.04.2-1.43.59L10.3 9.45l-7.72 7.72c-.78.78-.78 2.05 0 2.83L4 21.41c.39.39.9.59 1.41.59.51 0 1.02-.2 1.41-.59l7.78-7.78 2.81-2.81c.8-.78.8-2.07 0-2.86zM5.41 20L4 18.59l7.72-7.72 1.47 1.35L5.41 20z\"/>\n",
       "  </svg>\n",
       "      </button>\n",
       "      \n",
       "  <style>\n",
       "    .colab-df-container {\n",
       "      display:flex;\n",
       "      flex-wrap:wrap;\n",
       "      gap: 12px;\n",
       "    }\n",
       "\n",
       "    .colab-df-convert {\n",
       "      background-color: #E8F0FE;\n",
       "      border: none;\n",
       "      border-radius: 50%;\n",
       "      cursor: pointer;\n",
       "      display: none;\n",
       "      fill: #1967D2;\n",
       "      height: 32px;\n",
       "      padding: 0 0 0 0;\n",
       "      width: 32px;\n",
       "    }\n",
       "\n",
       "    .colab-df-convert:hover {\n",
       "      background-color: #E2EBFA;\n",
       "      box-shadow: 0px 1px 2px rgba(60, 64, 67, 0.3), 0px 1px 3px 1px rgba(60, 64, 67, 0.15);\n",
       "      fill: #174EA6;\n",
       "    }\n",
       "\n",
       "    [theme=dark] .colab-df-convert {\n",
       "      background-color: #3B4455;\n",
       "      fill: #D2E3FC;\n",
       "    }\n",
       "\n",
       "    [theme=dark] .colab-df-convert:hover {\n",
       "      background-color: #434B5C;\n",
       "      box-shadow: 0px 1px 3px 1px rgba(0, 0, 0, 0.15);\n",
       "      filter: drop-shadow(0px 1px 2px rgba(0, 0, 0, 0.3));\n",
       "      fill: #FFFFFF;\n",
       "    }\n",
       "  </style>\n",
       "\n",
       "      <script>\n",
       "        const buttonEl =\n",
       "          document.querySelector('#df-fd2a10e5-9d03-41d8-aa35-27a4cfff9774 button.colab-df-convert');\n",
       "        buttonEl.style.display =\n",
       "          google.colab.kernel.accessAllowed ? 'block' : 'none';\n",
       "\n",
       "        async function convertToInteractive(key) {\n",
       "          const element = document.querySelector('#df-fd2a10e5-9d03-41d8-aa35-27a4cfff9774');\n",
       "          const dataTable =\n",
       "            await google.colab.kernel.invokeFunction('convertToInteractive',\n",
       "                                                     [key], {});\n",
       "          if (!dataTable) return;\n",
       "\n",
       "          const docLinkHtml = 'Like what you see? Visit the ' +\n",
       "            '<a target=\"_blank\" href=https://colab.research.google.com/notebooks/data_table.ipynb>data table notebook</a>'\n",
       "            + ' to learn more about interactive tables.';\n",
       "          element.innerHTML = '';\n",
       "          dataTable['output_type'] = 'display_data';\n",
       "          await google.colab.output.renderOutput(dataTable, element);\n",
       "          const docLink = document.createElement('div');\n",
       "          docLink.innerHTML = docLinkHtml;\n",
       "          element.appendChild(docLink);\n",
       "        }\n",
       "      </script>\n",
       "    </div>\n",
       "  </div>\n",
       "  "
      ],
      "text/plain": [
       "   Age Sex ChestPainType  RestingBP  Cholesterol  FastingBS RestingECG  MaxHR  \\\n",
       "0   40   M           ATA        140          289          0     Normal    172   \n",
       "1   49   F           NAP        160          180          0     Normal    156   \n",
       "2   37   M           ATA        130          283          0         ST     98   \n",
       "3   48   F           ASY        138          214          0     Normal    108   \n",
       "4   54   M           NAP        150          195          0     Normal    122   \n",
       "\n",
       "  ExerciseAngina  Oldpeak ST_Slope  HeartDisease  \n",
       "0              N      0.0       Up             0  \n",
       "1              N      1.0     Flat             1  \n",
       "2              N      0.0       Up             0  \n",
       "3              Y      1.5     Flat             1  \n",
       "4              N      0.0       Up             0  "
      ]
     },
     "execution_count": 5,
     "metadata": {},
     "output_type": "execute_result"
    }
   ],
   "source": [
    "df.head()"
   ]
  },
  {
   "cell_type": "markdown",
   "id": "be44a4ab",
   "metadata": {
    "id": "be44a4ab"
   },
   "source": [
    "# EDA AND DATA PREPARATION/CLEANING"
   ]
  },
  {
   "cell_type": "code",
   "execution_count": 6,
   "id": "76f5b79b",
   "metadata": {
    "colab": {
     "base_uri": "https://localhost:8080/"
    },
    "id": "76f5b79b",
    "outputId": "5071409c-9893-4ead-af50-a1edb55360d0"
   },
   "outputs": [
    {
     "name": "stdout",
     "output_type": "stream",
     "text": [
      "<class 'pandas.core.frame.DataFrame'>\n",
      "RangeIndex: 918 entries, 0 to 917\n",
      "Data columns (total 12 columns):\n",
      " #   Column          Non-Null Count  Dtype  \n",
      "---  ------          --------------  -----  \n",
      " 0   Age             918 non-null    int64  \n",
      " 1   Sex             918 non-null    object \n",
      " 2   ChestPainType   918 non-null    object \n",
      " 3   RestingBP       918 non-null    int64  \n",
      " 4   Cholesterol     918 non-null    int64  \n",
      " 5   FastingBS       918 non-null    int64  \n",
      " 6   RestingECG      918 non-null    object \n",
      " 7   MaxHR           918 non-null    int64  \n",
      " 8   ExerciseAngina  918 non-null    object \n",
      " 9   Oldpeak         918 non-null    float64\n",
      " 10  ST_Slope        918 non-null    object \n",
      " 11  HeartDisease    918 non-null    int64  \n",
      "dtypes: float64(1), int64(6), object(5)\n",
      "memory usage: 86.2+ KB\n"
     ]
    }
   ],
   "source": [
    "df.info()"
   ]
  },
  {
   "cell_type": "code",
   "execution_count": 7,
   "id": "03fd2002",
   "metadata": {
    "colab": {
     "base_uri": "https://localhost:8080/"
    },
    "id": "03fd2002",
    "outputId": "e66fd533-645f-4bf5-9ef8-56f16640b463"
   },
   "outputs": [
    {
     "data": {
      "text/plain": [
       "Age               0\n",
       "Sex               0\n",
       "ChestPainType     0\n",
       "RestingBP         0\n",
       "Cholesterol       0\n",
       "FastingBS         0\n",
       "RestingECG        0\n",
       "MaxHR             0\n",
       "ExerciseAngina    0\n",
       "Oldpeak           0\n",
       "ST_Slope          0\n",
       "HeartDisease      0\n",
       "dtype: int64"
      ]
     },
     "execution_count": 7,
     "metadata": {},
     "output_type": "execute_result"
    }
   ],
   "source": [
    "df.isnull().sum()"
   ]
  },
  {
   "cell_type": "code",
   "execution_count": 8,
   "id": "61c0e683",
   "metadata": {
    "colab": {
     "base_uri": "https://localhost:8080/",
     "height": 349
    },
    "id": "61c0e683",
    "outputId": "69d4705c-0ce5-4953-de07-6e8c7739c0b2"
   },
   "outputs": [
    {
     "data": {
      "text/plain": [
       "<matplotlib.axes._subplots.AxesSubplot at 0x7fbf908eb390>"
      ]
     },
     "execution_count": 8,
     "metadata": {},
     "output_type": "execute_result"
    },
    {
     "data": {
      "image/png": "[encoded data removed]",
      "text/plain": [
       "<Figure size 432x288 with 1 Axes>"
      ]
     },
     "metadata": {
      "needs_background": "light"
     },
     "output_type": "display_data"
    }
   ],
   "source": [
    "sns.heatmap(df.isnull(),yticklabels=False,cbar=False,cmap='crest')"
   ]
  },
  {
   "cell_type": "code",
   "execution_count": 9,
   "id": "527e3f3f",
   "metadata": {
    "id": "527e3f3f"
   },
   "outputs": [],
   "source": [
    "df[df.select_dtypes(['object']).columns] = df.select_dtypes(['object']).apply(lambda x: x.astype('category'))"
   ]
  },
  {
   "cell_type": "code",
   "execution_count": 10,
   "id": "b2b68fab",
   "metadata": {
    "colab": {
     "base_uri": "https://localhost:8080/"
    },
    "id": "b2b68fab",
    "outputId": "a320980e-22f0-4854-e3fe-1ea5080e4510"
   },
   "outputs": [
    {
     "data": {
      "text/plain": [
       "Age                  int64\n",
       "Sex               category\n",
       "ChestPainType     category\n",
       "RestingBP            int64\n",
       "Cholesterol          int64\n",
       "FastingBS            int64\n",
       "RestingECG        category\n",
       "MaxHR                int64\n",
       "ExerciseAngina    category\n",
       "Oldpeak            float64\n",
       "ST_Slope          category\n",
       "HeartDisease         int64\n",
       "dtype: object"
      ]
     },
     "execution_count": 10,
     "metadata": {},
     "output_type": "execute_result"
    }
   ],
   "source": [
    "df.dtypes"
   ]
  },
  {
   "cell_type": "code",
   "execution_count": 11,
   "id": "2970e0e6",
   "metadata": {
    "colab": {
     "base_uri": "https://localhost:8080/"
    },
    "id": "2970e0e6",
    "outputId": "0005684e-704e-4f9f-9372-ed8de53238e7"
   },
   "outputs": [
    {
     "name": "stdout",
     "output_type": "stream",
     "text": [
      "<class 'pandas.core.frame.DataFrame'>\n",
      "RangeIndex: 918 entries, 0 to 917\n",
      "Data columns (total 12 columns):\n",
      " #   Column          Non-Null Count  Dtype   \n",
      "---  ------          --------------  -----   \n",
      " 0   Age             918 non-null    int64   \n",
      " 1   Sex             918 non-null    category\n",
      " 2   ChestPainType   918 non-null    category\n",
      " 3   RestingBP       918 non-null    int64   \n",
      " 4   Cholesterol     918 non-null    int64   \n",
      " 5   FastingBS       918 non-null    int64   \n",
      " 6   RestingECG      918 non-null    category\n",
      " 7   MaxHR           918 non-null    int64   \n",
      " 8   ExerciseAngina  918 non-null    category\n",
      " 9   Oldpeak         918 non-null    float64 \n",
      " 10  ST_Slope        918 non-null    category\n",
      " 11  HeartDisease    918 non-null    int64   \n",
      "dtypes: category(5), float64(1), int64(6)\n",
      "memory usage: 55.5 KB\n"
     ]
    }
   ],
   "source": [
    "df.info()"
   ]
  },
  {
   "cell_type": "code",
   "execution_count": 12,
   "id": "2d28fee8",
   "metadata": {
    "colab": {
     "base_uri": "https://localhost:8080/",
     "height": 300
    },
    "id": "2d28fee8",
    "outputId": "8bae402f-b7d3-48aa-fda5-3ebf7d6952c8"
   },
   "outputs": [
    {
     "data": {
      "text/html": [
       "\n",
       "  <div id=\"df-b0bde21c-534d-4441-8822-e070c5336eeb\">\n",
       "    <div class=\"colab-df-container\">\n",
       "      <div>\n",
       "<style scoped>\n",
       "    .dataframe tbody tr th:only-of-type {\n",
       "        vertical-align: middle;\n",
       "    }\n",
       "\n",
       "    .dataframe tbody tr th {\n",
       "        vertical-align: top;\n",
       "    }\n",
       "\n",
       "    .dataframe thead th {\n",
       "        text-align: right;\n",
       "    }\n",
       "</style>\n",
       "<table border=\"1\" class=\"dataframe\">\n",
       "  <thead>\n",
       "    <tr style=\"text-align: right;\">\n",
       "      <th></th>\n",
       "      <th>Age</th>\n",
       "      <th>RestingBP</th>\n",
       "      <th>Cholesterol</th>\n",
       "      <th>FastingBS</th>\n",
       "      <th>MaxHR</th>\n",
       "      <th>Oldpeak</th>\n",
       "      <th>HeartDisease</th>\n",
       "    </tr>\n",
       "  </thead>\n",
       "  <tbody>\n",
       "    <tr>\n",
       "      <th>count</th>\n",
       "      <td>918.000000</td>\n",
       "      <td>918.000000</td>\n",
       "      <td>918.000000</td>\n",
       "      <td>918.000000</td>\n",
       "      <td>918.000000</td>\n",
       "      <td>918.000000</td>\n",
       "      <td>918.000000</td>\n",
       "    </tr>\n",
       "    <tr>\n",
       "      <th>mean</th>\n",
       "      <td>53.510893</td>\n",
       "      <td>132.396514</td>\n",
       "      <td>198.799564</td>\n",
       "      <td>0.233115</td>\n",
       "      <td>136.809368</td>\n",
       "      <td>0.887364</td>\n",
       "      <td>0.553377</td>\n",
       "    </tr>\n",
       "    <tr>\n",
       "      <th>std</th>\n",
       "      <td>9.432617</td>\n",
       "      <td>18.514154</td>\n",
       "      <td>109.384145</td>\n",
       "      <td>0.423046</td>\n",
       "      <td>25.460334</td>\n",
       "      <td>1.066570</td>\n",
       "      <td>0.497414</td>\n",
       "    </tr>\n",
       "    <tr>\n",
       "      <th>min</th>\n",
       "      <td>28.000000</td>\n",
       "      <td>0.000000</td>\n",
       "      <td>0.000000</td>\n",
       "      <td>0.000000</td>\n",
       "      <td>60.000000</td>\n",
       "      <td>-2.600000</td>\n",
       "      <td>0.000000</td>\n",
       "    </tr>\n",
       "    <tr>\n",
       "      <th>25%</th>\n",
       "      <td>47.000000</td>\n",
       "      <td>120.000000</td>\n",
       "      <td>173.250000</td>\n",
       "      <td>0.000000</td>\n",
       "      <td>120.000000</td>\n",
       "      <td>0.000000</td>\n",
       "      <td>0.000000</td>\n",
       "    </tr>\n",
       "    <tr>\n",
       "      <th>50%</th>\n",
       "      <td>54.000000</td>\n",
       "      <td>130.000000</td>\n",
       "      <td>223.000000</td>\n",
       "      <td>0.000000</td>\n",
       "      <td>138.000000</td>\n",
       "      <td>0.600000</td>\n",
       "      <td>1.000000</td>\n",
       "    </tr>\n",
       "    <tr>\n",
       "      <th>75%</th>\n",
       "      <td>60.000000</td>\n",
       "      <td>140.000000</td>\n",
       "      <td>267.000000</td>\n",
       "      <td>0.000000</td>\n",
       "      <td>156.000000</td>\n",
       "      <td>1.500000</td>\n",
       "      <td>1.000000</td>\n",
       "    </tr>\n",
       "    <tr>\n",
       "      <th>max</th>\n",
       "      <td>77.000000</td>\n",
       "      <td>200.000000</td>\n",
       "      <td>603.000000</td>\n",
       "      <td>1.000000</td>\n",
       "      <td>202.000000</td>\n",
       "      <td>6.200000</td>\n",
       "      <td>1.000000</td>\n",
       "    </tr>\n",
       "  </tbody>\n",
       "</table>\n",
       "</div>\n",
       "      <button class=\"colab-df-convert\" onclick=\"convertToInteractive('df-b0bde21c-534d-4441-8822-e070c5336eeb')\"\n",
       "              title=\"Convert this dataframe to an interactive table.\"\n",
       "              style=\"display:none;\">\n",
       "        \n",
       "  <svg xmlns=\"http://www.w3.org/2000/svg\" height=\"24px\"viewBox=\"0 0 24 24\"\n",
       "       width=\"24px\">\n",
       "    <path d=\"M0 0h24v24H0V0z\" fill=\"none\"/>\n",
       "    <path d=\"M18.56 5.44l.94 2.06.94-2.06 2.06-.94-2.06-.94-.94-2.06-.94 2.06-2.06.94zm-11 1L8.5 8.5l.94-2.06 2.06-.94-2.06-.94L8.5 2.5l-.94 2.06-2.06.94zm10 10l.94 2.06.94-2.06 2.06-.94-2.06-.94-.94-2.06-.94 2.06-2.06.94z\"/><path d=\"M17.41 7.96l-1.37-1.37c-.4-.4-.92-.59-1.43-.59-.52 0-1.04.2-1.43.59L10.3 9.45l-7.72 7.72c-.78.78-.78 2.05 0 2.83L4 21.41c.39.39.9.59 1.41.59.51 0 1.02-.2 1.41-.59l7.78-7.78 2.81-2.81c.8-.78.8-2.07 0-2.86zM5.41 20L4 18.59l7.72-7.72 1.47 1.35L5.41 20z\"/>\n",
       "  </svg>\n",
       "      </button>\n",
       "      \n",
       "  <style>\n",
       "    .colab-df-container {\n",
       "      display:flex;\n",
       "      flex-wrap:wrap;\n",
       "      gap: 12px;\n",
       "    }\n",
       "\n",
       "    .colab-df-convert {\n",
       "      background-color: #E8F0FE;\n",
       "      border: none;\n",
       "      border-radius: 50%;\n",
       "      cursor: pointer;\n",
       "      display: none;\n",
       "      fill: #1967D2;\n",
       "      height: 32px;\n",
       "      padding: 0 0 0 0;\n",
       "      width: 32px;\n",
       "    }\n",
       "\n",
       "    .colab-df-convert:hover {\n",
       "      background-color: #E2EBFA;\n",
       "      box-shadow: 0px 1px 2px rgba(60, 64, 67, 0.3), 0px 1px 3px 1px rgba(60, 64, 67, 0.15);\n",
       "      fill: #174EA6;\n",
       "    }\n",
       "\n",
       "    [theme=dark] .colab-df-convert {\n",
       "      background-color: #3B4455;\n",
       "      fill: #D2E3FC;\n",
       "    }\n",
       "\n",
       "    [theme=dark] .colab-df-convert:hover {\n",
       "      background-color: #434B5C;\n",
       "      box-shadow: 0px 1px 3px 1px rgba(0, 0, 0, 0.15);\n",
       "      filter: drop-shadow(0px 1px 2px rgba(0, 0, 0, 0.3));\n",
       "      fill: #FFFFFF;\n",
       "    }\n",
       "  </style>\n",
       "\n",
       "      <script>\n",
       "        const buttonEl =\n",
       "          document.querySelector('#df-b0bde21c-534d-4441-8822-e070c5336eeb button.colab-df-convert');\n",
       "        buttonEl.style.display =\n",
       "          google.colab.kernel.accessAllowed ? 'block' : 'none';\n",
       "\n",
       "        async function convertToInteractive(key) {\n",
       "          const element = document.querySelector('#df-b0bde21c-534d-4441-8822-e070c5336eeb');\n",
       "          const dataTable =\n",
       "            await google.colab.kernel.invokeFunction('convertToInteractive',\n",
       "                                                     [key], {});\n",
       "          if (!dataTable) return;\n",
       "\n",
       "          const docLinkHtml = 'Like what you see? Visit the ' +\n",
       "            '<a target=\"_blank\" href=https://colab.research.google.com/notebooks/data_table.ipynb>data table notebook</a>'\n",
       "            + ' to learn more about interactive tables.';\n",
       "          element.innerHTML = '';\n",
       "          dataTable['output_type'] = 'display_data';\n",
       "          await google.colab.output.renderOutput(dataTable, element);\n",
       "          const docLink = document.createElement('div');\n",
       "          docLink.innerHTML = docLinkHtml;\n",
       "          element.appendChild(docLink);\n",
       "        }\n",
       "      </script>\n",
       "    </div>\n",
       "  </div>\n",
       "  "
      ],
      "text/plain": [
       "              Age   RestingBP  Cholesterol   FastingBS       MaxHR  \\\n",
       "count  918.000000  918.000000   918.000000  918.000000  918.000000   \n",
       "mean    53.510893  132.396514   198.799564    0.233115  136.809368   \n",
       "std      9.432617   18.514154   109.384145    0.423046   25.460334   \n",
       "min     28.000000    0.000000     0.000000    0.000000   60.000000   \n",
       "25%     47.000000  120.000000   173.250000    0.000000  120.000000   \n",
       "50%     54.000000  130.000000   223.000000    0.000000  138.000000   \n",
       "75%     60.000000  140.000000   267.000000    0.000000  156.000000   \n",
       "max     77.000000  200.000000   603.000000    1.000000  202.000000   \n",
       "\n",
       "          Oldpeak  HeartDisease  \n",
       "count  918.000000    918.000000  \n",
       "mean     0.887364      0.553377  \n",
       "std      1.066570      0.497414  \n",
       "min     -2.600000      0.000000  \n",
       "25%      0.000000      0.000000  \n",
       "50%      0.600000      1.000000  \n",
       "75%      1.500000      1.000000  \n",
       "max      6.200000      1.000000  "
      ]
     },
     "execution_count": 12,
     "metadata": {},
     "output_type": "execute_result"
    }
   ],
   "source": [
    "df.describe()"
   ]
  },
  {
   "cell_type": "code",
   "execution_count": 13,
   "id": "6e4b1305",
   "metadata": {
    "colab": {
     "base_uri": "https://localhost:8080/",
     "height": 559
    },
    "id": "6e4b1305",
    "outputId": "58e43898-a350-4dff-fd39-c7a608b0def7",
    "scrolled": true
   },
   "outputs": [
    {
     "data": {
      "text/plain": [
       "<matplotlib.axes._subplots.AxesSubplot at 0x7fbf90880a90>"
      ]
     },
     "execution_count": 13,
     "metadata": {},
     "output_type": "execute_result"
    },
    {
     "data": {
      "image/png": "[encoded data removed]",
      "text/plain": [
       "<Figure size 576x576 with 2 Axes>"
      ]
     },
     "metadata": {
      "needs_background": "light"
     },
     "output_type": "display_data"
    }
   ],
   "source": [
    "corr = df.corr()\n",
    "mask = np.triu(np.ones_like(corr, dtype=bool))\n",
    "ax = plt.subplots(figsize=(8,8))\n",
    "sns.heatmap(corr,mask=mask,annot=True)"
   ]
  },
  {
   "cell_type": "markdown",
   "id": "d82c6357",
   "metadata": {
    "id": "d82c6357"
   },
   "source": [
    "#### According to the correlation heatmap MaxHR and Oldpeak are the most highly correlated features to the target variable."
   ]
  },
  {
   "cell_type": "code",
   "execution_count": 14,
   "id": "1a955ea4",
   "metadata": {
    "colab": {
     "base_uri": "https://localhost:8080/",
     "height": 386
    },
    "id": "1a955ea4",
    "outputId": "725cfd92-178f-4a88-9346-24aea6cf4965"
   },
   "outputs": [
    {
     "data": {
      "text/plain": [
       "<seaborn.axisgrid.FacetGrid at 0x7fbf8dadb5d0>"
      ]
     },
     "execution_count": 14,
     "metadata": {},
     "output_type": "execute_result"
    },
    {
     "data": {
      "image/png": "[encoded data removed]",
      "text/plain": [
       "<Figure size 360x360 with 1 Axes>"
      ]
     },
     "metadata": {
      "needs_background": "light"
     },
     "output_type": "display_data"
    }
   ],
   "source": [
    "sns.displot(data=df,x='Age',kind='hist',bins=50)"
   ]
  },
  {
   "cell_type": "markdown",
   "id": "eaa23979",
   "metadata": {
    "id": "eaa23979"
   },
   "source": [
    "#### It seems age is normally distributed."
   ]
  },
  {
   "cell_type": "code",
   "execution_count": 15,
   "id": "3a9d7934",
   "metadata": {
    "colab": {
     "base_uri": "https://localhost:8080/",
     "height": 296
    },
    "id": "3a9d7934",
    "outputId": "fd55ddde-9281-405f-b76e-9800bc3d6edf"
   },
   "outputs": [
    {
     "data": {
      "text/plain": [
       "<matplotlib.axes._subplots.AxesSubplot at 0x7fbf8d904ad0>"
      ]
     },
     "execution_count": 15,
     "metadata": {},
     "output_type": "execute_result"
    },
    {
     "data": {
      "image/png": "[encoded data removed]",
      "text/plain": [
       "<Figure size 432x288 with 1 Axes>"
      ]
     },
     "metadata": {
      "needs_background": "light"
     },
     "output_type": "display_data"
    }
   ],
   "source": [
    "sns.countplot(data=df,x='Sex')"
   ]
  },
  {
   "cell_type": "markdown",
   "id": "eb146f63",
   "metadata": {
    "id": "eb146f63"
   },
   "source": [
    "#### Men have more chances of heart failure than women."
   ]
  },
  {
   "cell_type": "code",
   "execution_count": 16,
   "id": "0dff5f62",
   "metadata": {
    "colab": {
     "base_uri": "https://localhost:8080/",
     "height": 311
    },
    "id": "0dff5f62",
    "outputId": "28c4475d-c50d-4a49-87ed-4c9425ba7ee0"
   },
   "outputs": [
    {
     "data": {
      "text/plain": [
       "<matplotlib.axes._subplots.AxesSubplot at 0x7fbf8d8b51d0>"
      ]
     },
     "execution_count": 16,
     "metadata": {},
     "output_type": "execute_result"
    },
    {
     "data": {
      "image/png": "[encoded data removed]",
      "text/plain": [
       "<Figure size 432x288 with 1 Axes>"
      ]
     },
     "metadata": {
      "needs_background": "light"
     },
     "output_type": "display_data"
    }
   ],
   "source": [
    "df.groupby('Sex')['HeartDisease'].sum().plot(kind='bar',colormap='Paired',title='Heart failures by Genders',ylabel='Heart Failures')"
   ]
  },
  {
   "cell_type": "code",
   "execution_count": 17,
   "id": "57b1af49",
   "metadata": {
    "colab": {
     "base_uri": "https://localhost:8080/",
     "height": 296
    },
    "id": "57b1af49",
    "outputId": "38ffe11b-deee-4302-8e5d-b380b9fb8d86"
   },
   "outputs": [
    {
     "data": {
      "text/plain": [
       "<matplotlib.axes._subplots.AxesSubplot at 0x7fbf8d828190>"
      ]
     },
     "execution_count": 17,
     "metadata": {},
     "output_type": "execute_result"
    },
    {
     "data": {
      "image/png": "[encoded data removed]",
      "text/plain": [
       "<Figure size 432x288 with 1 Axes>"
      ]
     },
     "metadata": {
      "needs_background": "light"
     },
     "output_type": "display_data"
    }
   ],
   "source": [
    "sns.countplot(data=df,x='ChestPainType',palette='magma')"
   ]
  },
  {
   "cell_type": "code",
   "execution_count": 18,
   "id": "7c960702",
   "metadata": {
    "colab": {
     "base_uri": "https://localhost:8080/",
     "height": 323
    },
    "id": "7c960702",
    "outputId": "b189bc7d-e4fc-4718-ab40-930a90aeaeea"
   },
   "outputs": [
    {
     "data": {
      "text/plain": [
       "<matplotlib.axes._subplots.AxesSubplot at 0x7fbf8d79f090>"
      ]
     },
     "execution_count": 18,
     "metadata": {},
     "output_type": "execute_result"
    },
    {
     "data": {
      "image/png": "[encoded data removed]",
      "text/plain": [
       "<Figure size 432x288 with 1 Axes>"
      ]
     },
     "metadata": {
      "needs_background": "light"
     },
     "output_type": "display_data"
    }
   ],
   "source": [
    "df.groupby('ChestPainType')['HeartDisease'].sum().plot(kind='bar',colormap='Set1',title='Heart failures by types Chest Pain',ylabel='Heart Failures')"
   ]
  },
  {
   "cell_type": "markdown",
   "id": "8846e2a1",
   "metadata": {
    "id": "8846e2a1"
   },
   "source": [
    "#### Asymptomatic Angina results in most heart failures and we can clearly see the huge difference."
   ]
  },
  {
   "cell_type": "code",
   "execution_count": 19,
   "id": "095543f9",
   "metadata": {
    "colab": {
     "base_uri": "https://localhost:8080/",
     "height": 386
    },
    "id": "095543f9",
    "outputId": "09db19d3-87c6-4090-934f-4d5f2e938607"
   },
   "outputs": [
    {
     "data": {
      "text/plain": [
       "<seaborn.axisgrid.FacetGrid at 0x7fbf8d751290>"
      ]
     },
     "execution_count": 19,
     "metadata": {},
     "output_type": "execute_result"
    },
    {
     "data": {
      "image/png": "[encoded data removed]",
      "text/plain": [
       "<Figure size 360x360 with 1 Axes>"
      ]
     },
     "metadata": {
      "needs_background": "light"
     },
     "output_type": "display_data"
    }
   ],
   "source": [
    "sns.displot(data=df,x='RestingBP',kind='hist')"
   ]
  },
  {
   "cell_type": "code",
   "execution_count": 20,
   "id": "bdc18d59",
   "metadata": {
    "colab": {
     "base_uri": "https://localhost:8080/",
     "height": 386
    },
    "id": "bdc18d59",
    "outputId": "5531ffce-ef39-4b5c-a7d7-68ee14910645"
   },
   "outputs": [
    {
     "data": {
      "text/plain": [
       "<seaborn.axisgrid.FacetGrid at 0x7fbf8d674250>"
      ]
     },
     "execution_count": 20,
     "metadata": {},
     "output_type": "execute_result"
    },
    {
     "data": {
      "image/png": "[encoded data removed]",
      "text/plain": [
       "<Figure size 360x360 with 1 Axes>"
      ]
     },
     "metadata": {
      "needs_background": "light"
     },
     "output_type": "display_data"
    }
   ],
   "source": [
    "sns.displot(data=df,x='Cholesterol',kind='hist')"
   ]
  },
  {
   "cell_type": "markdown",
   "id": "e7bad66a",
   "metadata": {
    "id": "e7bad66a"
   },
   "source": [
    "#### We will try to scale both the above columns."
   ]
  },
  {
   "cell_type": "code",
   "execution_count": 21,
   "id": "4673b8d9",
   "metadata": {
    "colab": {
     "base_uri": "https://localhost:8080/",
     "height": 309
    },
    "id": "4673b8d9",
    "outputId": "9ea136ac-4570-4806-8023-8cf44f11737e"
   },
   "outputs": [
    {
     "data": {
      "text/plain": [
       "<matplotlib.axes._subplots.AxesSubplot at 0x7fbf8d61b0d0>"
      ]
     },
     "execution_count": 21,
     "metadata": {},
     "output_type": "execute_result"
    },
    {
     "data": {
      "image/png": "[encoded data removed]",
      "text/plain": [
       "<Figure size 432x288 with 1 Axes>"
      ]
     },
     "metadata": {
      "needs_background": "light"
     },
     "output_type": "display_data"
    }
   ],
   "source": [
    "df.groupby('FastingBS')['HeartDisease'].sum().plot(kind='bar',colormap='Set2',title='Heart failures by Fasting Blood Sugar',ylabel='Heart Failures')"
   ]
  },
  {
   "cell_type": "code",
   "execution_count": 22,
   "id": "7e1c1fd2",
   "metadata": {
    "colab": {
     "base_uri": "https://localhost:8080/",
     "height": 296
    },
    "id": "7e1c1fd2",
    "outputId": "389cef0f-12aa-40a1-f341-15795362c7c9"
   },
   "outputs": [
    {
     "data": {
      "text/plain": [
       "<matplotlib.axes._subplots.AxesSubplot at 0x7fbf8d530610>"
      ]
     },
     "execution_count": 22,
     "metadata": {},
     "output_type": "execute_result"
    },
    {
     "data": {
      "image/png": "[encoded data removed]",
      "text/plain": [
       "<Figure size 432x288 with 1 Axes>"
      ]
     },
     "metadata": {
      "needs_background": "light"
     },
     "output_type": "display_data"
    }
   ],
   "source": [
    "sns.countplot(data=df,x='FastingBS',palette='magma')"
   ]
  },
  {
   "cell_type": "markdown",
   "id": "df9d36c0",
   "metadata": {
    "id": "df9d36c0"
   },
   "source": [
    "#### Higher Fasting Blood Sugar levels leads to twice the amount of Heart failures than lower levels."
   ]
  },
  {
   "cell_type": "code",
   "execution_count": 23,
   "id": "b6891e84",
   "metadata": {
    "colab": {
     "base_uri": "https://localhost:8080/",
     "height": 296
    },
    "id": "b6891e84",
    "outputId": "b2f7be06-f817-4456-a589-05b4513ce120"
   },
   "outputs": [
    {
     "data": {
      "text/plain": [
       "<matplotlib.axes._subplots.AxesSubplot at 0x7fbf8da57f10>"
      ]
     },
     "execution_count": 23,
     "metadata": {},
     "output_type": "execute_result"
    },
    {
     "data": {
      "image/png": "[encoded data removed]",
      "text/plain": [
       "<Figure size 432x288 with 1 Axes>"
      ]
     },
     "metadata": {
      "needs_background": "light"
     },
     "output_type": "display_data"
    }
   ],
   "source": [
    "sns.countplot(data=df,x='RestingECG',palette='viridis')"
   ]
  },
  {
   "cell_type": "code",
   "execution_count": 24,
   "id": "dd40f053",
   "metadata": {
    "colab": {
     "base_uri": "https://localhost:8080/",
     "height": 338
    },
    "id": "dd40f053",
    "outputId": "cdc04260-fab2-4e42-f6a6-d4967c0a337b"
   },
   "outputs": [
    {
     "data": {
      "text/plain": [
       "<matplotlib.axes._subplots.AxesSubplot at 0x7fbf8d41b590>"
      ]
     },
     "execution_count": 24,
     "metadata": {},
     "output_type": "execute_result"
    },
    {
     "data": {
      "image/png": "[encoded data removed]",
      "text/plain": [
       "<Figure size 432x288 with 1 Axes>"
      ]
     },
     "metadata": {
      "needs_background": "light"
     },
     "output_type": "display_data"
    }
   ],
   "source": [
    "df.groupby('RestingECG')['HeartDisease'].sum().plot(kind='bar',colormap='Set3',title='Heart failures by Resting ECG',ylabel='Heart Failures')"
   ]
  },
  {
   "cell_type": "markdown",
   "id": "2fb68902",
   "metadata": {
    "id": "2fb68902"
   },
   "source": [
    "#### Normal ECG results in more heart failures than LVH or ST."
   ]
  },
  {
   "cell_type": "code",
   "execution_count": 25,
   "id": "09c3373c",
   "metadata": {
    "colab": {
     "base_uri": "https://localhost:8080/",
     "height": 386
    },
    "id": "09c3373c",
    "outputId": "8cd2d481-03b2-4a9c-b239-8950747cf42a"
   },
   "outputs": [
    {
     "data": {
      "text/plain": [
       "<seaborn.axisgrid.FacetGrid at 0x7fbf8d3d0b50>"
      ]
     },
     "execution_count": 25,
     "metadata": {},
     "output_type": "execute_result"
    },
    {
     "data": {
      "image/png": "[encoded data removed]",
      "text/plain": [
       "<Figure size 360x360 with 1 Axes>"
      ]
     },
     "metadata": {
      "needs_background": "light"
     },
     "output_type": "display_data"
    }
   ],
   "source": [
    "sns.displot(data=df,x='MaxHR',kind='hist',bins=50)"
   ]
  },
  {
   "cell_type": "markdown",
   "id": "05a030bf",
   "metadata": {
    "id": "05a030bf"
   },
   "source": [
    "#### It follows a normal distribution."
   ]
  },
  {
   "cell_type": "code",
   "execution_count": 26,
   "id": "c9d03a02",
   "metadata": {
    "colab": {
     "base_uri": "https://localhost:8080/",
     "height": 296
    },
    "id": "c9d03a02",
    "outputId": "c1fc4fe0-9009-4b98-f671-dda7cb8e6225"
   },
   "outputs": [
    {
     "data": {
      "text/plain": [
       "<matplotlib.axes._subplots.AxesSubplot at 0x7fbf8d429a50>"
      ]
     },
     "execution_count": 26,
     "metadata": {},
     "output_type": "execute_result"
    },
    {
     "data": {
      "image/png": "[encoded data removed]",
      "text/plain": [
       "<Figure size 432x288 with 1 Axes>"
      ]
     },
     "metadata": {
      "needs_background": "light"
     },
     "output_type": "display_data"
    }
   ],
   "source": [
    "sns.boxplot(data=df,y='MaxHR',x='HeartDisease',palette='magma')"
   ]
  },
  {
   "cell_type": "code",
   "execution_count": 27,
   "id": "96e50b15",
   "metadata": {
    "colab": {
     "base_uri": "https://localhost:8080/",
     "height": 296
    },
    "id": "96e50b15",
    "outputId": "3cee7ce8-47c2-4d0a-ccdd-9cf3296e8108"
   },
   "outputs": [
    {
     "data": {
      "text/plain": [
       "<matplotlib.axes._subplots.AxesSubplot at 0x7fbf8d220190>"
      ]
     },
     "execution_count": 27,
     "metadata": {},
     "output_type": "execute_result"
    },
    {
     "data": {
      "image/png": "[encoded data removed]",
      "text/plain": [
       "<Figure size 432x288 with 1 Axes>"
      ]
     },
     "metadata": {
      "needs_background": "light"
     },
     "output_type": "display_data"
    }
   ],
   "source": [
    "sns.countplot(data=df,x='ExerciseAngina',palette='viridis')"
   ]
  },
  {
   "cell_type": "code",
   "execution_count": 28,
   "id": "72429cf8",
   "metadata": {
    "colab": {
     "base_uri": "https://localhost:8080/",
     "height": 310
    },
    "id": "72429cf8",
    "outputId": "1d95c2f2-accd-47c2-e26e-be094cbdb81e"
   },
   "outputs": [
    {
     "data": {
      "text/plain": [
       "<matplotlib.axes._subplots.AxesSubplot at 0x7fbf8d185150>"
      ]
     },
     "execution_count": 28,
     "metadata": {},
     "output_type": "execute_result"
    },
    {
     "data": {
      "image/png": "[encoded data removed]",
      "text/plain": [
       "<Figure size 432x288 with 1 Axes>"
      ]
     },
     "metadata": {
      "needs_background": "light"
     },
     "output_type": "display_data"
    }
   ],
   "source": [
    "df.groupby('ExerciseAngina')['HeartDisease'].sum().plot(kind='bar',colormap='Set1',title='Heart failures by ExerciseAngina',ylabel='Heart Failures')"
   ]
  },
  {
   "cell_type": "markdown",
   "id": "ea404683",
   "metadata": {
    "id": "ea404683"
   },
   "source": [
    "#### Exercise induced Angina results in more heart failures. "
   ]
  },
  {
   "cell_type": "code",
   "execution_count": 29,
   "id": "0f23605c",
   "metadata": {
    "colab": {
     "base_uri": "https://localhost:8080/",
     "height": 386
    },
    "id": "0f23605c",
    "outputId": "626e7d16-7d3c-4a20-808c-796d5acd8b7b"
   },
   "outputs": [
    {
     "data": {
      "text/plain": [
       "<seaborn.axisgrid.FacetGrid at 0x7fbf8d1b1d50>"
      ]
     },
     "execution_count": 29,
     "metadata": {},
     "output_type": "execute_result"
    },
    {
     "data": {
      "image/png": "[encoded data removed]",
      "text/plain": [
       "<Figure size 360x360 with 1 Axes>"
      ]
     },
     "metadata": {
      "needs_background": "light"
     },
     "output_type": "display_data"
    }
   ],
   "source": [
    "sns.displot(data=df,x='Oldpeak',kind='hist',bins=50)"
   ]
  },
  {
   "cell_type": "code",
   "execution_count": 30,
   "id": "c1aaf763",
   "metadata": {
    "colab": {
     "base_uri": "https://localhost:8080/",
     "height": 296
    },
    "id": "c1aaf763",
    "outputId": "b7c3c284-c5d7-4e68-af0f-3bdfbc2c63c0"
   },
   "outputs": [
    {
     "data": {
      "text/plain": [
       "<matplotlib.axes._subplots.AxesSubplot at 0x7fbf8d004390>"
      ]
     },
     "execution_count": 30,
     "metadata": {},
     "output_type": "execute_result"
    },
    {
     "data": {
      "image/png": "[encoded data removed]",
      "text/plain": [
       "<Figure size 432x288 with 1 Axes>"
      ]
     },
     "metadata": {
      "needs_background": "light"
     },
     "output_type": "display_data"
    }
   ],
   "source": [
    "sns.boxplot(data=df,y='Oldpeak',x='HeartDisease',palette='inferno')"
   ]
  },
  {
   "cell_type": "code",
   "execution_count": 31,
   "id": "41e998be",
   "metadata": {
    "colab": {
     "base_uri": "https://localhost:8080/",
     "height": 297
    },
    "id": "41e998be",
    "outputId": "b7eeaaa6-df5b-4cbf-943a-2b8840f12234"
   },
   "outputs": [
    {
     "data": {
      "text/plain": [
       "<matplotlib.axes._subplots.AxesSubplot at 0x7fbf8cffae90>"
      ]
     },
     "execution_count": 31,
     "metadata": {},
     "output_type": "execute_result"
    },
    {
     "data": {
      "image/png": "[encoded data removed]",
      "text/plain": [
       "<Figure size 432x288 with 1 Axes>"
      ]
     },
     "metadata": {
      "needs_background": "light"
     },
     "output_type": "display_data"
    }
   ],
   "source": [
    "sns.countplot(data=df,x='ST_Slope',palette='inferno')"
   ]
  },
  {
   "cell_type": "code",
   "execution_count": 32,
   "id": "d894ef36",
   "metadata": {
    "colab": {
     "base_uri": "https://localhost:8080/",
     "height": 331
    },
    "id": "d894ef36",
    "outputId": "79e575c7-425f-4fb5-8ab4-cce632f62f38"
   },
   "outputs": [
    {
     "data": {
      "text/plain": [
       "<matplotlib.axes._subplots.AxesSubplot at 0x7fbf8cf593d0>"
      ]
     },
     "execution_count": 32,
     "metadata": {},
     "output_type": "execute_result"
    },
    {
     "data": {
      "image/png": "[encoded data removed]",
      "text/plain": [
       "<Figure size 432x288 with 1 Axes>"
      ]
     },
     "metadata": {
      "needs_background": "light"
     },
     "output_type": "display_data"
    }
   ],
   "source": [
    "df.groupby('ST_Slope')['HeartDisease'].sum().plot(kind='bar',colormap='Set2',title='Heart failures by STSlope',ylabel='Heart Failures')"
   ]
  },
  {
   "cell_type": "markdown",
   "id": "096677b1",
   "metadata": {
    "id": "096677b1"
   },
   "source": [
    "#### Flat slope records more heart failures."
   ]
  },
  {
   "cell_type": "markdown",
   "id": "f47237a3",
   "metadata": {
    "id": "f47237a3"
   },
   "source": [
    "#### Splitting the dataset"
   ]
  },
  {
   "cell_type": "code",
   "execution_count": 33,
   "id": "mUMtNkTMTmH1",
   "metadata": {
    "id": "mUMtNkTMTmH1"
   },
   "outputs": [],
   "source": [
    "from sklearn.model_selection import train_test_split\n",
    "from sklearn.metrics import roc_auc_score"
   ]
  },
  {
   "cell_type": "code",
   "execution_count": 34,
   "id": "3n8k6EgqUsll",
   "metadata": {
    "id": "3n8k6EgqUsll"
   },
   "outputs": [],
   "source": [
    "df_full_train,df_test = train_test_split(df,test_size=0.1,random_state=1)\n",
    "df_train,df_val = train_test_split(df_full_train,test_size=0.11111,random_state=1)"
   ]
  },
  {
   "cell_type": "code",
   "execution_count": 35,
   "id": "A3oZ7V7IVnoQ",
   "metadata": {
    "colab": {
     "base_uri": "https://localhost:8080/"
    },
    "id": "A3oZ7V7IVnoQ",
    "outputId": "1804fcc4-63f0-42cb-e400-c897b4b60081"
   },
   "outputs": [
    {
     "data": {
      "text/plain": [
       "(734, 92, 92)"
      ]
     },
     "execution_count": 35,
     "metadata": {},
     "output_type": "execute_result"
    }
   ],
   "source": [
    "len(df_train),len(df_val),len(df_test)"
   ]
  },
  {
   "cell_type": "code",
   "execution_count": 36,
   "id": "jAd3IZm2Uqxt",
   "metadata": {
    "id": "jAd3IZm2Uqxt"
   },
   "outputs": [],
   "source": [
    "y_train = df_train['HeartDisease'].values\n",
    "y_val = df_val['HeartDisease'].values\n",
    "y_test = df_test['HeartDisease'].values"
   ]
  },
  {
   "cell_type": "code",
   "execution_count": 37,
   "id": "ss66x09oXknV",
   "metadata": {
    "id": "ss66x09oXknV"
   },
   "outputs": [],
   "source": [
    "del df_train['HeartDisease']\n",
    "del df_val['HeartDisease']\n",
    "del df_test['HeartDisease']"
   ]
  },
  {
   "cell_type": "markdown",
   "id": "AcITNvjnpSET",
   "metadata": {
    "id": "AcITNvjnpSET"
   },
   "source": [
    "#### Using ROC-AUC to determine feature importance."
   ]
  },
  {
   "cell_type": "code",
   "execution_count": 38,
   "id": "j--n2iWaYl3P",
   "metadata": {
    "id": "j--n2iWaYl3P"
   },
   "outputs": [],
   "source": [
    "dt = df_train.copy()"
   ]
  },
  {
   "cell_type": "code",
   "execution_count": 39,
   "id": "upKgU2CWY6bL",
   "metadata": {
    "colab": {
     "base_uri": "https://localhost:8080/",
     "height": 206
    },
    "id": "upKgU2CWY6bL",
    "outputId": "c7e28c7d-3e06-44ac-d042-a7f718119f0d"
   },
   "outputs": [
    {
     "data": {
      "text/html": [
       "\n",
       "  <div id=\"df-1a8f6207-9e13-43e4-9c70-f323ffec5f8f\">\n",
       "    <div class=\"colab-df-container\">\n",
       "      <div>\n",
       "<style scoped>\n",
       "    .dataframe tbody tr th:only-of-type {\n",
       "        vertical-align: middle;\n",
       "    }\n",
       "\n",
       "    .dataframe tbody tr th {\n",
       "        vertical-align: top;\n",
       "    }\n",
       "\n",
       "    .dataframe thead th {\n",
       "        text-align: right;\n",
       "    }\n",
       "</style>\n",
       "<table border=\"1\" class=\"dataframe\">\n",
       "  <thead>\n",
       "    <tr style=\"text-align: right;\">\n",
       "      <th></th>\n",
       "      <th>Age</th>\n",
       "      <th>Sex</th>\n",
       "      <th>ChestPainType</th>\n",
       "      <th>RestingBP</th>\n",
       "      <th>Cholesterol</th>\n",
       "      <th>FastingBS</th>\n",
       "      <th>RestingECG</th>\n",
       "      <th>MaxHR</th>\n",
       "      <th>ExerciseAngina</th>\n",
       "      <th>Oldpeak</th>\n",
       "      <th>ST_Slope</th>\n",
       "    </tr>\n",
       "  </thead>\n",
       "  <tbody>\n",
       "    <tr>\n",
       "      <th>305</th>\n",
       "      <td>51</td>\n",
       "      <td>0</td>\n",
       "      <td>3</td>\n",
       "      <td>120</td>\n",
       "      <td>0</td>\n",
       "      <td>1</td>\n",
       "      <td>1</td>\n",
       "      <td>127</td>\n",
       "      <td>1</td>\n",
       "      <td>1.5</td>\n",
       "      <td>2</td>\n",
       "    </tr>\n",
       "    <tr>\n",
       "      <th>402</th>\n",
       "      <td>65</td>\n",
       "      <td>1</td>\n",
       "      <td>3</td>\n",
       "      <td>145</td>\n",
       "      <td>0</td>\n",
       "      <td>1</td>\n",
       "      <td>2</td>\n",
       "      <td>67</td>\n",
       "      <td>0</td>\n",
       "      <td>0.7</td>\n",
       "      <td>1</td>\n",
       "    </tr>\n",
       "    <tr>\n",
       "      <th>321</th>\n",
       "      <td>63</td>\n",
       "      <td>1</td>\n",
       "      <td>3</td>\n",
       "      <td>100</td>\n",
       "      <td>0</td>\n",
       "      <td>1</td>\n",
       "      <td>1</td>\n",
       "      <td>109</td>\n",
       "      <td>0</td>\n",
       "      <td>-0.9</td>\n",
       "      <td>1</td>\n",
       "    </tr>\n",
       "    <tr>\n",
       "      <th>869</th>\n",
       "      <td>59</td>\n",
       "      <td>1</td>\n",
       "      <td>2</td>\n",
       "      <td>150</td>\n",
       "      <td>212</td>\n",
       "      <td>1</td>\n",
       "      <td>1</td>\n",
       "      <td>157</td>\n",
       "      <td>0</td>\n",
       "      <td>1.6</td>\n",
       "      <td>2</td>\n",
       "    </tr>\n",
       "    <tr>\n",
       "      <th>463</th>\n",
       "      <td>51</td>\n",
       "      <td>1</td>\n",
       "      <td>3</td>\n",
       "      <td>128</td>\n",
       "      <td>0</td>\n",
       "      <td>0</td>\n",
       "      <td>1</td>\n",
       "      <td>107</td>\n",
       "      <td>0</td>\n",
       "      <td>0.0</td>\n",
       "      <td>2</td>\n",
       "    </tr>\n",
       "  </tbody>\n",
       "</table>\n",
       "</div>\n",
       "      <button class=\"colab-df-convert\" onclick=\"convertToInteractive('df-1a8f6207-9e13-43e4-9c70-f323ffec5f8f')\"\n",
       "              title=\"Convert this dataframe to an interactive table.\"\n",
       "              style=\"display:none;\">\n",
       "        \n",
       "  <svg xmlns=\"http://www.w3.org/2000/svg\" height=\"24px\"viewBox=\"0 0 24 24\"\n",
       "       width=\"24px\">\n",
       "    <path d=\"M0 0h24v24H0V0z\" fill=\"none\"/>\n",
       "    <path d=\"M18.56 5.44l.94 2.06.94-2.06 2.06-.94-2.06-.94-.94-2.06-.94 2.06-2.06.94zm-11 1L8.5 8.5l.94-2.06 2.06-.94-2.06-.94L8.5 2.5l-.94 2.06-2.06.94zm10 10l.94 2.06.94-2.06 2.06-.94-2.06-.94-.94-2.06-.94 2.06-2.06.94z\"/><path d=\"M17.41 7.96l-1.37-1.37c-.4-.4-.92-.59-1.43-.59-.52 0-1.04.2-1.43.59L10.3 9.45l-7.72 7.72c-.78.78-.78 2.05 0 2.83L4 21.41c.39.39.9.59 1.41.59.51 0 1.02-.2 1.41-.59l7.78-7.78 2.81-2.81c.8-.78.8-2.07 0-2.86zM5.41 20L4 18.59l7.72-7.72 1.47 1.35L5.41 20z\"/>\n",
       "  </svg>\n",
       "      </button>\n",
       "      \n",
       "  <style>\n",
       "    .colab-df-container {\n",
       "      display:flex;\n",
       "      flex-wrap:wrap;\n",
       "      gap: 12px;\n",
       "    }\n",
       "\n",
       "    .colab-df-convert {\n",
       "      background-color: #E8F0FE;\n",
       "      border: none;\n",
       "      border-radius: 50%;\n",
       "      cursor: pointer;\n",
       "      display: none;\n",
       "      fill: #1967D2;\n",
       "      height: 32px;\n",
       "      padding: 0 0 0 0;\n",
       "      width: 32px;\n",
       "    }\n",
       "\n",
       "    .colab-df-convert:hover {\n",
       "      background-color: #E2EBFA;\n",
       "      box-shadow: 0px 1px 2px rgba(60, 64, 67, 0.3), 0px 1px 3px 1px rgba(60, 64, 67, 0.15);\n",
       "      fill: #174EA6;\n",
       "    }\n",
       "\n",
       "    [theme=dark] .colab-df-convert {\n",
       "      background-color: #3B4455;\n",
       "      fill: #D2E3FC;\n",
       "    }\n",
       "\n",
       "    [theme=dark] .colab-df-convert:hover {\n",
       "      background-color: #434B5C;\n",
       "      box-shadow: 0px 1px 3px 1px rgba(0, 0, 0, 0.15);\n",
       "      filter: drop-shadow(0px 1px 2px rgba(0, 0, 0, 0.3));\n",
       "      fill: #FFFFFF;\n",
       "    }\n",
       "  </style>\n",
       "\n",
       "      <script>\n",
       "        const buttonEl =\n",
       "          document.querySelector('#df-1a8f6207-9e13-43e4-9c70-f323ffec5f8f button.colab-df-convert');\n",
       "        buttonEl.style.display =\n",
       "          google.colab.kernel.accessAllowed ? 'block' : 'none';\n",
       "\n",
       "        async function convertToInteractive(key) {\n",
       "          const element = document.querySelector('#df-1a8f6207-9e13-43e4-9c70-f323ffec5f8f');\n",
       "          const dataTable =\n",
       "            await google.colab.kernel.invokeFunction('convertToInteractive',\n",
       "                                                     [key], {});\n",
       "          if (!dataTable) return;\n",
       "\n",
       "          const docLinkHtml = 'Like what you see? Visit the ' +\n",
       "            '<a target=\"_blank\" href=https://colab.research.google.com/notebooks/data_table.ipynb>data table notebook</a>'\n",
       "            + ' to learn more about interactive tables.';\n",
       "          element.innerHTML = '';\n",
       "          dataTable['output_type'] = 'display_data';\n",
       "          await google.colab.output.renderOutput(dataTable, element);\n",
       "          const docLink = document.createElement('div');\n",
       "          docLink.innerHTML = docLinkHtml;\n",
       "          element.appendChild(docLink);\n",
       "        }\n",
       "      </script>\n",
       "    </div>\n",
       "  </div>\n",
       "  "
      ],
      "text/plain": [
       "     Age Sex ChestPainType  RestingBP  Cholesterol  FastingBS RestingECG  \\\n",
       "305   51   0             3        120            0          1          1   \n",
       "402   65   1             3        145            0          1          2   \n",
       "321   63   1             3        100            0          1          1   \n",
       "869   59   1             2        150          212          1          1   \n",
       "463   51   1             3        128            0          0          1   \n",
       "\n",
       "     MaxHR ExerciseAngina  Oldpeak ST_Slope  \n",
       "305    127              1      1.5        2  \n",
       "402     67              0      0.7        1  \n",
       "321    109              0     -0.9        1  \n",
       "869    157              0      1.6        2  \n",
       "463    107              0      0.0        2  "
      ]
     },
     "execution_count": 39,
     "metadata": {},
     "output_type": "execute_result"
    }
   ],
   "source": [
    "dt['Sex'] = dt['Sex'].apply(lambda x:1 if (x=='M') else 0)\n",
    "cpt = {\n",
    "    'ATA':1,\n",
    "    'NAP':2,\n",
    "    'ASY':3,\n",
    "    'TA':0\n",
    "}\n",
    "dt['ChestPainType'] = dt['ChestPainType'].map(cpt)\n",
    "recg = {\n",
    "    'LVH':0,\n",
    "    'Normal':1,\n",
    "    'ST':2\n",
    "}\n",
    "dt['RestingECG'] = dt['RestingECG'].map(recg)\n",
    "dt['ExerciseAngina'] = dt['ExerciseAngina'].apply(lambda x:1 if (x=='Y') else 0)\n",
    "sts = {\n",
    "    'Down':0,\n",
    "    'Flat':1,\n",
    "    'Up':2\n",
    "}\n",
    "dt['ST_Slope'] = dt['ST_Slope'].map(sts)\n",
    "dt.head()"
   ]
  },
  {
   "cell_type": "code",
   "execution_count": 40,
   "id": "f6H-Af_anlA7",
   "metadata": {
    "id": "f6H-Af_anlA7"
   },
   "outputs": [],
   "source": [
    "dt[dt.select_dtypes(['category']).columns] = dt.select_dtypes(['category']).apply(lambda x: x.astype('int64'))"
   ]
  },
  {
   "cell_type": "code",
   "execution_count": 41,
   "id": "JSnblhl_X8k-",
   "metadata": {
    "colab": {
     "base_uri": "https://localhost:8080/"
    },
    "id": "JSnblhl_X8k-",
    "outputId": "b0dd8126-844a-42ba-e055-c020a85c5a9f"
   },
   "outputs": [
    {
     "name": "stdout",
     "output_type": "stream",
     "text": [
      "{'Age': 0.665179374213271, 'Sex': 0.6279595995923994, 'ChestPainType': 0.7611116106215908, 'RestingBP': 0.5661714020260146, 'Cholesterol': 0.5963855421686747, 'FastingBS': 0.615918899478511, 'RestingECG': 0.5427081460169033, 'MaxHR': 0.7357751903134928, 'ExerciseAngina': 0.7493930947671283, 'Oldpeak': 0.7223221243181682, 'ST_Slope': 0.7948585386321405}\n"
     ]
    }
   ],
   "source": [
    "dic = {}\n",
    "for i in list(dt.columns):\n",
    "    auc = roc_auc_score(y_train, dt[i])\n",
    "    if auc < 0.5:\n",
    "        auc = roc_auc_score(y_train, -dt[i])\n",
    "    dic[i]=auc\n",
    "print(dic)    "
   ]
  },
  {
   "cell_type": "code",
   "execution_count": 42,
   "id": "0OkJwxR9hsI8",
   "metadata": {
    "colab": {
     "base_uri": "https://localhost:8080/",
     "height": 35
    },
    "id": "0OkJwxR9hsI8",
    "outputId": "53927313-7d58-45dc-f78a-49d868e8494d"
   },
   "outputs": [
    {
     "data": {
      "application/vnd.google.colaboratory.intrinsic+json": {
       "type": "string"
      },
      "text/plain": [
       "'ST_Slope'"
      ]
     },
     "execution_count": 42,
     "metadata": {},
     "output_type": "execute_result"
    }
   ],
   "source": [
    "max(dic, key=dic.get)"
   ]
  },
  {
   "cell_type": "code",
   "execution_count": 43,
   "id": "Zhs_yJyWkZ3r",
   "metadata": {
    "colab": {
     "base_uri": "https://localhost:8080/",
     "height": 317
    },
    "id": "Zhs_yJyWkZ3r",
    "outputId": "641bd805-71ca-4b10-b60d-8cbaecb21c71"
   },
   "outputs": [
    {
     "data": {
      "image/png": "[encoded data removed]",
      "text/plain": [
       "<Figure size 432x288 with 1 Axes>"
      ]
     },
     "metadata": {
      "needs_background": "light"
     },
     "output_type": "display_data"
    }
   ],
   "source": [
    "lists = sorted(dic.items())\n",
    "x, y = zip(*lists)\n",
    "plt.bar(x,y)\n",
    "plt.xticks(rotation=45)\n",
    "plt.show()"
   ]
  },
  {
   "cell_type": "markdown",
   "id": "jHRYNpfhiClk",
   "metadata": {
    "id": "jHRYNpfhiClk"
   },
   "source": [
    "#### According to ROC-AUC score every feature plays an important role however ST_Slope seems to be the one of the most important features here. "
   ]
  },
  {
   "cell_type": "markdown",
   "id": "ZEhOLrvbptWf",
   "metadata": {
    "id": "ZEhOLrvbptWf"
   },
   "source": [
    "#### Encoding the data using DictVectorizer and Scaling the data using MinMaxScaler."
   ]
  },
  {
   "cell_type": "code",
   "execution_count": 44,
   "id": "X91590Jxpq_2",
   "metadata": {
    "id": "X91590Jxpq_2"
   },
   "outputs": [],
   "source": [
    "columns_to_encode = ['Sex','ChestPainType','FastingBS','RestingECG','ExerciseAngina','ST_Slope']\n",
    "columns_to_scale  = ['Age', 'RestingBP','Cholesterol','MaxHR','Oldpeak']"
   ]
  },
  {
   "cell_type": "code",
   "execution_count": 45,
   "id": "mx2b3JrWh3q5",
   "metadata": {
    "id": "mx2b3JrWh3q5"
   },
   "outputs": [],
   "source": [
    "from sklearn.feature_extraction import DictVectorizer\n",
    "from sklearn.preprocessing import MinMaxScaler"
   ]
  },
  {
   "cell_type": "code",
   "execution_count": 46,
   "id": "XGijjguvn0Ju",
   "metadata": {
    "id": "XGijjguvn0Ju"
   },
   "outputs": [],
   "source": [
    "scaler = MinMaxScaler()\n",
    "dv = DictVectorizer(sparse=False)\n",
    "train_dicts = df_train[columns_to_encode].to_dict(orient='records')\n",
    "scaled_columns  = scaler.fit_transform(df_train[columns_to_scale]) \n",
    "encoded_columns = dv.fit_transform(train_dicts)\n",
    "X_train = np.concatenate([scaled_columns, encoded_columns], axis=1)"
   ]
  },
  {
   "cell_type": "code",
   "execution_count": 47,
   "id": "vBdg3eEMn0pB",
   "metadata": {
    "id": "vBdg3eEMn0pB"
   },
   "outputs": [],
   "source": [
    "scaled_vcolumns  = scaler.transform(df_val[columns_to_scale])\n",
    "val_dicts = df_val[columns_to_encode].to_dict(orient='records')\n",
    "encoded_vcolumns = dv.transform(val_dicts)\n",
    "X_val = np.concatenate([scaled_vcolumns, encoded_vcolumns], axis=1)"
   ]
  },
  {
   "cell_type": "markdown",
   "id": "ESAsFDmb_4es",
   "metadata": {
    "id": "ESAsFDmb_4es"
   },
   "source": [
    "# MODEL TRAINING"
   ]
  },
  {
   "cell_type": "code",
   "execution_count": 48,
   "id": "u8JcQrGOn1Su",
   "metadata": {
    "id": "u8JcQrGOn1Su"
   },
   "outputs": [],
   "source": [
    "from sklearn.ensemble import RandomForestClassifier\n",
    "from sklearn.ensemble import GradientBoostingClassifier\n",
    "from sklearn.metrics import ConfusionMatrixDisplay\n",
    "from sklearn.linear_model import LogisticRegression\n",
    "from sklearn.model_selection import cross_val_score,KFold\n",
    "from sklearn.metrics import accuracy_score\n",
    "from sklearn.metrics import classification_report\n",
    "import xgboost as xgb"
   ]
  },
  {
   "cell_type": "code",
   "execution_count": 49,
   "id": "0ICJ0829BP33",
   "metadata": {
    "id": "0ICJ0829BP33"
   },
   "outputs": [],
   "source": [
    "def fit_predict(model):\n",
    "    \"\"\"The following code makes faster to evaluate a model \n",
    "    automating the fit and accuracy process\"\"\"\n",
    "    global predictions\n",
    "    model.fit(X_train, y_train)\n",
    "    predictions = model.predict(X_val)\n",
    "    kf = KFold(n_splits=5,shuffle=True,random_state=42)\n",
    "    cv = cross_val_score(model,X_train, y_train, cv=kf, scoring='accuracy')\n",
    "    return accuracy_score(y_val, predictions),np.mean(cv)"
   ]
  },
  {
   "cell_type": "code",
   "execution_count": 50,
   "id": "wvnOMqWlNf4R",
   "metadata": {
    "id": "wvnOMqWlNf4R"
   },
   "outputs": [],
   "source": [
    "model1 = LogisticRegression()\n",
    "model2 = RandomForestClassifier()\n",
    "model3 = GradientBoostingClassifier()\n",
    "model4 = xgb.XGBClassifier(objective='binary:logistic')\n",
    "models = [model1,model2,model3,model4]"
   ]
  },
  {
   "cell_type": "code",
   "execution_count": 51,
   "id": "AJXi-DGSNKsp",
   "metadata": {
    "colab": {
     "base_uri": "https://localhost:8080/",
     "height": 1000
    },
    "id": "AJXi-DGSNKsp",
    "outputId": "9c7bdeb1-52b4-433b-8648-69f852443d4e"
   },
   "outputs": [
    {
     "name": "stdout",
     "output_type": "stream",
     "text": [
      "Model  1 : LogisticRegression()\n",
      "Accuracy and MeanCV score:  (0.9021739130434783, 0.85284689218153)\n",
      "ROC-AUC score:  0.8974175035868005\n",
      "Classification Report: \n",
      "               precision    recall  f1-score   support\n",
      "\n",
      "           0       0.92      0.85      0.89        41\n",
      "           1       0.89      0.94      0.91        51\n",
      "\n",
      "    accuracy                           0.90        92\n",
      "   macro avg       0.90      0.90      0.90        92\n",
      "weighted avg       0.90      0.90      0.90        92\n",
      "\n",
      "Confusion Matrix for  LogisticRegression() \n",
      "\n"
     ]
    },
    {
     "data": {
      "image/png": "[encoded data removed]",
      "text/plain": [
       "<Figure size 432x288 with 2 Axes>"
      ]
     },
     "metadata": {
      "needs_background": "light"
     },
     "output_type": "display_data"
    },
    {
     "name": "stdout",
     "output_type": "stream",
     "text": [
      "Model  2 : RandomForestClassifier()\n",
      "Accuracy and MeanCV score:  (0.8478260869565217, 0.8582890690522784)\n",
      "ROC-AUC score:  0.8483978957436633\n",
      "Classification Report: \n",
      "               precision    recall  f1-score   support\n",
      "\n",
      "           0       0.81      0.85      0.83        41\n",
      "           1       0.88      0.84      0.86        51\n",
      "\n",
      "    accuracy                           0.85        92\n",
      "   macro avg       0.85      0.85      0.85        92\n",
      "weighted avg       0.85      0.85      0.85        92\n",
      "\n",
      "Confusion Matrix for  RandomForestClassifier() \n",
      "\n"
     ]
    },
    {
     "data": {
      "image/png": "[encoded data removed]",
      "text/plain": [
       "<Figure size 432x288 with 2 Axes>"
      ]
     },
     "metadata": {
      "needs_background": "light"
     },
     "output_type": "display_data"
    },
    {
     "name": "stdout",
     "output_type": "stream",
     "text": [
      "Model  3 : GradientBoostingClassifier()\n",
      "Accuracy and MeanCV score:  (0.8260869565217391, 0.8651197465287485)\n",
      "ROC-AUC score:  0.8311812529890005\n",
      "Classification Report: \n",
      "               precision    recall  f1-score   support\n",
      "\n",
      "           0       0.77      0.88      0.82        41\n",
      "           1       0.89      0.78      0.83        51\n",
      "\n",
      "    accuracy                           0.83        92\n",
      "   macro avg       0.83      0.83      0.83        92\n",
      "weighted avg       0.83      0.83      0.83        92\n",
      "\n",
      "Confusion Matrix for  GradientBoostingClassifier() \n",
      "\n"
     ]
    },
    {
     "data": {
      "image/png": "[encoded data removed]",
      "text/plain": [
       "<Figure size 432x288 with 2 Axes>"
      ]
     },
     "metadata": {
      "needs_background": "light"
     },
     "output_type": "display_data"
    },
    {
     "name": "stdout",
     "output_type": "stream",
     "text": [
      "Model  4 : XGBClassifier()\n",
      "Accuracy and MeanCV score:  (0.8478260869565217, 0.8678408349641227)\n",
      "ROC-AUC score:  0.8531802965088474\n",
      "Classification Report: \n",
      "               precision    recall  f1-score   support\n",
      "\n",
      "           0       0.79      0.90      0.84        41\n",
      "           1       0.91      0.80      0.85        51\n",
      "\n",
      "    accuracy                           0.85        92\n",
      "   macro avg       0.85      0.85      0.85        92\n",
      "weighted avg       0.86      0.85      0.85        92\n",
      "\n",
      "Confusion Matrix for  XGBClassifier() \n",
      "\n"
     ]
    },
    {
     "data": {
      "image/png": "[encoded data removed]",
      "text/plain": [
       "<Figure size 432x288 with 2 Axes>"
      ]
     },
     "metadata": {
      "needs_background": "light"
     },
     "output_type": "display_data"
    }
   ],
   "source": [
    "i = 0\n",
    "for model in models:\n",
    "    i +=1\n",
    "    print(\"Model \", i,\":\", model)\n",
    "    print(\"Accuracy and MeanCV score: \", fit_predict(model))\n",
    "    print(\"ROC-AUC score: \", roc_auc_score(y_val,predictions))\n",
    "    print(\"Classification Report: \\n\", classification_report(y_val,predictions))\n",
    "    print(\"Confusion Matrix for \",model,\"\\n\")\n",
    "    ConfusionMatrixDisplay.from_predictions(y_val, predictions,cmap=plt.cm.Oranges , values_format='d')\n",
    "    plt.show()"
   ]
  },
  {
   "cell_type": "markdown",
   "id": "gyaEc39ynbuj",
   "metadata": {
    "id": "gyaEc39ynbuj"
   },
   "source": [
    "#### Logistic Regression seems to perform the best here, now will try to tune hyperparameters and use top two models that includes XGBoost."
   ]
  },
  {
   "cell_type": "markdown",
   "id": "1LkQPP2kq3-s",
   "metadata": {
    "id": "1LkQPP2kq3-s"
   },
   "source": [
    "# HYPERPARAMETER TUNING"
   ]
  },
  {
   "cell_type": "code",
   "execution_count": 52,
   "id": "TrGhka8lp1Lf",
   "metadata": {
    "id": "TrGhka8lp1Lf"
   },
   "outputs": [],
   "source": [
    "from sklearn.model_selection import GridSearchCV"
   ]
  },
  {
   "cell_type": "markdown",
   "id": "pcU7S-hQudAl",
   "metadata": {
    "id": "pcU7S-hQudAl"
   },
   "source": [
    "#### Tuning Logistic Regression Model\n"
   ]
  },
  {
   "cell_type": "code",
   "execution_count": 53,
   "id": "2bih0xyrp1-4",
   "metadata": {
    "colab": {
     "base_uri": "https://localhost:8080/"
    },
    "id": "2bih0xyrp1-4",
    "outputId": "831cde74-bf73-4dfc-c105-07ef2448695e"
   },
   "outputs": [
    {
     "name": "stdout",
     "output_type": "stream",
     "text": [
      "      Variable  Coefficient\n",
      "4  Cholesterol     1.639844\n",
      "5    FastingBS     1.140694\n",
      "0          Age     0.573268\n"
     ]
    }
   ],
   "source": [
    "original_variables = list(df_train.columns)\n",
    "zipped_together = list(zip(original_variables, model1.coef_[0]))\n",
    "coefs = [list(x) for x in zipped_together]\n",
    "coefs = pd.DataFrame(coefs, columns=[\"Variable\", \"Coefficient\"])\n",
    "coefs.sort_values(by=[\"Coefficient\"], axis=0, inplace=True, ascending=False)\n",
    "print(coefs.head(3))"
   ]
  },
  {
   "cell_type": "code",
   "execution_count": 54,
   "id": "7ANCh6QGp2ln",
   "metadata": {
    "id": "7ANCh6QGp2ln"
   },
   "outputs": [],
   "source": [
    "def parameter(classifier, model):\n",
    "    print(model)\n",
    "    print('Best Score: ' + str(classifier.best_score_))\n",
    "    print('Best Parameters: ' + str(classifier.best_params_))"
   ]
  },
  {
   "cell_type": "code",
   "execution_count": 55,
   "id": "dpMG3_Sqp3H1",
   "metadata": {
    "id": "dpMG3_Sqp3H1"
   },
   "outputs": [],
   "source": [
    "param_grid_lr = {\n",
    "    'penalty':['l1','l2'],\n",
    "    'C':[0.001,0.1,10],\n",
    "    'solver':['liblinear'],\n",
    "    'max_iter':[500,1000]\n",
    "}"
   ]
  },
  {
   "cell_type": "code",
   "execution_count": 56,
   "id": "KQ2Dd6eT2rCi",
   "metadata": {
    "colab": {
     "base_uri": "https://localhost:8080/"
    },
    "id": "KQ2Dd6eT2rCi",
    "outputId": "922c9a1f-e25d-49ba-8f28-b517a21709f3"
   },
   "outputs": [
    {
     "name": "stdout",
     "output_type": "stream",
     "text": [
      "Fitting 5 folds for each of 12 candidates, totalling 60 fits\n",
      "Logistic Regression\n",
      "Best Score: 0.8488304911005498\n",
      "Best Parameters: {'C': 0.1, 'max_iter': 500, 'penalty': 'l2', 'solver': 'liblinear'}\n"
     ]
    }
   ],
   "source": [
    "clf_lr = GridSearchCV(model1, param_grid = param_grid_lr, cv = 5, verbose = True, n_jobs = -1)\n",
    "best_lr = clf_lr.fit(X_train,y_train)\n",
    "parameter(best_lr,'Logistic Regression')"
   ]
  },
  {
   "cell_type": "markdown",
   "id": "rk0qHHrS-rwe",
   "metadata": {
    "id": "rk0qHHrS-rwe"
   },
   "source": [
    "#### Tuning XGBoost"
   ]
  },
  {
   "cell_type": "code",
   "execution_count": 57,
   "id": "5A2WyibLxcFH",
   "metadata": {
    "colab": {
     "base_uri": "https://localhost:8080/"
    },
    "id": "5A2WyibLxcFH",
    "outputId": "eaded797-9813-4b92-f21c-c56362ea46f1"
   },
   "outputs": [
    {
     "name": "stdout",
     "output_type": "stream",
     "text": [
      "['ChestPainType=ASY' 'ChestPainType=ATA' 'ChestPainType=NAP'\n",
      " 'ChestPainType=TA' 'ExerciseAngina=N' 'ExerciseAngina=Y' 'FastingBS'\n",
      " 'RestingECG=LVH' 'RestingECG=Normal' 'RestingECG=ST' 'ST_Slope=Down'\n",
      " 'ST_Slope=Flat' 'ST_Slope=Up' 'Sex=F' 'Sex=M']\n"
     ]
    }
   ],
   "source": [
    "features = dv.get_feature_names_out()\n",
    "print(features)"
   ]
  },
  {
   "cell_type": "code",
   "execution_count": 58,
   "id": "dNc_9R-bx08S",
   "metadata": {
    "colab": {
     "base_uri": "https://localhost:8080/"
    },
    "id": "dNc_9R-bx08S",
    "outputId": "31350d21-1b0f-479d-edbf-f102d4560a2e"
   },
   "outputs": [
    {
     "name": "stdout",
     "output_type": "stream",
     "text": [
      "['Age' 'RestingBP' 'Cholesterol' 'MaxHR' 'Oldpeak']\n"
     ]
    }
   ],
   "source": [
    "features_scaled = scaler.get_feature_names_out()\n",
    "print(features_scaled)"
   ]
  },
  {
   "cell_type": "code",
   "execution_count": 59,
   "id": "szjveusRyY88",
   "metadata": {
    "colab": {
     "base_uri": "https://localhost:8080/"
    },
    "id": "szjveusRyY88",
    "outputId": "421db3f3-c8ef-413e-93c4-7e1eebb8e095"
   },
   "outputs": [
    {
     "name": "stdout",
     "output_type": "stream",
     "text": [
      "20\n",
      "['Age' 'RestingBP' 'Cholesterol' 'MaxHR' 'Oldpeak' 'ChestPainType=ASY'\n",
      " 'ChestPainType=ATA' 'ChestPainType=NAP' 'ChestPainType=TA'\n",
      " 'ExerciseAngina=N' 'ExerciseAngina=Y' 'FastingBS' 'RestingECG=LVH'\n",
      " 'RestingECG=Normal' 'RestingECG=ST' 'ST_Slope=Down' 'ST_Slope=Flat'\n",
      " 'ST_Slope=Up' 'Sex=F' 'Sex=M']\n"
     ]
    }
   ],
   "source": [
    "features = np.concatenate([features_scaled,features])\n",
    "\n",
    "print(len(features))\n",
    "print(features)"
   ]
  },
  {
   "cell_type": "code",
   "execution_count": 60,
   "id": "f40b92e7",
   "metadata": {
    "id": "f40b92e7"
   },
   "outputs": [],
   "source": [
    "dtrain = xgb.DMatrix(X_train, label=y_train,feature_names=features)\n",
    "dval = xgb.DMatrix(X_val, label=y_val,feature_names=features)"
   ]
  },
  {
   "cell_type": "code",
   "execution_count": 61,
   "id": "xy6SKEDh2u-G",
   "metadata": {
    "id": "xy6SKEDh2u-G"
   },
   "outputs": [],
   "source": [
    "param_grid_gbm = {\n",
    "    'eta':[0.01,0.1,0.5,0.9],\n",
    "    'n_estimators':[150,250],\n",
    "    'max_depth':[6,10,15],\n",
    "    'subsample': [0.3, 0.5, 0.9],\n",
    "    'tree_method':['auto','exact','approx']\n",
    "}"
   ]
  },
  {
   "cell_type": "code",
   "execution_count": 62,
   "id": "NUsJ_ZsHBhrp",
   "metadata": {
    "colab": {
     "base_uri": "https://localhost:8080/"
    },
    "id": "NUsJ_ZsHBhrp",
    "outputId": "c0e80d53-7536-49ab-ff80-d5bc28be0617"
   },
   "outputs": [
    {
     "name": "stdout",
     "output_type": "stream",
     "text": [
      "Fitting 5 folds for each of 216 candidates, totalling 1080 fits\n",
      "XGBoost\n",
      "Best Score: 0.8651477029167831\n",
      "Best Parameters: {'eta': 0.01, 'max_depth': 10, 'n_estimators': 150, 'subsample': 0.3, 'tree_method': 'approx'}\n"
     ]
    }
   ],
   "source": [
    "clf_xgb = GridSearchCV(estimator = model4, param_grid = param_grid_gbm, cv = 5, verbose = 1)\n",
    "best_xgb = clf_xgb.fit(X_train, y_train)\n",
    "parameter(best_xgb,'XGBoost')"
   ]
  },
  {
   "cell_type": "markdown",
   "id": "n1FXd3msKAfJ",
   "metadata": {
    "id": "n1FXd3msKAfJ"
   },
   "source": [
    "#### XGBoost wins over LogisticRegression."
   ]
  },
  {
   "cell_type": "code",
   "execution_count": 63,
   "id": "fzWo1iPzLmDi",
   "metadata": {
    "id": "fzWo1iPzLmDi"
   },
   "outputs": [],
   "source": [
    "scaled_xcolumns  = scaler.transform(df_test[columns_to_scale])\n",
    "test_dicts = df_test[columns_to_encode].to_dict(orient='records')\n",
    "encoded_xcolumns = dv.transform(test_dicts)\n",
    "X_test = np.concatenate([scaled_xcolumns, encoded_xcolumns], axis=1)"
   ]
  },
  {
   "cell_type": "code",
   "execution_count": 64,
   "id": "eBxeBuoUD85U",
   "metadata": {
    "id": "eBxeBuoUD85U"
   },
   "outputs": [],
   "source": [
    "preds = best_xgb.predict(X_test)"
   ]
  },
  {
   "cell_type": "code",
   "execution_count": 65,
   "id": "3LuwXHDeLYqY",
   "metadata": {
    "colab": {
     "base_uri": "https://localhost:8080/",
     "height": 509
    },
    "id": "3LuwXHDeLYqY",
    "outputId": "8b0a3302-2f7d-43fe-e859-2253cfee65be"
   },
   "outputs": [
    {
     "name": "stdout",
     "output_type": "stream",
     "text": [
      "ROC-AUC score:  0.9275184275184275\n",
      "Classification Report: \n",
      "               precision    recall  f1-score   support\n",
      "\n",
      "           0       0.88      0.95      0.91        37\n",
      "           1       0.96      0.91      0.93        55\n",
      "\n",
      "    accuracy                           0.92        92\n",
      "   macro avg       0.92      0.93      0.92        92\n",
      "weighted avg       0.93      0.92      0.92        92\n",
      "\n",
      "Confusion Matrix for  XGBClassifier() \n",
      "\n"
     ]
    },
    {
     "data": {
      "image/png": "[encoded data removed]",
      "text/plain": [
       "<Figure size 432x288 with 2 Axes>"
      ]
     },
     "metadata": {
      "needs_background": "light"
     },
     "output_type": "display_data"
    }
   ],
   "source": [
    "print(\"ROC-AUC score: \", roc_auc_score(y_test,preds))\n",
    "print(\"Classification Report: \\n\", classification_report(y_test,preds))\n",
    "print(\"Confusion Matrix for \",model,\"\\n\")\n",
    "ConfusionMatrixDisplay.from_predictions(y_test, preds,cmap=plt.cm.Oranges , values_format='d')\n",
    "plt.show()"
   ]
  },
  {
   "cell_type": "markdown",
   "id": "7f641652",
   "metadata": {
    "id": "ET75fCbyMpQX"
   },
   "source": [
    "### COLAB NOTEBOOK : https://colab.research.google.com/drive/1I-SdYzGgqzXD1vWFs03aQ_7cyXagarYw"
   ]
  },
  {
   "cell_type": "code",
   "execution_count": null,
   "id": "708f278f",
   "metadata": {},
   "outputs": [],
   "source": []
  }
 ],
 "metadata": {
  "colab": {
   "collapsed_sections": [
    "096677b1"
   ],
   "provenance": []
  },
  "kernelspec": {
   "display_name": "Python 3 (ipykernel)",
   "language": "python",
   "name": "python3"
  },
  "language_info": {
   "codemirror_mode": {
    "name": "ipython",
    "version": 3
   },
   "file_extension": ".py",
   "mimetype": "text/x-python",
   "name": "python",
   "nbconvert_exporter": "python",
   "pygments_lexer": "ipython3",
   "version": "3.8.13"
  }
 },
 "nbformat": 4,
 "nbformat_minor": 5
}
