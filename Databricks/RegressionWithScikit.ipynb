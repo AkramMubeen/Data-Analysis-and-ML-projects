{
 "cells": [
  {
   "cell_type": "code",
   "execution_count": 0,
   "metadata": {
    "application/vnd.databricks.v1+cell": {
     "cellMetadata": {
      "byteLimit": 2048000,
      "rowLimit": 10000
     },
     "inputWidgets": {},
     "nuid": "07425e48-ca6e-4042-97ba-fa208dfd3209",
     "showTitle": false,
     "title": ""
    }
   },
   "outputs": [
    {
     "output_type": "stream",
     "name": "stdout",
     "output_type": "stream",
     "text": [
      "\u001B[43mNote: you may need to restart the kernel using dbutils.library.restartPython() to use updated packages.\u001B[0m\nCollecting mlflow\n  Downloading mlflow-2.7.1-py3-none-any.whl (18.5 MB)\n     ━━━━━━━━━━━━━━━━━━━━━━━━━━━━━━━━━━━━━━━━ 18.5/18.5 MB 46.9 MB/s eta 0:00:00\nCollecting querystring-parser<2\n  Downloading querystring_parser-1.2.4-py2.py3-none-any.whl (7.9 kB)\nCollecting gitpython<4,>=2.1.0\n  Downloading GitPython-3.1.37-py3-none-any.whl (190 kB)\n     ━━━━━━━━━━━━━━━━━━━━━━━━━━━━━━━━━━━━━━ 190.0/190.0 kB 18.5 MB/s eta 0:00:00\nRequirement already satisfied: protobuf<5,>=3.12.0 in /databricks/python3/lib/python3.10/site-packages (from mlflow) (3.19.4)\nRequirement already satisfied: packaging<24 in /databricks/python3/lib/python3.10/site-packages (from mlflow) (21.3)\nCollecting cloudpickle<3\n  Downloading cloudpickle-2.2.1-py3-none-any.whl (25 kB)\nCollecting pyyaml<7,>=5.1\n  Downloading PyYAML-6.0.1-cp310-cp310-manylinux_2_17_x86_64.manylinux2014_x86_64.whl (705 kB)\n     ━━━━━━━━━━━━━━━━━━━━━━━━━━━━━━━━━━━━━━ 705.5/705.5 kB 39.4 MB/s eta 0:00:00\nRequirement already satisfied: pytz<2024 in /databricks/python3/lib/python3.10/site-packages (from mlflow) (2022.1)\nCollecting gunicorn<22\n  Downloading gunicorn-21.2.0-py3-none-any.whl (80 kB)\n     ━━━━━━━━━━━━━━━━━━━━━━━━━━━━━━━━━━━━━━━━ 80.2/80.2 kB 9.5 MB/s eta 0:00:00\nRequirement already satisfied: pandas<3 in /databricks/python3/lib/python3.10/site-packages (from mlflow) (1.4.4)\nCollecting alembic!=1.10.0,<2\n  Downloading alembic-1.12.0-py3-none-any.whl (226 kB)\n     ━━━━━━━━━━━━━━━━━━━━━━━━━━━━━━━━━━━━━━ 226.0/226.0 kB 22.4 MB/s eta 0:00:00\nRequirement already satisfied: entrypoints<1 in /databricks/python3/lib/python3.10/site-packages (from mlflow) (0.4)\nRequirement already satisfied: matplotlib<4 in /databricks/python3/lib/python3.10/site-packages (from mlflow) (3.5.2)\nRequirement already satisfied: requests<3,>=2.17.3 in /databricks/python3/lib/python3.10/site-packages (from mlflow) (2.28.1)\nRequirement already satisfied: scikit-learn<2 in /databricks/python3/lib/python3.10/site-packages (from mlflow) (1.1.1)\nCollecting markdown<4,>=3.3\n  Downloading Markdown-3.5-py3-none-any.whl (101 kB)\n     ━━━━━━━━━━━━━━━━━━━━━━━━━━━━━━━━━━━━━━ 101.7/101.7 kB 12.4 MB/s eta 0:00:00\nRequirement already satisfied: pyarrow<14,>=4.0.0 in /databricks/python3/lib/python3.10/site-packages (from mlflow) (8.0.0)\nRequirement already satisfied: numpy<2 in /databricks/python3/lib/python3.10/site-packages (from mlflow) (1.21.5)\nCollecting sqlalchemy<3,>=1.4.0\n  Downloading SQLAlchemy-2.0.22-cp310-cp310-manylinux_2_17_x86_64.manylinux2014_x86_64.whl (3.0 MB)\n     ━━━━━━━━━━━━━━━━━━━━━━━━━━━━━━━━━━━━━━━━ 3.0/3.0 MB 55.7 MB/s eta 0:00:00\nRequirement already satisfied: importlib-metadata!=4.7.0,<7,>=3.7.0 in /usr/lib/python3/dist-packages (from mlflow) (4.6.4)\nRequirement already satisfied: scipy<2 in /databricks/python3/lib/python3.10/site-packages (from mlflow) (1.9.1)\nCollecting Flask<3\n  Downloading flask-2.3.3-py3-none-any.whl (96 kB)\n     ━━━━━━━━━━━━━━━━━━━━━━━━━━━━━━━━━━━━━━━━ 96.1/96.1 kB 9.5 MB/s eta 0:00:00\nCollecting databricks-cli<1,>=0.8.7\n  Downloading databricks_cli-0.18.0-py2.py3-none-any.whl (150 kB)\n     ━━━━━━━━━━━━━━━━━━━━━━━━━━━━━━━━━━━━━━ 150.3/150.3 kB 15.8 MB/s eta 0:00:00\nCollecting sqlparse<1,>=0.4.0\n  Downloading sqlparse-0.4.4-py3-none-any.whl (41 kB)\n     ━━━━━━━━━━━━━━━━━━━━━━━━━━━━━━━━━━━━━━━━ 41.2/41.2 kB 3.6 MB/s eta 0:00:00\nRequirement already satisfied: click<9,>=7.0 in /databricks/python3/lib/python3.10/site-packages (from mlflow) (8.0.4)\nRequirement already satisfied: Jinja2<4,>=2.11 in /databricks/python3/lib/python3.10/site-packages (from mlflow) (2.11.3)\nCollecting docker<7,>=4.0.0\n  Downloading docker-6.1.3-py3-none-any.whl (148 kB)\n     ━━━━━━━━━━━━━━━━━━━━━━━━━━━━━━━━━━━━━━━ 148.1/148.1 kB 4.2 MB/s eta 0:00:00\nCollecting Mako\n  Downloading Mako-1.2.4-py3-none-any.whl (78 kB)\n     ━━━━━━━━━━━━━━━━━━━━━━━━━━━━━━━━━━━━━━━━ 78.7/78.7 kB 9.5 MB/s eta 0:00:00\nRequirement already satisfied: typing-extensions>=4 in /databricks/python3/lib/python3.10/site-packages (from alembic!=1.10.0,<2->mlflow) (4.3.0)\nRequirement already satisfied: urllib3<3,>=1.26.7 in /databricks/python3/lib/python3.10/site-packages (from databricks-cli<1,>=0.8.7->mlflow) (1.26.11)\nRequirement already satisfied: oauthlib>=3.1.0 in /usr/lib/python3/dist-packages (from databricks-cli<1,>=0.8.7->mlflow) (3.2.0)\nRequirement already satisfied: six>=1.10.0 in /usr/lib/python3/dist-packages (from databricks-cli<1,>=0.8.7->mlflow) (1.16.0)\nRequirement already satisfied: pyjwt>=1.7.0 in /usr/lib/python3/dist-packages (from databricks-cli<1,>=0.8.7->mlflow) (2.3.0)\nCollecting tabulate>=0.7.7\n  Downloading tabulate-0.9.0-py3-none-any.whl (35 kB)\nCollecting websocket-client>=0.32.0\n  Downloading websocket_client-1.6.4-py3-none-any.whl (57 kB)\n     ━━━━━━━━━━━━━━━━━━━━━━━━━━━━━━━━━━━━━━━━ 57.3/57.3 kB 6.8 MB/s eta 0:00:00\nCollecting Jinja2<4,>=2.11\n  Downloading Jinja2-3.1.2-py3-none-any.whl (133 kB)\n     ━━━━━━━━━━━━━━━━━━━━━━━━━━━━━━━━━━━━━━ 133.1/133.1 kB 15.0 MB/s eta 0:00:00\nCollecting Werkzeug>=2.3.7\n  Downloading werkzeug-3.0.0-py3-none-any.whl (226 kB)\n     ━━━━━━━━━━━━━━━━━━━━━━━━━━━━━━━━━━━━━━ 226.6/226.6 kB 17.1 MB/s eta 0:00:00\nCollecting click<9,>=7.0\n  Downloading click-8.1.7-py3-none-any.whl (97 kB)\n     ━━━━━━━━━━━━━━━━━━━━━━━━━━━━━━━━━━━━━━━━ 97.9/97.9 kB 7.4 MB/s eta 0:00:00\nCollecting itsdangerous>=2.1.2\n  Downloading itsdangerous-2.1.2-py3-none-any.whl (15 kB)\nCollecting blinker>=1.6.2\n  Downloading blinker-1.6.3-py3-none-any.whl (13 kB)\nCollecting gitdb<5,>=4.0.1\n  Downloading gitdb-4.0.10-py3-none-any.whl (62 kB)\n     ━━━━━━━━━━━━━━━━━━━━━━━━━━━━━━━━━━━━━━━━ 62.7/62.7 kB 7.5 MB/s eta 0:00:00\nRequirement already satisfied: MarkupSafe>=2.0 in /databricks/python3/lib/python3.10/site-packages (from Jinja2<4,>=2.11->mlflow) (2.0.1)\nRequirement already satisfied: cycler>=0.10 in /databricks/python3/lib/python3.10/site-packages (from matplotlib<4->mlflow) (0.11.0)\nRequirement already satisfied: pillow>=6.2.0 in /databricks/python3/lib/python3.10/site-packages (from matplotlib<4->mlflow) (9.2.0)\nRequirement already satisfied: pyparsing>=2.2.1 in /databricks/python3/lib/python3.10/site-packages (from matplotlib<4->mlflow) (3.0.9)\nRequirement already satisfied: python-dateutil>=2.7 in /databricks/python3/lib/python3.10/site-packages (from matplotlib<4->mlflow) (2.8.2)\nRequirement already satisfied: kiwisolver>=1.0.1 in /databricks/python3/lib/python3.10/site-packages (from matplotlib<4->mlflow) (1.4.2)\nRequirement already satisfied: fonttools>=4.22.0 in /databricks/python3/lib/python3.10/site-packages (from matplotlib<4->mlflow) (4.25.0)\nRequirement already satisfied: idna<4,>=2.5 in /databricks/python3/lib/python3.10/site-packages (from requests<3,>=2.17.3->mlflow) (3.3)\nRequirement already satisfied: certifi>=2017.4.17 in /databricks/python3/lib/python3.10/site-packages (from requests<3,>=2.17.3->mlflow) (2022.9.14)\nRequirement already satisfied: charset-normalizer<3,>=2 in /databricks/python3/lib/python3.10/site-packages (from requests<3,>=2.17.3->mlflow) (2.0.4)\nRequirement already satisfied: joblib>=1.0.0 in /databricks/python3/lib/python3.10/site-packages (from scikit-learn<2->mlflow) (1.2.0)\nRequirement already satisfied: threadpoolctl>=2.0.0 in /databricks/python3/lib/python3.10/site-packages (from scikit-learn<2->mlflow) (2.2.0)\nCollecting greenlet!=0.4.17\n  Downloading greenlet-3.0.0-cp310-cp310-manylinux_2_24_x86_64.manylinux_2_28_x86_64.whl (612 kB)\n     ━━━━━━━━━━━━━━━━━━━━━━━━━━━━━━━━━━━━━━ 612.9/612.9 kB 33.2 MB/s eta 0:00:00\nCollecting smmap<6,>=3.0.1\n  Downloading smmap-5.0.1-py3-none-any.whl (24 kB)\nCollecting MarkupSafe>=2.0\n  Downloading MarkupSafe-2.1.3-cp310-cp310-manylinux_2_17_x86_64.manylinux2014_x86_64.whl (25 kB)\nInstalling collected packages: websocket-client, tabulate, sqlparse, smmap, querystring-parser, pyyaml, MarkupSafe, markdown, itsdangerous, greenlet, cloudpickle, click, blinker, Werkzeug, sqlalchemy, Mako, Jinja2, gunicorn, gitdb, docker, databricks-cli, gitpython, Flask, alembic, mlflow\n  Attempting uninstall: MarkupSafe\n    Found existing installation: MarkupSafe 2.0.1\n    Not uninstalling markupsafe at /databricks/python3/lib/python3.10/site-packages, outside environment /local_disk0/.ephemeral_nfs/envs/pythonEnv-ad4291a2-86c9-4751-a027-541a14f3faa8\n    Can't uninstall 'MarkupSafe'. No files were found to uninstall.\n  Attempting uninstall: click\n    Found existing installation: click 8.0.4\n    Not uninstalling click at /databricks/python3/lib/python3.10/site-packages, outside environment /local_disk0/.ephemeral_nfs/envs/pythonEnv-ad4291a2-86c9-4751-a027-541a14f3faa8\n    Can't uninstall 'click'. No files were found to uninstall.\n  Attempting uninstall: blinker\n    Found existing installation: blinker 1.4\n    Not uninstalling blinker at /usr/lib/python3/dist-packages, outside environment /local_disk0/.ephemeral_nfs/envs/pythonEnv-ad4291a2-86c9-4751-a027-541a14f3faa8\n    Can't uninstall 'blinker'. No files were found to uninstall.\n  Attempting uninstall: Jinja2\n    Found existing installation: Jinja2 2.11.3\n    Not uninstalling jinja2 at /databricks/python3/lib/python3.10/site-packages, outside environment /local_disk0/.ephemeral_nfs/envs/pythonEnv-ad4291a2-86c9-4751-a027-541a14f3faa8\n    Can't uninstall 'Jinja2'. No files were found to uninstall.\nSuccessfully installed Flask-2.3.3 Jinja2-3.1.2 Mako-1.2.4 MarkupSafe-2.1.3 Werkzeug-3.0.0 alembic-1.12.0 blinker-1.6.3 click-8.1.7 cloudpickle-2.2.1 databricks-cli-0.18.0 docker-6.1.3 gitdb-4.0.10 gitpython-3.1.37 greenlet-3.0.0 gunicorn-21.2.0 itsdangerous-2.1.2 markdown-3.5 mlflow-2.7.1 pyyaml-6.0.1 querystring-parser-1.2.4 smmap-5.0.1 sqlalchemy-2.0.22 sqlparse-0.4.4 tabulate-0.9.0 websocket-client-1.6.4\n\u001B[43mNote: you may need to restart the kernel using dbutils.library.restartPython() to use updated packages.\u001B[0m\n"
     ]
    }
   ],
   "source": [
    "pip install mlflow"
   ]
  },
  {
   "cell_type": "code",
   "execution_count": 0,
   "metadata": {
    "application/vnd.databricks.v1+cell": {
     "cellMetadata": {
      "byteLimit": 2048000,
      "rowLimit": 10000
     },
     "inputWidgets": {},
     "nuid": "25667595-bdce-4c5e-93f0-de83d38c28ab",
     "showTitle": false,
     "title": ""
    }
   },
   "outputs": [],
   "source": [
    "dbutils.library.restartPython()"
   ]
  },
  {
   "cell_type": "code",
   "execution_count": 0,
   "metadata": {
    "application/vnd.databricks.v1+cell": {
     "cellMetadata": {
      "byteLimit": 2048000,
      "rowLimit": 10000
     },
     "inputWidgets": {},
     "nuid": "62f8b012-3af8-4d8b-ad18-79c7ab6eb175",
     "showTitle": false,
     "title": ""
    }
   },
   "outputs": [],
   "source": [
    "import mlflow\n",
    "import numpy as np\n",
    "import pandas as pd\n",
    "import seaborn as sns\n",
    "import matplotlib.pyplot as plt\n",
    "\n",
    "from sklearn.preprocessing import StandardScaler\n",
    "from sklearn.model_selection import train_test_split\n",
    "\n",
    "from sklearn.linear_model import LinearRegression\n",
    "from sklearn.ensemble import RandomForestRegressor\n",
    "from sklearn.neighbors import KNeighborsRegressor"
   ]
  },
  {
   "cell_type": "markdown",
   "metadata": {
    "application/vnd.databricks.v1+cell": {
     "cellMetadata": {},
     "inputWidgets": {},
     "nuid": "08441fe1-98d7-40f0-86f6-c4fb01099846",
     "showTitle": false,
     "title": ""
    }
   },
   "source": [
    "Loading the data\n",
    "displaying the first 5 rows of the dataset\n",
    "\n",
    "Dataset link-\n",
    "https://www.kaggle.com/irisfanfan/store-data?select=Store.csv"
   ]
  },
  {
   "cell_type": "markdown",
   "metadata": {
    "application/vnd.databricks.v1+cell": {
     "cellMetadata": {},
     "inputWidgets": {},
     "nuid": "4c831b14-4a70-4fc0-a581-c79c1443872a",
     "showTitle": false,
     "title": ""
    }
   },
   "source": [
    "sample function will display the random rows from the dataset, bydefault it will display 1, and also number of rows we can pass it as parameter"
   ]
  },
  {
   "cell_type": "code",
   "execution_count": 0,
   "metadata": {
    "application/vnd.databricks.v1+cell": {
     "cellMetadata": {
      "byteLimit": 2048000,
      "rowLimit": 10000
     },
     "inputWidgets": {},
     "nuid": "a1f21b0d-e5cc-4dc7-87c2-de3d4f4aea91",
     "showTitle": false,
     "title": ""
    }
   },
   "outputs": [
    {
     "output_type": "execute_result",
     "data": {
      "text/html": [
       "<div>\n",
       "<style scoped>\n",
       "    .dataframe tbody tr th:only-of-type {\n",
       "        vertical-align: middle;\n",
       "    }\n",
       "\n",
       "    .dataframe tbody tr th {\n",
       "        vertical-align: top;\n",
       "    }\n",
       "\n",
       "    .dataframe thead th {\n",
       "        text-align: right;\n",
       "    }\n",
       "</style>\n",
       "<table border=\"1\" class=\"dataframe\">\n",
       "  <thead>\n",
       "    <tr style=\"text-align: right;\">\n",
       "      <th></th>\n",
       "      <th>revenue</th>\n",
       "      <th>reach</th>\n",
       "      <th>local_tv</th>\n",
       "      <th>online</th>\n",
       "      <th>instore</th>\n",
       "      <th>person</th>\n",
       "      <th>event</th>\n",
       "    </tr>\n",
       "  </thead>\n",
       "  <tbody>\n",
       "    <tr>\n",
       "      <th>710</th>\n",
       "      <td>44117.41</td>\n",
       "      <td>4</td>\n",
       "      <td>26194.72</td>\n",
       "      <td>2009</td>\n",
       "      <td>3628</td>\n",
       "      <td>15</td>\n",
       "      <td>non_event</td>\n",
       "    </tr>\n",
       "    <tr>\n",
       "      <th>52</th>\n",
       "      <td>31544.18</td>\n",
       "      <td>3</td>\n",
       "      <td>30520.15</td>\n",
       "      <td>1591</td>\n",
       "      <td>4403</td>\n",
       "      <td>7</td>\n",
       "      <td>holiday</td>\n",
       "    </tr>\n",
       "    <tr>\n",
       "      <th>97</th>\n",
       "      <td>57297.31</td>\n",
       "      <td>4</td>\n",
       "      <td>32373.31</td>\n",
       "      <td>1446</td>\n",
       "      <td>4447</td>\n",
       "      <td>17</td>\n",
       "      <td>non_event</td>\n",
       "    </tr>\n",
       "    <tr>\n",
       "      <th>835</th>\n",
       "      <td>38840.98</td>\n",
       "      <td>3</td>\n",
       "      <td>30295.42</td>\n",
       "      <td>1771</td>\n",
       "      <td>3173</td>\n",
       "      <td>13</td>\n",
       "      <td>special</td>\n",
       "    </tr>\n",
       "    <tr>\n",
       "      <th>553</th>\n",
       "      <td>46649.18</td>\n",
       "      <td>4</td>\n",
       "      <td>27054.33</td>\n",
       "      <td>1283</td>\n",
       "      <td>4436</td>\n",
       "      <td>15</td>\n",
       "      <td>cobranding</td>\n",
       "    </tr>\n",
       "    <tr>\n",
       "      <th>287</th>\n",
       "      <td>41679.06</td>\n",
       "      <td>3</td>\n",
       "      <td>34215.68</td>\n",
       "      <td>1858</td>\n",
       "      <td>1938</td>\n",
       "      <td>7</td>\n",
       "      <td>cobranding</td>\n",
       "    </tr>\n",
       "    <tr>\n",
       "      <th>637</th>\n",
       "      <td>27856.08</td>\n",
       "      <td>4</td>\n",
       "      <td>28445.21</td>\n",
       "      <td>1623</td>\n",
       "      <td>1018</td>\n",
       "      <td>13</td>\n",
       "      <td>cobranding</td>\n",
       "    </tr>\n",
       "    <tr>\n",
       "      <th>80</th>\n",
       "      <td>38546.69</td>\n",
       "      <td>3</td>\n",
       "      <td>35660.89</td>\n",
       "      <td>1955</td>\n",
       "      <td>2138</td>\n",
       "      <td>13</td>\n",
       "      <td>cobranding</td>\n",
       "    </tr>\n",
       "    <tr>\n",
       "      <th>192</th>\n",
       "      <td>43160.98</td>\n",
       "      <td>4</td>\n",
       "      <td>30921.79</td>\n",
       "      <td>1245</td>\n",
       "      <td>3198</td>\n",
       "      <td>15</td>\n",
       "      <td>special</td>\n",
       "    </tr>\n",
       "    <tr>\n",
       "      <th>800</th>\n",
       "      <td>40967.40</td>\n",
       "      <td>4</td>\n",
       "      <td>34818.48</td>\n",
       "      <td>878</td>\n",
       "      <td>3262</td>\n",
       "      <td>12</td>\n",
       "      <td>cobranding</td>\n",
       "    </tr>\n",
       "  </tbody>\n",
       "</table>\n",
       "</div>"
      ],
      "text/plain": [
       "      revenue  reach  local_tv  online  instore  person       event\n",
       "710  44117.41      4  26194.72    2009     3628      15   non_event\n",
       "52   31544.18      3  30520.15    1591     4403       7     holiday\n",
       "97   57297.31      4  32373.31    1446     4447      17   non_event\n",
       "835  38840.98      3  30295.42    1771     3173      13     special\n",
       "553  46649.18      4  27054.33    1283     4436      15  cobranding\n",
       "287  41679.06      3  34215.68    1858     1938       7  cobranding\n",
       "637  27856.08      4  28445.21    1623     1018      13  cobranding\n",
       "80   38546.69      3  35660.89    1955     2138      13  cobranding\n",
       "192  43160.98      4  30921.79    1245     3198      15     special\n",
       "800  40967.40      4  34818.48     878     3262      12  cobranding"
      ]
     },
     "execution_count": 3,
     "metadata": {},
     "output_type": "execute_result"
    }
   ],
   "source": [
    "store_revenue = pd.read_csv('/dbfs/FileStore/tables/store.csv')\n",
    "\n",
    "store_revenue.sample(10)"
   ]
  },
  {
   "cell_type": "markdown",
   "metadata": {
    "application/vnd.databricks.v1+cell": {
     "cellMetadata": {},
     "inputWidgets": {},
     "nuid": "0812af47-7852-42f7-a993-3d96aa8ccbf4",
     "showTitle": false,
     "title": ""
    }
   },
   "source": [
    "Checking the number of rows and columns"
   ]
  },
  {
   "cell_type": "code",
   "execution_count": 0,
   "metadata": {
    "application/vnd.databricks.v1+cell": {
     "cellMetadata": {
      "byteLimit": 2048000,
      "rowLimit": 10000
     },
     "inputWidgets": {},
     "nuid": "f51529b4-e890-4ec3-ac83-515b4b021edb",
     "showTitle": false,
     "title": ""
    }
   },
   "outputs": [
    {
     "output_type": "execute_result",
     "data": {
      "text/plain": [
       "(985, 7)"
      ]
     },
     "execution_count": 4,
     "metadata": {},
     "output_type": "execute_result"
    }
   ],
   "source": [
    "store_revenue.shape"
   ]
  },
  {
   "cell_type": "markdown",
   "metadata": {
    "application/vnd.databricks.v1+cell": {
     "cellMetadata": {},
     "inputWidgets": {},
     "nuid": "d756771c-a554-485b-a775-c33300af6058",
     "showTitle": false,
     "title": ""
    }
   },
   "source": [
    "Checking the total number of NULL values present in each columns"
   ]
  },
  {
   "cell_type": "code",
   "execution_count": 0,
   "metadata": {
    "application/vnd.databricks.v1+cell": {
     "cellMetadata": {
      "byteLimit": 2048000,
      "rowLimit": 10000
     },
     "inputWidgets": {},
     "nuid": "ef9898bf-5db0-4ce0-aa78-8ade6de45917",
     "showTitle": false,
     "title": ""
    }
   },
   "outputs": [
    {
     "output_type": "execute_result",
     "data": {
      "text/plain": [
       "revenue      0\n",
       "reach        0\n",
       "local_tv    56\n",
       "online       0\n",
       "instore      0\n",
       "person       0\n",
       "event        0\n",
       "dtype: int64"
      ]
     },
     "execution_count": 5,
     "metadata": {},
     "output_type": "execute_result"
    }
   ],
   "source": [
    "store_revenue.isnull().sum()"
   ]
  },
  {
   "cell_type": "markdown",
   "metadata": {
    "application/vnd.databricks.v1+cell": {
     "cellMetadata": {},
     "inputWidgets": {},
     "nuid": "9d7f22bb-b6bf-47f0-92d1-48f2991cecb6",
     "showTitle": false,
     "title": ""
    }
   },
   "source": [
    "Dropping the NULL values and After dropping the NULL values from the dataset again cross checking the total NULL values in each columns"
   ]
  },
  {
   "cell_type": "code",
   "execution_count": 0,
   "metadata": {
    "application/vnd.databricks.v1+cell": {
     "cellMetadata": {
      "byteLimit": 2048000,
      "rowLimit": 10000
     },
     "inputWidgets": {},
     "nuid": "e9b8af37-7e99-429b-b712-074c1b216936",
     "showTitle": false,
     "title": ""
    }
   },
   "outputs": [
    {
     "output_type": "execute_result",
     "data": {
      "text/plain": [
       "0"
      ]
     },
     "execution_count": 6,
     "metadata": {},
     "output_type": "execute_result"
    }
   ],
   "source": [
    "store_revenue = store_revenue.dropna()\n",
    "\n",
    "sum(store_revenue.isnull().sum())"
   ]
  },
  {
   "cell_type": "markdown",
   "metadata": {
    "application/vnd.databricks.v1+cell": {
     "cellMetadata": {},
     "inputWidgets": {},
     "nuid": "87370bf4-e067-4ce9-b140-dedec303f623",
     "showTitle": false,
     "title": ""
    }
   },
   "source": [
    "After deleting NULL values or unwanted columns again checking the number rows and columns present in the datatset"
   ]
  },
  {
   "cell_type": "code",
   "execution_count": 0,
   "metadata": {
    "application/vnd.databricks.v1+cell": {
     "cellMetadata": {
      "byteLimit": 2048000,
      "rowLimit": 10000
     },
     "inputWidgets": {},
     "nuid": "54e61eb6-92df-4666-a6b5-06e1771be36a",
     "showTitle": false,
     "title": ""
    }
   },
   "outputs": [
    {
     "output_type": "execute_result",
     "data": {
      "text/plain": [
       "(929, 7)"
      ]
     },
     "execution_count": 7,
     "metadata": {},
     "output_type": "execute_result"
    }
   ],
   "source": [
    "store_revenue.shape"
   ]
  },
  {
   "cell_type": "markdown",
   "metadata": {
    "application/vnd.databricks.v1+cell": {
     "cellMetadata": {},
     "inputWidgets": {},
     "nuid": "57429ff1-88db-433c-9352-8daedceb486f",
     "showTitle": false,
     "title": ""
    }
   },
   "source": [
    "Summary statistics of whole dataset is obtained"
   ]
  },
  {
   "cell_type": "code",
   "execution_count": 0,
   "metadata": {
    "application/vnd.databricks.v1+cell": {
     "cellMetadata": {
      "byteLimit": 2048000,
      "rowLimit": 10000
     },
     "inputWidgets": {},
     "nuid": "c4d50e16-8a5e-469a-96aa-ffb6fc6f5645",
     "showTitle": false,
     "title": ""
    }
   },
   "outputs": [
    {
     "output_type": "execute_result",
     "data": {
      "text/html": [
       "<div>\n",
       "<style scoped>\n",
       "    .dataframe tbody tr th:only-of-type {\n",
       "        vertical-align: middle;\n",
       "    }\n",
       "\n",
       "    .dataframe tbody tr th {\n",
       "        vertical-align: top;\n",
       "    }\n",
       "\n",
       "    .dataframe thead th {\n",
       "        text-align: right;\n",
       "    }\n",
       "</style>\n",
       "<table border=\"1\" class=\"dataframe\">\n",
       "  <thead>\n",
       "    <tr style=\"text-align: right;\">\n",
       "      <th></th>\n",
       "      <th>revenue</th>\n",
       "      <th>reach</th>\n",
       "      <th>local_tv</th>\n",
       "      <th>online</th>\n",
       "      <th>instore</th>\n",
       "      <th>person</th>\n",
       "    </tr>\n",
       "  </thead>\n",
       "  <tbody>\n",
       "    <tr>\n",
       "      <th>count</th>\n",
       "      <td>929.000000</td>\n",
       "      <td>929.000000</td>\n",
       "      <td>929.000000</td>\n",
       "      <td>929.000000</td>\n",
       "      <td>929.000000</td>\n",
       "      <td>929.000000</td>\n",
       "    </tr>\n",
       "    <tr>\n",
       "      <th>mean</th>\n",
       "      <td>38475.476652</td>\n",
       "      <td>3.399354</td>\n",
       "      <td>31324.061109</td>\n",
       "      <td>1595.045210</td>\n",
       "      <td>3374.162540</td>\n",
       "      <td>11.052745</td>\n",
       "    </tr>\n",
       "    <tr>\n",
       "      <th>std</th>\n",
       "      <td>11747.868177</td>\n",
       "      <td>1.016480</td>\n",
       "      <td>3970.934733</td>\n",
       "      <td>502.666035</td>\n",
       "      <td>979.219476</td>\n",
       "      <td>3.065101</td>\n",
       "    </tr>\n",
       "    <tr>\n",
       "      <th>min</th>\n",
       "      <td>5000.000000</td>\n",
       "      <td>0.000000</td>\n",
       "      <td>20000.000000</td>\n",
       "      <td>0.000000</td>\n",
       "      <td>0.000000</td>\n",
       "      <td>0.000000</td>\n",
       "    </tr>\n",
       "    <tr>\n",
       "      <th>25%</th>\n",
       "      <td>30327.080000</td>\n",
       "      <td>3.000000</td>\n",
       "      <td>28733.830000</td>\n",
       "      <td>1250.000000</td>\n",
       "      <td>2727.000000</td>\n",
       "      <td>9.000000</td>\n",
       "    </tr>\n",
       "    <tr>\n",
       "      <th>50%</th>\n",
       "      <td>38432.780000</td>\n",
       "      <td>3.000000</td>\n",
       "      <td>31104.520000</td>\n",
       "      <td>1595.000000</td>\n",
       "      <td>3394.000000</td>\n",
       "      <td>11.000000</td>\n",
       "    </tr>\n",
       "    <tr>\n",
       "      <th>75%</th>\n",
       "      <td>45901.750000</td>\n",
       "      <td>4.000000</td>\n",
       "      <td>33972.410000</td>\n",
       "      <td>1921.000000</td>\n",
       "      <td>4036.000000</td>\n",
       "      <td>13.000000</td>\n",
       "    </tr>\n",
       "    <tr>\n",
       "      <th>max</th>\n",
       "      <td>79342.070000</td>\n",
       "      <td>7.000000</td>\n",
       "      <td>43676.900000</td>\n",
       "      <td>3280.000000</td>\n",
       "      <td>6489.000000</td>\n",
       "      <td>24.000000</td>\n",
       "    </tr>\n",
       "  </tbody>\n",
       "</table>\n",
       "</div>"
      ],
      "text/plain": [
       "            revenue       reach  ...      instore      person\n",
       "count    929.000000  929.000000  ...   929.000000  929.000000\n",
       "mean   38475.476652    3.399354  ...  3374.162540   11.052745\n",
       "std    11747.868177    1.016480  ...   979.219476    3.065101\n",
       "min     5000.000000    0.000000  ...     0.000000    0.000000\n",
       "25%    30327.080000    3.000000  ...  2727.000000    9.000000\n",
       "50%    38432.780000    3.000000  ...  3394.000000   11.000000\n",
       "75%    45901.750000    4.000000  ...  4036.000000   13.000000\n",
       "max    79342.070000    7.000000  ...  6489.000000   24.000000\n",
       "\n",
       "[8 rows x 6 columns]"
      ]
     },
     "execution_count": 8,
     "metadata": {},
     "output_type": "execute_result"
    }
   ],
   "source": [
    "store_revenue.describe()"
   ]
  },
  {
   "cell_type": "markdown",
   "metadata": {
    "application/vnd.databricks.v1+cell": {
     "cellMetadata": {},
     "inputWidgets": {},
     "nuid": "75e881ef-413c-4a78-a5ac-32e9158fb062",
     "showTitle": false,
     "title": ""
    }
   },
   "source": [
    "Correlation matrix is obtained using corr() method"
   ]
  },
  {
   "cell_type": "code",
   "execution_count": 0,
   "metadata": {
    "application/vnd.databricks.v1+cell": {
     "cellMetadata": {
      "byteLimit": 2048000,
      "rowLimit": 10000
     },
     "inputWidgets": {},
     "nuid": "af3f2a3e-17e3-4b59-b5b6-467dd0da5f25",
     "showTitle": false,
     "title": ""
    }
   },
   "outputs": [
    {
     "output_type": "execute_result",
     "data": {
      "text/html": [
       "<div>\n",
       "<style scoped>\n",
       "    .dataframe tbody tr th:only-of-type {\n",
       "        vertical-align: middle;\n",
       "    }\n",
       "\n",
       "    .dataframe tbody tr th {\n",
       "        vertical-align: top;\n",
       "    }\n",
       "\n",
       "    .dataframe thead th {\n",
       "        text-align: right;\n",
       "    }\n",
       "</style>\n",
       "<table border=\"1\" class=\"dataframe\">\n",
       "  <thead>\n",
       "    <tr style=\"text-align: right;\">\n",
       "      <th></th>\n",
       "      <th>revenue</th>\n",
       "      <th>reach</th>\n",
       "      <th>local_tv</th>\n",
       "      <th>online</th>\n",
       "      <th>instore</th>\n",
       "      <th>person</th>\n",
       "    </tr>\n",
       "  </thead>\n",
       "  <tbody>\n",
       "    <tr>\n",
       "      <th>revenue</th>\n",
       "      <td>1.000000</td>\n",
       "      <td>-0.165286</td>\n",
       "      <td>0.602114</td>\n",
       "      <td>0.174198</td>\n",
       "      <td>0.307361</td>\n",
       "      <td>0.557475</td>\n",
       "    </tr>\n",
       "    <tr>\n",
       "      <th>reach</th>\n",
       "      <td>-0.165286</td>\n",
       "      <td>1.000000</td>\n",
       "      <td>-0.034039</td>\n",
       "      <td>-0.033271</td>\n",
       "      <td>0.036588</td>\n",
       "      <td>0.057563</td>\n",
       "    </tr>\n",
       "    <tr>\n",
       "      <th>local_tv</th>\n",
       "      <td>0.602114</td>\n",
       "      <td>-0.034039</td>\n",
       "      <td>1.000000</td>\n",
       "      <td>0.006775</td>\n",
       "      <td>-0.046825</td>\n",
       "      <td>0.048664</td>\n",
       "    </tr>\n",
       "    <tr>\n",
       "      <th>online</th>\n",
       "      <td>0.174198</td>\n",
       "      <td>-0.033271</td>\n",
       "      <td>0.006775</td>\n",
       "      <td>1.000000</td>\n",
       "      <td>-0.020198</td>\n",
       "      <td>0.035069</td>\n",
       "    </tr>\n",
       "    <tr>\n",
       "      <th>instore</th>\n",
       "      <td>0.307361</td>\n",
       "      <td>0.036588</td>\n",
       "      <td>-0.046825</td>\n",
       "      <td>-0.020198</td>\n",
       "      <td>1.000000</td>\n",
       "      <td>-0.008875</td>\n",
       "    </tr>\n",
       "    <tr>\n",
       "      <th>person</th>\n",
       "      <td>0.557475</td>\n",
       "      <td>0.057563</td>\n",
       "      <td>0.048664</td>\n",
       "      <td>0.035069</td>\n",
       "      <td>-0.008875</td>\n",
       "      <td>1.000000</td>\n",
       "    </tr>\n",
       "  </tbody>\n",
       "</table>\n",
       "</div>"
      ],
      "text/plain": [
       "           revenue     reach  local_tv    online   instore    person\n",
       "revenue   1.000000 -0.165286  0.602114  0.174198  0.307361  0.557475\n",
       "reach    -0.165286  1.000000 -0.034039 -0.033271  0.036588  0.057563\n",
       "local_tv  0.602114 -0.034039  1.000000  0.006775 -0.046825  0.048664\n",
       "online    0.174198 -0.033271  0.006775  1.000000 -0.020198  0.035069\n",
       "instore   0.307361  0.036588 -0.046825 -0.020198  1.000000 -0.008875\n",
       "person    0.557475  0.057563  0.048664  0.035069 -0.008875  1.000000"
      ]
     },
     "execution_count": 9,
     "metadata": {},
     "output_type": "execute_result"
    }
   ],
   "source": [
    "store_revenue.corr()"
   ]
  },
  {
   "cell_type": "markdown",
   "metadata": {
    "application/vnd.databricks.v1+cell": {
     "cellMetadata": {},
     "inputWidgets": {},
     "nuid": "6214f41f-f130-4cdf-b143-fd74f8b3bf8e",
     "showTitle": false,
     "title": ""
    }
   },
   "source": [
    "Checking the same correlation matrix  above  using heatmap"
   ]
  },
  {
   "cell_type": "code",
   "execution_count": 0,
   "metadata": {
    "application/vnd.databricks.v1+cell": {
     "cellMetadata": {
      "byteLimit": 2048000,
      "rowLimit": 10000
     },
     "inputWidgets": {},
     "nuid": "dcf1db2e-99b9-417f-a9a9-6b5426a93ff1",
     "showTitle": false,
     "title": ""
    }
   },
   "outputs": [
    {
     "output_type": "display_data",
     "data": {
      "image/png": "[encoded data removed]",
      "text/plain": [
       "<Figure size 1200x1000 with 2 Axes>"
      ]
     },
     "metadata": {},
     "output_type": "display_data"
    }
   ],
   "source": [
    "fig1, ax = plt.subplots(figsize = (12, 10))\n",
    "\n",
    "sns.heatmap(store_revenue.corr(), annot = True)\n",
    "\n",
    "plt.show()"
   ]
  },
  {
   "cell_type": "markdown",
   "metadata": {
    "application/vnd.databricks.v1+cell": {
     "cellMetadata": {},
     "inputWidgets": {},
     "nuid": "01328f54-336e-474c-81c6-fadc2118519b",
     "showTitle": false,
     "title": ""
    }
   },
   "source": [
    "We know that event values are not numeric, so we need to convert the event columns in to numeric column which we will do later."
   ]
  },
  {
   "cell_type": "code",
   "execution_count": 0,
   "metadata": {
    "application/vnd.databricks.v1+cell": {
     "cellMetadata": {
      "byteLimit": 2048000,
      "rowLimit": 10000
     },
     "inputWidgets": {},
     "nuid": "32d46154-204c-4ab1-a10f-56358b9593da",
     "showTitle": false,
     "title": ""
    }
   },
   "outputs": [
    {
     "output_type": "execute_result",
     "data": {
      "text/plain": [
       "array(['non_event', 'special', 'cobranding', 'holiday'], dtype=object)"
      ]
     },
     "execution_count": 11,
     "metadata": {},
     "output_type": "execute_result"
    }
   ],
   "source": [
    "store_revenue['event'].unique()"
   ]
  },
  {
   "cell_type": "markdown",
   "metadata": {
    "application/vnd.databricks.v1+cell": {
     "cellMetadata": {},
     "inputWidgets": {},
     "nuid": "8fea4a2d-5823-4256-b178-d28a1b9b5742",
     "showTitle": false,
     "title": ""
    }
   },
   "source": [
    "Obtaining  revenue under these four types of event\n",
    "\n",
    "special event earned the most revenue averagely\n",
    "cobranding is the most frequent event"
   ]
  },
  {
   "cell_type": "code",
   "execution_count": 0,
   "metadata": {
    "application/vnd.databricks.v1+cell": {
     "cellMetadata": {
      "byteLimit": 2048000,
      "rowLimit": 10000
     },
     "inputWidgets": {},
     "nuid": "2b80d72e-59aa-4022-a99f-0deec0a90163",
     "showTitle": false,
     "title": ""
    }
   },
   "outputs": [
    {
     "output_type": "execute_result",
     "data": {
      "text/html": [
       "<div>\n",
       "<style scoped>\n",
       "    .dataframe tbody tr th:only-of-type {\n",
       "        vertical-align: middle;\n",
       "    }\n",
       "\n",
       "    .dataframe tbody tr th {\n",
       "        vertical-align: top;\n",
       "    }\n",
       "\n",
       "    .dataframe thead th {\n",
       "        text-align: right;\n",
       "    }\n",
       "</style>\n",
       "<table border=\"1\" class=\"dataframe\">\n",
       "  <thead>\n",
       "    <tr style=\"text-align: right;\">\n",
       "      <th></th>\n",
       "      <th>count</th>\n",
       "      <th>mean</th>\n",
       "      <th>std</th>\n",
       "      <th>min</th>\n",
       "      <th>25%</th>\n",
       "      <th>50%</th>\n",
       "      <th>75%</th>\n",
       "      <th>max</th>\n",
       "    </tr>\n",
       "    <tr>\n",
       "      <th>event</th>\n",
       "      <th></th>\n",
       "      <th></th>\n",
       "      <th></th>\n",
       "      <th></th>\n",
       "      <th></th>\n",
       "      <th></th>\n",
       "      <th></th>\n",
       "      <th></th>\n",
       "    </tr>\n",
       "  </thead>\n",
       "  <tbody>\n",
       "    <tr>\n",
       "      <th>cobranding</th>\n",
       "      <td>376.0</td>\n",
       "      <td>38288.119016</td>\n",
       "      <td>11979.348536</td>\n",
       "      <td>7146.99</td>\n",
       "      <td>30444.2750</td>\n",
       "      <td>37907.490</td>\n",
       "      <td>46327.7400</td>\n",
       "      <td>79342.07</td>\n",
       "    </tr>\n",
       "    <tr>\n",
       "      <th>holiday</th>\n",
       "      <td>96.0</td>\n",
       "      <td>37871.494896</td>\n",
       "      <td>12021.835993</td>\n",
       "      <td>5000.00</td>\n",
       "      <td>29722.5775</td>\n",
       "      <td>38299.100</td>\n",
       "      <td>46234.7875</td>\n",
       "      <td>73377.15</td>\n",
       "    </tr>\n",
       "    <tr>\n",
       "      <th>non_event</th>\n",
       "      <td>182.0</td>\n",
       "      <td>38029.054396</td>\n",
       "      <td>11210.926875</td>\n",
       "      <td>6874.43</td>\n",
       "      <td>29988.5650</td>\n",
       "      <td>38073.755</td>\n",
       "      <td>44634.6725</td>\n",
       "      <td>69429.39</td>\n",
       "    </tr>\n",
       "    <tr>\n",
       "      <th>special</th>\n",
       "      <td>275.0</td>\n",
       "      <td>39237.940545</td>\n",
       "      <td>11704.709265</td>\n",
       "      <td>10207.96</td>\n",
       "      <td>31385.3850</td>\n",
       "      <td>39553.130</td>\n",
       "      <td>46136.6350</td>\n",
       "      <td>71757.50</td>\n",
       "    </tr>\n",
       "  </tbody>\n",
       "</table>\n",
       "</div>"
      ],
      "text/plain": [
       "            count          mean           std  ...        50%         75%       max\n",
       "event                                          ...                                 \n",
       "cobranding  376.0  38288.119016  11979.348536  ...  37907.490  46327.7400  79342.07\n",
       "holiday      96.0  37871.494896  12021.835993  ...  38299.100  46234.7875  73377.15\n",
       "non_event   182.0  38029.054396  11210.926875  ...  38073.755  44634.6725  69429.39\n",
       "special     275.0  39237.940545  11704.709265  ...  39553.130  46136.6350  71757.50\n",
       "\n",
       "[4 rows x 8 columns]"
      ]
     },
     "execution_count": 12,
     "metadata": {},
     "output_type": "execute_result"
    }
   ],
   "source": [
    "store_revenue.groupby(['event'])['revenue'].describe()"
   ]
  },
  {
   "cell_type": "markdown",
   "metadata": {
    "application/vnd.databricks.v1+cell": {
     "cellMetadata": {},
     "inputWidgets": {},
     "nuid": "b824acfa-b98d-4a8e-a0ae-449d9deefb9d",
     "showTitle": false,
     "title": ""
    }
   },
   "source": [
    "Event wise revenue breakdown using barplot"
   ]
  },
  {
   "cell_type": "code",
   "execution_count": 0,
   "metadata": {
    "application/vnd.databricks.v1+cell": {
     "cellMetadata": {
      "byteLimit": 2048000,
      "rowLimit": 10000
     },
     "inputWidgets": {},
     "nuid": "16cb3995-d46e-4112-b4e6-3f870a5c898e",
     "showTitle": false,
     "title": ""
    }
   },
   "outputs": [
    {
     "output_type": "execute_result",
     "data": {
      "text/plain": [
       "<AxesSubplot:xlabel='event', ylabel='revenue'>"
      ]
     },
     "execution_count": 13,
     "metadata": {},
     "output_type": "execute_result"
    },
    {
     "output_type": "display_data",
     "data": {
      "image/png": "[encoded data removed]",
      "text/plain": [
       "<Figure size 1200x800 with 1 Axes>"
      ]
     },
     "metadata": {},
     "output_type": "display_data"
    }
   ],
   "source": [
    "fig2, ax = plt.subplots(figsize = (12, 8))\n",
    "\n",
    "sns.barplot(x = 'event', y = 'revenue', data = store_revenue)"
   ]
  },
  {
   "cell_type": "markdown",
   "metadata": {
    "application/vnd.databricks.v1+cell": {
     "cellMetadata": {},
     "inputWidgets": {},
     "nuid": "40b7f8db-54e1-487d-a3a4-749bde8bc6cb",
     "showTitle": false,
     "title": ""
    }
   },
   "source": [
    "Visualising Relationships using Scatter plot. As observed above..Positive correlation is observed between investment in local ads and Revenue"
   ]
  },
  {
   "cell_type": "code",
   "execution_count": 0,
   "metadata": {
    "application/vnd.databricks.v1+cell": {
     "cellMetadata": {
      "byteLimit": 2048000,
      "rowLimit": 10000
     },
     "inputWidgets": {},
     "nuid": "c893bdf5-f161-4151-a138-d6ae49bddc2e",
     "showTitle": false,
     "title": ""
    }
   },
   "outputs": [
    {
     "output_type": "execute_result",
     "data": {
      "text/plain": [
       "Text(0, 0.5, 'Overall_Revenue')"
      ]
     },
     "execution_count": 14,
     "metadata": {},
     "output_type": "execute_result"
    },
    {
     "output_type": "display_data",
     "data": {
      "image/png": "[encoded data removed]",
      "text/plain": [
       "<Figure size 1200x800 with 1 Axes>"
      ]
     },
     "metadata": {},
     "output_type": "display_data"
    }
   ],
   "source": [
    "fig3, ax = plt.subplots(figsize = (12, 8))\n",
    "\n",
    "sns.scatterplot(x = 'local_tv', y = 'revenue', data = store_revenue )\n",
    "\n",
    "plt.xlabel('LocalTV_Ads_Investment')\n",
    "plt.ylabel('Overall_Revenue')"
   ]
  },
  {
   "cell_type": "markdown",
   "metadata": {
    "application/vnd.databricks.v1+cell": {
     "cellMetadata": {},
     "inputWidgets": {},
     "nuid": "20c0fb7c-3eb8-4528-b329-8f8159f21268",
     "showTitle": false,
     "title": ""
    }
   },
   "source": [
    "Converting catergorical values in to Numerical values"
   ]
  },
  {
   "cell_type": "code",
   "execution_count": 0,
   "metadata": {
    "application/vnd.databricks.v1+cell": {
     "cellMetadata": {
      "byteLimit": 2048000,
      "rowLimit": 10000
     },
     "inputWidgets": {},
     "nuid": "e7048ed1-0106-4de0-984a-3b3bff34567d",
     "showTitle": false,
     "title": ""
    }
   },
   "outputs": [
    {
     "output_type": "execute_result",
     "data": {
      "text/html": [
       "<div>\n",
       "<style scoped>\n",
       "    .dataframe tbody tr th:only-of-type {\n",
       "        vertical-align: middle;\n",
       "    }\n",
       "\n",
       "    .dataframe tbody tr th {\n",
       "        vertical-align: top;\n",
       "    }\n",
       "\n",
       "    .dataframe thead th {\n",
       "        text-align: right;\n",
       "    }\n",
       "</style>\n",
       "<table border=\"1\" class=\"dataframe\">\n",
       "  <thead>\n",
       "    <tr style=\"text-align: right;\">\n",
       "      <th></th>\n",
       "      <th>revenue</th>\n",
       "      <th>reach</th>\n",
       "      <th>local_tv</th>\n",
       "      <th>online</th>\n",
       "      <th>instore</th>\n",
       "      <th>person</th>\n",
       "      <th>event_cobranding</th>\n",
       "      <th>event_holiday</th>\n",
       "      <th>event_non_event</th>\n",
       "      <th>event_special</th>\n",
       "    </tr>\n",
       "  </thead>\n",
       "  <tbody>\n",
       "    <tr>\n",
       "      <th>0</th>\n",
       "      <td>45860.28</td>\n",
       "      <td>2</td>\n",
       "      <td>31694.91</td>\n",
       "      <td>2115</td>\n",
       "      <td>3296</td>\n",
       "      <td>8</td>\n",
       "      <td>0</td>\n",
       "      <td>0</td>\n",
       "      <td>1</td>\n",
       "      <td>0</td>\n",
       "    </tr>\n",
       "    <tr>\n",
       "      <th>1</th>\n",
       "      <td>63588.23</td>\n",
       "      <td>2</td>\n",
       "      <td>35040.17</td>\n",
       "      <td>1826</td>\n",
       "      <td>2501</td>\n",
       "      <td>14</td>\n",
       "      <td>0</td>\n",
       "      <td>0</td>\n",
       "      <td>0</td>\n",
       "      <td>1</td>\n",
       "    </tr>\n",
       "    <tr>\n",
       "      <th>2</th>\n",
       "      <td>23272.69</td>\n",
       "      <td>4</td>\n",
       "      <td>30992.82</td>\n",
       "      <td>1851</td>\n",
       "      <td>2524</td>\n",
       "      <td>6</td>\n",
       "      <td>0</td>\n",
       "      <td>0</td>\n",
       "      <td>0</td>\n",
       "      <td>1</td>\n",
       "    </tr>\n",
       "    <tr>\n",
       "      <th>3</th>\n",
       "      <td>45911.23</td>\n",
       "      <td>2</td>\n",
       "      <td>29417.78</td>\n",
       "      <td>2437</td>\n",
       "      <td>3049</td>\n",
       "      <td>12</td>\n",
       "      <td>0</td>\n",
       "      <td>0</td>\n",
       "      <td>0</td>\n",
       "      <td>1</td>\n",
       "    </tr>\n",
       "    <tr>\n",
       "      <th>4</th>\n",
       "      <td>36644.23</td>\n",
       "      <td>2</td>\n",
       "      <td>35611.11</td>\n",
       "      <td>1122</td>\n",
       "      <td>1142</td>\n",
       "      <td>13</td>\n",
       "      <td>1</td>\n",
       "      <td>0</td>\n",
       "      <td>0</td>\n",
       "      <td>0</td>\n",
       "    </tr>\n",
       "  </tbody>\n",
       "</table>\n",
       "</div>"
      ],
      "text/plain": [
       "    revenue  reach  local_tv  ...  event_holiday  event_non_event  event_special\n",
       "0  45860.28      2  31694.91  ...              0                1              0\n",
       "1  63588.23      2  35040.17  ...              0                0              1\n",
       "2  23272.69      4  30992.82  ...              0                0              1\n",
       "3  45911.23      2  29417.78  ...              0                0              1\n",
       "4  36644.23      2  35611.11  ...              0                0              0\n",
       "\n",
       "[5 rows x 10 columns]"
      ]
     },
     "execution_count": 15,
     "metadata": {},
     "output_type": "execute_result"
    }
   ],
   "source": [
    "store_revenue = pd.get_dummies(store_revenue, columns = ['event'])\n",
    "\n",
    "store_revenue.head()"
   ]
  },
  {
   "cell_type": "markdown",
   "metadata": {
    "application/vnd.databricks.v1+cell": {
     "cellMetadata": {},
     "inputWidgets": {},
     "nuid": "1de5226a-840f-40ab-92eb-243ad111bc2e",
     "showTitle": false,
     "title": ""
    }
   },
   "source": [
    "We can introduce mlflow by setting our created workspace experiment to log all runs therafter.Experiments can also be seen by clicking on the Flask in the header menu."
   ]
  },
  {
   "cell_type": "code",
   "execution_count": 0,
   "metadata": {
    "application/vnd.databricks.v1+cell": {
     "cellMetadata": {
      "byteLimit": 2048000,
      "rowLimit": 10000
     },
     "inputWidgets": {},
     "nuid": "1bbda6af-a5e9-4ba8-8eea-e21ec16b6656",
     "showTitle": false,
     "title": ""
    }
   },
   "outputs": [
    {
     "output_type": "execute_result",
     "data": {
      "text/plain": [
       "<Experiment: artifact_location='dbfs:/databricks/mlflow-tracking/2763935754512596', creation_time=1697369695847, experiment_id='2763935754512596', last_update_time=1697369695847, lifecycle_stage='active', name='/Users/amubeen457@gmail.com/srp', tags={'mlflow.experiment.sourceName': '/Users/amubeen457@gmail.com/srp',\n",
       " 'mlflow.experimentType': 'MLFLOW_EXPERIMENT',\n",
       " 'mlflow.ownerEmail': 'amubeen457@gmail.com',\n",
       " 'mlflow.ownerId': '521721293902460'}>"
      ]
     },
     "execution_count": 16,
     "metadata": {},
     "output_type": "execute_result"
    }
   ],
   "source": [
    "mlflow.set_experiment(experiment_name = '/Users/amubeen457@gmail.com/srp')"
   ]
  },
  {
   "cell_type": "code",
   "execution_count": 0,
   "metadata": {
    "application/vnd.databricks.v1+cell": {
     "cellMetadata": {
      "byteLimit": 2048000,
      "rowLimit": 10000
     },
     "inputWidgets": {},
     "nuid": "d303729a-64b7-46a5-bee1-549f9abdfbd7",
     "showTitle": false,
     "title": ""
    }
   },
   "outputs": [],
   "source": [
    "mlflow.start_run()\n",
    "mlflow.log_figure(fig1, 'corrplot_heatmap.png')\n",
    "mlflow.log_figure(fig2, 'barplot_revenue_event_wise.png')\n",
    "mlflow.log_figure(fig3, 'localtvads_revenue.png')\n",
    "mlflow.end_run()"
   ]
  },
  {
   "cell_type": "markdown",
   "metadata": {
    "application/vnd.databricks.v1+cell": {
     "cellMetadata": {},
     "inputWidgets": {},
     "nuid": "aa4e217a-a7b1-4612-afdb-debe3056f916",
     "showTitle": false,
     "title": ""
    }
   },
   "source": [
    "Splitting the data for test and train.Note that We are converting Predictors df as Float type to avoid warnings related to missing data"
   ]
  },
  {
   "cell_type": "code",
   "execution_count": 0,
   "metadata": {
    "application/vnd.databricks.v1+cell": {
     "cellMetadata": {
      "byteLimit": 2048000,
      "rowLimit": 10000
     },
     "inputWidgets": {},
     "nuid": "f6b7de19-618b-438b-a381-a9a92b0693b1",
     "showTitle": true,
     "title": "Regression model"
    }
   },
   "outputs": [],
   "source": [
    "X = store_revenue.drop('revenue', axis = 1)\n",
    "y = store_revenue['revenue']\n",
    "X = X.astype(np.float64)\n",
    "\n",
    "X_train, X_test, y_train, y_test = train_test_split(X, y, test_size = 0.2, random_state = 123)"
   ]
  },
  {
   "cell_type": "code",
   "execution_count": 0,
   "metadata": {
    "application/vnd.databricks.v1+cell": {
     "cellMetadata": {
      "byteLimit": 2048000,
      "rowLimit": 10000
     },
     "inputWidgets": {},
     "nuid": "99fd01ab-bff1-4252-b370-83241c40e9e0",
     "showTitle": false,
     "title": ""
    }
   },
   "outputs": [
    {
     "output_type": "execute_result",
     "data": {
      "text/plain": [
       "((743, 9), (186, 9), (743,), (186,))"
      ]
     },
     "execution_count": 19,
     "metadata": {},
     "output_type": "execute_result"
    }
   ],
   "source": [
    "X_train.shape, X_test.shape, y_train.shape, y_test.shape"
   ]
  },
  {
   "cell_type": "markdown",
   "metadata": {
    "application/vnd.databricks.v1+cell": {
     "cellMetadata": {},
     "inputWidgets": {},
     "nuid": "0cfc2f24-c49b-4a1e-bfa0-d8341ee294e1",
     "showTitle": false,
     "title": ""
    }
   },
   "source": [
    "By the below box plot we can  see that our numeric columns are in very different ranges of values before scaling"
   ]
  },
  {
   "cell_type": "code",
   "execution_count": 0,
   "metadata": {
    "application/vnd.databricks.v1+cell": {
     "cellMetadata": {
      "byteLimit": 2048000,
      "rowLimit": 10000
     },
     "inputWidgets": {},
     "nuid": "1770ac60-006f-48d5-bdc4-a3a81a63d1c4",
     "showTitle": false,
     "title": ""
    }
   },
   "outputs": [
    {
     "output_type": "display_data",
     "data": {
      "image/png": "[encoded data removed]",
      "text/plain": [
       "<Figure size 1200x800 with 1 Axes>"
      ]
     },
     "metadata": {},
     "output_type": "display_data"
    }
   ],
   "source": [
    "store_revenue.boxplot(column = ['local_tv', 'reach', 'online', 'instore', 'person'], figsize = (12, 8))\n",
    "\n",
    "plt.show()\n"
   ]
  },
  {
   "cell_type": "markdown",
   "metadata": {
    "application/vnd.databricks.v1+cell": {
     "cellMetadata": {},
     "inputWidgets": {},
     "nuid": "3cbadf0a-90ba-4fcd-839b-02c9ea74e145",
     "showTitle": false,
     "title": ""
    }
   },
   "source": [
    "Separate datasets are made for numerical and categorical columns before performing Scaling"
   ]
  },
  {
   "cell_type": "code",
   "execution_count": 0,
   "metadata": {
    "application/vnd.databricks.v1+cell": {
     "cellMetadata": {
      "byteLimit": 2048000,
      "rowLimit": 10000
     },
     "inputWidgets": {},
     "nuid": "a6bb51b0-3994-4b2e-8baf-8a68890b3716",
     "showTitle": false,
     "title": ""
    }
   },
   "outputs": [
    {
     "output_type": "execute_result",
     "data": {
      "text/html": [
       "<div>\n",
       "<style scoped>\n",
       "    .dataframe tbody tr th:only-of-type {\n",
       "        vertical-align: middle;\n",
       "    }\n",
       "\n",
       "    .dataframe tbody tr th {\n",
       "        vertical-align: top;\n",
       "    }\n",
       "\n",
       "    .dataframe thead th {\n",
       "        text-align: right;\n",
       "    }\n",
       "</style>\n",
       "<table border=\"1\" class=\"dataframe\">\n",
       "  <thead>\n",
       "    <tr style=\"text-align: right;\">\n",
       "      <th></th>\n",
       "      <th>reach</th>\n",
       "      <th>local_tv</th>\n",
       "      <th>online</th>\n",
       "      <th>instore</th>\n",
       "      <th>person</th>\n",
       "    </tr>\n",
       "  </thead>\n",
       "  <tbody>\n",
       "    <tr>\n",
       "      <th>316</th>\n",
       "      <td>5.0</td>\n",
       "      <td>29888.86</td>\n",
       "      <td>1974.0</td>\n",
       "      <td>1891.0</td>\n",
       "      <td>9.0</td>\n",
       "    </tr>\n",
       "    <tr>\n",
       "      <th>796</th>\n",
       "      <td>3.0</td>\n",
       "      <td>29585.68</td>\n",
       "      <td>1189.0</td>\n",
       "      <td>3304.0</td>\n",
       "      <td>13.0</td>\n",
       "    </tr>\n",
       "    <tr>\n",
       "      <th>63</th>\n",
       "      <td>2.0</td>\n",
       "      <td>32687.14</td>\n",
       "      <td>2732.0</td>\n",
       "      <td>2181.0</td>\n",
       "      <td>9.0</td>\n",
       "    </tr>\n",
       "    <tr>\n",
       "      <th>714</th>\n",
       "      <td>3.0</td>\n",
       "      <td>29982.31</td>\n",
       "      <td>1988.0</td>\n",
       "      <td>4973.0</td>\n",
       "      <td>10.0</td>\n",
       "    </tr>\n",
       "    <tr>\n",
       "      <th>478</th>\n",
       "      <td>4.0</td>\n",
       "      <td>29494.04</td>\n",
       "      <td>2002.0</td>\n",
       "      <td>4200.0</td>\n",
       "      <td>11.0</td>\n",
       "    </tr>\n",
       "  </tbody>\n",
       "</table>\n",
       "</div>"
      ],
      "text/plain": [
       "     reach  local_tv  online  instore  person\n",
       "316    5.0  29888.86  1974.0   1891.0     9.0\n",
       "796    3.0  29585.68  1189.0   3304.0    13.0\n",
       "63     2.0  32687.14  2732.0   2181.0     9.0\n",
       "714    3.0  29982.31  1988.0   4973.0    10.0\n",
       "478    4.0  29494.04  2002.0   4200.0    11.0"
      ]
     },
     "execution_count": 21,
     "metadata": {},
     "output_type": "execute_result"
    }
   ],
   "source": [
    "numerical_data = ['reach', 'local_tv', 'online', 'instore', 'person']\n",
    "categorical_data = ['event_cobranding', 'event_holiday', 'event_non_event', 'event_special']\n",
    "\n",
    "X_train_numerical = X_train[numerical_data]\n",
    "X_test_numerical = X_test[numerical_data]\n",
    "\n",
    "X_train_numerical.head()"
   ]
  },
  {
   "cell_type": "code",
   "execution_count": 0,
   "metadata": {
    "application/vnd.databricks.v1+cell": {
     "cellMetadata": {
      "byteLimit": 2048000,
      "rowLimit": 10000
     },
     "inputWidgets": {},
     "nuid": "322ae484-d26e-4e3e-a41c-a92ef8b95c25",
     "showTitle": false,
     "title": ""
    }
   },
   "outputs": [
    {
     "output_type": "execute_result",
     "data": {
      "text/html": [
       "<div>\n",
       "<style scoped>\n",
       "    .dataframe tbody tr th:only-of-type {\n",
       "        vertical-align: middle;\n",
       "    }\n",
       "\n",
       "    .dataframe tbody tr th {\n",
       "        vertical-align: top;\n",
       "    }\n",
       "\n",
       "    .dataframe thead th {\n",
       "        text-align: right;\n",
       "    }\n",
       "</style>\n",
       "<table border=\"1\" class=\"dataframe\">\n",
       "  <thead>\n",
       "    <tr style=\"text-align: right;\">\n",
       "      <th></th>\n",
       "      <th>event_cobranding</th>\n",
       "      <th>event_holiday</th>\n",
       "      <th>event_non_event</th>\n",
       "      <th>event_special</th>\n",
       "    </tr>\n",
       "  </thead>\n",
       "  <tbody>\n",
       "    <tr>\n",
       "      <th>316</th>\n",
       "      <td>0.0</td>\n",
       "      <td>0.0</td>\n",
       "      <td>1.0</td>\n",
       "      <td>0.0</td>\n",
       "    </tr>\n",
       "    <tr>\n",
       "      <th>796</th>\n",
       "      <td>0.0</td>\n",
       "      <td>1.0</td>\n",
       "      <td>0.0</td>\n",
       "      <td>0.0</td>\n",
       "    </tr>\n",
       "    <tr>\n",
       "      <th>63</th>\n",
       "      <td>0.0</td>\n",
       "      <td>0.0</td>\n",
       "      <td>1.0</td>\n",
       "      <td>0.0</td>\n",
       "    </tr>\n",
       "    <tr>\n",
       "      <th>714</th>\n",
       "      <td>1.0</td>\n",
       "      <td>0.0</td>\n",
       "      <td>0.0</td>\n",
       "      <td>0.0</td>\n",
       "    </tr>\n",
       "    <tr>\n",
       "      <th>478</th>\n",
       "      <td>1.0</td>\n",
       "      <td>0.0</td>\n",
       "      <td>0.0</td>\n",
       "      <td>0.0</td>\n",
       "    </tr>\n",
       "  </tbody>\n",
       "</table>\n",
       "</div>"
      ],
      "text/plain": [
       "     event_cobranding  event_holiday  event_non_event  event_special\n",
       "316               0.0            0.0              1.0            0.0\n",
       "796               0.0            1.0              0.0            0.0\n",
       "63                0.0            0.0              1.0            0.0\n",
       "714               1.0            0.0              0.0            0.0\n",
       "478               1.0            0.0              0.0            0.0"
      ]
     },
     "execution_count": 22,
     "metadata": {},
     "output_type": "execute_result"
    }
   ],
   "source": [
    "X_train_categorical = X_train[categorical_data]\n",
    "X_test_categorical = X_test[categorical_data]\n",
    "\n",
    "X_train_categorical.head()"
   ]
  },
  {
   "cell_type": "markdown",
   "metadata": {
    "application/vnd.databricks.v1+cell": {
     "cellMetadata": {},
     "inputWidgets": {},
     "nuid": "88a87572-9d17-4984-8676-d204829ad975",
     "showTitle": false,
     "title": ""
    }
   },
   "source": [
    "Here we are scaling our  columns of separate dataframe which is  made up of  numerical columns from training set and scaling columns of  separate dataframe which is made up of numerical columns from test set(using the same mean, stddev from the training set)"
   ]
  },
  {
   "cell_type": "code",
   "execution_count": 0,
   "metadata": {
    "application/vnd.databricks.v1+cell": {
     "cellMetadata": {
      "byteLimit": 2048000,
      "rowLimit": 10000
     },
     "inputWidgets": {},
     "nuid": "dddb8ca8-b3ab-41c8-80ec-cbec3d20dcc7",
     "showTitle": false,
     "title": ""
    }
   },
   "outputs": [],
   "source": [
    "scaler = StandardScaler()\n",
    "\n",
    "X_train_numerical = pd.DataFrame(scaler.fit_transform(X_train_numerical), \n",
    "                                 columns = X_train_numerical.columns)\n",
    "\n",
    "X_test_numerical = pd.DataFrame(scaler.transform(X_test_numerical),\n",
    "                                columns = X_test_numerical.columns)"
   ]
  },
  {
   "cell_type": "markdown",
   "metadata": {
    "application/vnd.databricks.v1+cell": {
     "cellMetadata": {},
     "inputWidgets": {},
     "nuid": "e0952ab7-b44a-4fad-b919-f5fc3547bb05",
     "showTitle": false,
     "title": ""
    }
   },
   "source": [
    "Combining our scaled numeric columns with our one-hot-encoded categorical columns( only the training dataset)"
   ]
  },
  {
   "cell_type": "code",
   "execution_count": 0,
   "metadata": {
    "application/vnd.databricks.v1+cell": {
     "cellMetadata": {
      "byteLimit": 2048000,
      "rowLimit": 10000
     },
     "inputWidgets": {},
     "nuid": "387103db-52ce-4459-be1b-271cab7d9fba",
     "showTitle": false,
     "title": ""
    }
   },
   "outputs": [
    {
     "output_type": "execute_result",
     "data": {
      "text/html": [
       "<div>\n",
       "<style scoped>\n",
       "    .dataframe tbody tr th:only-of-type {\n",
       "        vertical-align: middle;\n",
       "    }\n",
       "\n",
       "    .dataframe tbody tr th {\n",
       "        vertical-align: top;\n",
       "    }\n",
       "\n",
       "    .dataframe thead th {\n",
       "        text-align: right;\n",
       "    }\n",
       "</style>\n",
       "<table border=\"1\" class=\"dataframe\">\n",
       "  <thead>\n",
       "    <tr style=\"text-align: right;\">\n",
       "      <th></th>\n",
       "      <th>reach</th>\n",
       "      <th>local_tv</th>\n",
       "      <th>online</th>\n",
       "      <th>instore</th>\n",
       "      <th>person</th>\n",
       "      <th>event_cobranding</th>\n",
       "      <th>event_holiday</th>\n",
       "      <th>event_non_event</th>\n",
       "      <th>event_special</th>\n",
       "    </tr>\n",
       "  </thead>\n",
       "  <tbody>\n",
       "    <tr>\n",
       "      <th>0</th>\n",
       "      <td>1.552441</td>\n",
       "      <td>-0.369242</td>\n",
       "      <td>0.749687</td>\n",
       "      <td>-1.524322</td>\n",
       "      <td>-0.668705</td>\n",
       "      <td>0.0</td>\n",
       "      <td>0.0</td>\n",
       "      <td>1.0</td>\n",
       "      <td>0.0</td>\n",
       "    </tr>\n",
       "    <tr>\n",
       "      <th>1</th>\n",
       "      <td>-0.376428</td>\n",
       "      <td>-0.445313</td>\n",
       "      <td>-0.828391</td>\n",
       "      <td>-0.086664</td>\n",
       "      <td>0.631093</td>\n",
       "      <td>0.0</td>\n",
       "      <td>1.0</td>\n",
       "      <td>0.0</td>\n",
       "      <td>0.0</td>\n",
       "    </tr>\n",
       "    <tr>\n",
       "      <th>2</th>\n",
       "      <td>-1.340862</td>\n",
       "      <td>0.332869</td>\n",
       "      <td>2.273488</td>\n",
       "      <td>-1.229261</td>\n",
       "      <td>-0.668705</td>\n",
       "      <td>0.0</td>\n",
       "      <td>0.0</td>\n",
       "      <td>1.0</td>\n",
       "      <td>0.0</td>\n",
       "    </tr>\n",
       "    <tr>\n",
       "      <th>3</th>\n",
       "      <td>-0.376428</td>\n",
       "      <td>-0.345795</td>\n",
       "      <td>0.777831</td>\n",
       "      <td>1.611461</td>\n",
       "      <td>-0.343755</td>\n",
       "      <td>1.0</td>\n",
       "      <td>0.0</td>\n",
       "      <td>0.0</td>\n",
       "      <td>0.0</td>\n",
       "    </tr>\n",
       "    <tr>\n",
       "      <th>4</th>\n",
       "      <td>0.588006</td>\n",
       "      <td>-0.468306</td>\n",
       "      <td>0.805975</td>\n",
       "      <td>0.824972</td>\n",
       "      <td>-0.018806</td>\n",
       "      <td>1.0</td>\n",
       "      <td>0.0</td>\n",
       "      <td>0.0</td>\n",
       "      <td>0.0</td>\n",
       "    </tr>\n",
       "  </tbody>\n",
       "</table>\n",
       "</div>"
      ],
      "text/plain": [
       "      reach  local_tv    online  ...  event_holiday  event_non_event  event_special\n",
       "0  1.552441 -0.369242  0.749687  ...            0.0              1.0            0.0\n",
       "1 -0.376428 -0.445313 -0.828391  ...            1.0              0.0            0.0\n",
       "2 -1.340862  0.332869  2.273488  ...            0.0              1.0            0.0\n",
       "3 -0.376428 -0.345795  0.777831  ...            0.0              0.0            0.0\n",
       "4  0.588006 -0.468306  0.805975  ...            0.0              0.0            0.0\n",
       "\n",
       "[5 rows x 9 columns]"
      ]
     },
     "execution_count": 24,
     "metadata": {},
     "output_type": "execute_result"
    }
   ],
   "source": [
    "X_train_categorical.reset_index(drop = True, inplace = True)\n",
    "X_train_numerical.reset_index(drop = True, inplace = True)\n",
    "\n",
    "X_train = pd.concat([X_train_numerical, X_train_categorical], axis = 1)\n",
    "\n",
    "X_train.head()"
   ]
  },
  {
   "cell_type": "markdown",
   "metadata": {
    "application/vnd.databricks.v1+cell": {
     "cellMetadata": {},
     "inputWidgets": {},
     "nuid": "eb8e22c3-ab87-4217-8895-fa13e4c431e5",
     "showTitle": false,
     "title": ""
    }
   },
   "source": [
    "Combining our scaled numeric columns with our one-hot-encoded categorical columns( only the testing dataset)"
   ]
  },
  {
   "cell_type": "code",
   "execution_count": 0,
   "metadata": {
    "application/vnd.databricks.v1+cell": {
     "cellMetadata": {
      "byteLimit": 2048000,
      "rowLimit": 10000
     },
     "inputWidgets": {},
     "nuid": "0650b41c-a7ef-4178-bb39-d393ba7e15ca",
     "showTitle": false,
     "title": ""
    }
   },
   "outputs": [
    {
     "output_type": "execute_result",
     "data": {
      "text/html": [
       "<div>\n",
       "<style scoped>\n",
       "    .dataframe tbody tr th:only-of-type {\n",
       "        vertical-align: middle;\n",
       "    }\n",
       "\n",
       "    .dataframe tbody tr th {\n",
       "        vertical-align: top;\n",
       "    }\n",
       "\n",
       "    .dataframe thead th {\n",
       "        text-align: right;\n",
       "    }\n",
       "</style>\n",
       "<table border=\"1\" class=\"dataframe\">\n",
       "  <thead>\n",
       "    <tr style=\"text-align: right;\">\n",
       "      <th></th>\n",
       "      <th>reach</th>\n",
       "      <th>local_tv</th>\n",
       "      <th>online</th>\n",
       "      <th>instore</th>\n",
       "      <th>person</th>\n",
       "      <th>event_cobranding</th>\n",
       "      <th>event_holiday</th>\n",
       "      <th>event_non_event</th>\n",
       "      <th>event_special</th>\n",
       "    </tr>\n",
       "  </thead>\n",
       "  <tbody>\n",
       "    <tr>\n",
       "      <th>0</th>\n",
       "      <td>1.552441</td>\n",
       "      <td>0.385221</td>\n",
       "      <td>1.756843</td>\n",
       "      <td>-0.136519</td>\n",
       "      <td>0.631093</td>\n",
       "      <td>0.0</td>\n",
       "      <td>0.0</td>\n",
       "      <td>1.0</td>\n",
       "      <td>0.0</td>\n",
       "    </tr>\n",
       "    <tr>\n",
       "      <th>1</th>\n",
       "      <td>1.552441</td>\n",
       "      <td>0.500727</td>\n",
       "      <td>-0.372055</td>\n",
       "      <td>0.487178</td>\n",
       "      <td>-0.993654</td>\n",
       "      <td>0.0</td>\n",
       "      <td>0.0</td>\n",
       "      <td>0.0</td>\n",
       "      <td>1.0</td>\n",
       "    </tr>\n",
       "    <tr>\n",
       "      <th>2</th>\n",
       "      <td>1.552441</td>\n",
       "      <td>-0.997883</td>\n",
       "      <td>-0.148913</td>\n",
       "      <td>-0.970829</td>\n",
       "      <td>1.280992</td>\n",
       "      <td>0.0</td>\n",
       "      <td>0.0</td>\n",
       "      <td>0.0</td>\n",
       "      <td>1.0</td>\n",
       "    </tr>\n",
       "    <tr>\n",
       "      <th>3</th>\n",
       "      <td>0.588006</td>\n",
       "      <td>1.107827</td>\n",
       "      <td>-0.896741</td>\n",
       "      <td>-0.685943</td>\n",
       "      <td>0.306143</td>\n",
       "      <td>0.0</td>\n",
       "      <td>0.0</td>\n",
       "      <td>0.0</td>\n",
       "      <td>1.0</td>\n",
       "    </tr>\n",
       "    <tr>\n",
       "      <th>4</th>\n",
       "      <td>-0.376428</td>\n",
       "      <td>-1.270696</td>\n",
       "      <td>0.675306</td>\n",
       "      <td>-0.711379</td>\n",
       "      <td>-0.668705</td>\n",
       "      <td>1.0</td>\n",
       "      <td>0.0</td>\n",
       "      <td>0.0</td>\n",
       "      <td>0.0</td>\n",
       "    </tr>\n",
       "  </tbody>\n",
       "</table>\n",
       "</div>"
      ],
      "text/plain": [
       "      reach  local_tv    online  ...  event_holiday  event_non_event  event_special\n",
       "0  1.552441  0.385221  1.756843  ...            0.0              1.0            0.0\n",
       "1  1.552441  0.500727 -0.372055  ...            0.0              0.0            1.0\n",
       "2  1.552441 -0.997883 -0.148913  ...            0.0              0.0            1.0\n",
       "3  0.588006  1.107827 -0.896741  ...            0.0              0.0            1.0\n",
       "4 -0.376428 -1.270696  0.675306  ...            0.0              0.0            0.0\n",
       "\n",
       "[5 rows x 9 columns]"
      ]
     },
     "execution_count": 25,
     "metadata": {},
     "output_type": "execute_result"
    }
   ],
   "source": [
    "X_test_categorical.reset_index(drop = True, inplace = True)\n",
    "X_test_numerical.reset_index(drop = True, inplace = True)\n",
    "\n",
    "X_test = pd.concat([X_test_numerical, X_test_categorical], axis = 1)\n",
    "\n",
    "X_test.head()"
   ]
  },
  {
   "cell_type": "markdown",
   "metadata": {
    "application/vnd.databricks.v1+cell": {
     "cellMetadata": {},
     "inputWidgets": {},
     "nuid": "354a3527-cf2f-42a3-97d3-dcb3f2ec4e60",
     "showTitle": false,
     "title": ""
    }
   },
   "source": [
    "Post scaling, The numerical variables distributions can be seen in more or less same range"
   ]
  },
  {
   "cell_type": "code",
   "execution_count": 0,
   "metadata": {
    "application/vnd.databricks.v1+cell": {
     "cellMetadata": {
      "byteLimit": 2048000,
      "rowLimit": 10000
     },
     "inputWidgets": {},
     "nuid": "78fd0e2a-1501-48a3-b3f5-6544ec4ed208",
     "showTitle": false,
     "title": ""
    }
   },
   "outputs": [
    {
     "output_type": "display_data",
     "data": {
      "image/png": "[encoded data removed]",
      "text/plain": [
       "<Figure size 1200x800 with 1 Axes>"
      ]
     },
     "metadata": {},
     "output_type": "display_data"
    }
   ],
   "source": [
    "X_train.boxplot(column = ['local_tv', 'reach', 'online', 'instore', 'person'], figsize = (12, 8))\n",
    "\n",
    "plt.show()"
   ]
  },
  {
   "cell_type": "code",
   "execution_count": 0,
   "metadata": {
    "application/vnd.databricks.v1+cell": {
     "cellMetadata": {
      "byteLimit": 2048000,
      "rowLimit": 10000
     },
     "inputWidgets": {},
     "nuid": "4f0b01ba-08da-40e2-aee9-4ea21ca083bf",
     "showTitle": false,
     "title": ""
    }
   },
   "outputs": [
    {
     "output_type": "stream",
     "name": "stderr",
     "output_type": "stream",
     "text": [
      "2023/10/15 11:41:55 WARNING mlflow.utils.autologging_utils: MLflow autologging encountered a warning: \"/databricks/python/lib/python3.10/site-packages/_distutils_hack/__init__.py:33: UserWarning: Setuptools is replacing distutils.\"\n"
     ]
    },
    {
     "output_type": "stream",
     "name": "stdout",
     "output_type": "stream",
     "text": [
      "Active run_id: 43b7b2e59ad24f728d66f37160fe3d58\n"
     ]
    }
   ],
   "source": [
    "mlflow.sklearn.autolog()\n",
    "\n",
    "from sklearn.metrics import r2_score, mean_squared_error, mean_absolute_error\n",
    "\n",
    "with mlflow.start_run(run_name = 'linear_regression_model') as run1:\n",
    "\n",
    "      lr = LinearRegression()\n",
    "      lr.fit(X_train, y_train)\n",
    "\n",
    "      y_pred =  lr.predict(X_test)\n",
    "      \n",
    "      testing_score = r2_score(y_test, y_pred)\n",
    "      mean_absolute_score = mean_absolute_error(y_test, y_pred)\n",
    "      mean_sq_error = mean_squared_error(y_test, y_pred)\n",
    "      \n",
    "      run1 = mlflow.active_run()\n",
    "      \n",
    "      print('Active run_id: {}'.format(run1.info.run_id))"
   ]
  },
  {
   "cell_type": "markdown",
   "metadata": {
    "application/vnd.databricks.v1+cell": {
     "cellMetadata": {},
     "inputWidgets": {},
     "nuid": "c2f8d4cd-5842-4d04-9288-65d75b84fcbe",
     "showTitle": false,
     "title": ""
    }
   },
   "source": [
    "Running one more run this time using Randomforest Regressor on same training data."
   ]
  },
  {
   "cell_type": "code",
   "execution_count": 0,
   "metadata": {
    "application/vnd.databricks.v1+cell": {
     "cellMetadata": {
      "byteLimit": 2048000,
      "rowLimit": 10000
     },
     "inputWidgets": {},
     "nuid": "00dfb899-9eb1-4ef0-88a6-7e30e99accca",
     "showTitle": false,
     "title": ""
    }
   },
   "outputs": [
    {
     "output_type": "stream",
     "name": "stdout",
     "output_type": "stream",
     "text": [
      "Active run_id: ff7d6f7ea8574efe9deb0d24f7d41639\n"
     ]
    }
   ],
   "source": [
    "with mlflow.start_run(run_name = 'randomforest_regression_model') as run2:\n",
    "      rf = RandomForestRegressor()\n",
    "      rf.fit(X_train, y_train)\n",
    "\n",
    "      y_pred =  rf.predict(X_test)\n",
    "      \n",
    "      testing_score = r2_score(y_test, y_pred)\n",
    "      mean_absolute_score = mean_absolute_error(y_test, y_pred)\n",
    "      mean_sq_error = mean_squared_error(y_test, y_pred)\n",
    "      \n",
    "      run2 = mlflow.active_run()\n",
    "      \n",
    "      print('Active run_id: {}'.format(run2.info.run_id))"
   ]
  },
  {
   "cell_type": "markdown",
   "metadata": {
    "application/vnd.databricks.v1+cell": {
     "cellMetadata": {},
     "inputWidgets": {},
     "nuid": "cf4aee4d-4aaf-46ed-8d0a-816e7a382f11",
     "showTitle": false,
     "title": ""
    }
   },
   "source": [
    "## TODO Recording\n",
    "\n",
    "- Open up the run for random forest in a new tab  (click on 1 run in the results)\n",
    "- Click through and show each detail in the run Parameters, Metrics\n",
    "- Close the tab with the run"
   ]
  },
  {
   "cell_type": "code",
   "execution_count": 0,
   "metadata": {
    "application/vnd.databricks.v1+cell": {
     "cellMetadata": {
      "byteLimit": 2048000,
      "rowLimit": 10000
     },
     "inputWidgets": {},
     "nuid": "5b4e8649-0ec6-486f-a87f-910aba9d24b3",
     "showTitle": false,
     "title": ""
    }
   },
   "outputs": [
    {
     "output_type": "stream",
     "name": "stdout",
     "output_type": "stream",
     "text": [
      "Active run_id: 936b798dbcaf4e6185824bc27b09212b\n"
     ]
    }
   ],
   "source": [
    "with mlflow.start_run(run_name = 'knn_regression_model') as run3:\n",
    "      knn = KNeighborsRegressor()\n",
    "      knn.fit(X_train, y_train)\n",
    "      \n",
    "      y_pred =  knn.predict(X_test)\n",
    "      \n",
    "      testing_score = r2_score(y_test, y_pred)\n",
    "      mean_absolute_score = mean_absolute_error(y_test, y_pred)\n",
    "      mean_sq_error = mean_squared_error(y_test, y_pred)\n",
    "      \n",
    "      run3 = mlflow.active_run()\n",
    "      \n",
    "      print('Active run_id: {}'.format(run3.info.run_id))"
   ]
  },
  {
   "cell_type": "code",
   "execution_count": 0,
   "metadata": {
    "application/vnd.databricks.v1+cell": {
     "cellMetadata": {
      "byteLimit": 2048000,
      "rowLimit": 10000
     },
     "inputWidgets": {},
     "nuid": "46a68be9-5306-4322-8294-cfe1bd202088",
     "showTitle": false,
     "title": ""
    }
   },
   "outputs": [
    {
     "output_type": "execute_result",
     "data": {
      "text/plain": [
       "'43b7b2e59ad24f728d66f37160fe3d58'"
      ]
     },
     "execution_count": 30,
     "metadata": {},
     "output_type": "execute_result"
    }
   ],
   "source": [
    "run1.info.run_id"
   ]
  },
  {
   "cell_type": "code",
   "execution_count": 0,
   "metadata": {
    "application/vnd.databricks.v1+cell": {
     "cellMetadata": {
      "byteLimit": 2048000,
      "rowLimit": 10000
     },
     "inputWidgets": {},
     "nuid": "152fbc9d-066f-48cd-9e77-301078499c9f",
     "showTitle": false,
     "title": ""
    }
   },
   "outputs": [],
   "source": [
    "run_id1 = run1.info.run_id\n",
    "model_uri = 'runs:/' + run_id1 + '/model'"
   ]
  },
  {
   "cell_type": "code",
   "execution_count": 0,
   "metadata": {
    "application/vnd.databricks.v1+cell": {
     "cellMetadata": {
      "byteLimit": 2048000,
      "rowLimit": 10000
     },
     "inputWidgets": {},
     "nuid": "216b48b0-2191-4e18-8237-c3b14efc9a74",
     "showTitle": false,
     "title": ""
    }
   },
   "outputs": [
    {
     "output_type": "execute_result",
     "data": {
      "text/plain": [
       "array([-2280.39369148,  6787.2010622 ,  1650.2234452 ,  4192.16805257,\n",
       "        6250.6670496 ,   187.68623538,   510.4137645 ,  -748.89582888,\n",
       "          50.795829  ])"
      ]
     },
     "execution_count": 32,
     "metadata": {},
     "output_type": "execute_result"
    }
   ],
   "source": [
    "import mlflow.sklearn\n",
    "\n",
    "model = mlflow.sklearn.load_model(model_uri = model_uri)\n",
    "\n",
    "model.coef_"
   ]
  },
  {
   "cell_type": "markdown",
   "metadata": {
    "application/vnd.databricks.v1+cell": {
     "cellMetadata": {},
     "inputWidgets": {},
     "nuid": "ffce1289-d37d-406a-a671-35312c7d8c36",
     "showTitle": false,
     "title": ""
    }
   },
   "source": [
    "Obtaining predictions for test data"
   ]
  },
  {
   "cell_type": "code",
   "execution_count": 0,
   "metadata": {
    "application/vnd.databricks.v1+cell": {
     "cellMetadata": {
      "byteLimit": 2048000,
      "rowLimit": 10000
     },
     "inputWidgets": {},
     "nuid": "bd47b3c1-8ea3-40ef-a1ff-da181e494a04",
     "showTitle": false,
     "title": ""
    }
   },
   "outputs": [
    {
     "output_type": "execute_result",
     "data": {
      "text/plain": [
       "array([43083.01833941, 33612.40450612, 31915.11082095, 42273.03924711,\n",
       "       24859.84795931, 48959.28136966, 37146.91779982, 30170.82331234,\n",
       "       36885.24894653, 40214.65631313, 59332.21152135, 54694.40772127,\n",
       "       30188.44970859, 49749.07167889,  5389.41926509, 21297.29900513,\n",
       "       43663.36301187, 35210.98868979, 30814.71769084, 44682.83297275,\n",
       "       25949.30591465, 28152.51094813, 48539.90152888, 23136.08819291,\n",
       "       14857.3039233 , 40660.77125708, 26382.18748393, 22876.56055999,\n",
       "       59083.686197  , 50107.01767985, 46014.69633312, 27413.05447335,\n",
       "       28018.27105662, 29965.62276427, 47119.72675791, 21319.747057  ,\n",
       "       27012.84033421, 29205.10049979, 50767.44649211, 31703.29457514,\n",
       "       48108.18659272, 30308.32199107, 36767.60766195, 41995.51103132,\n",
       "       39857.6300178 , 23753.39145379, 34007.39144102, 40739.11999452,\n",
       "       36970.57346196, 34777.20430113, 28989.82657819, 37423.93950523,\n",
       "       44939.3884114 , 18807.79685054, 40122.8041316 , 41302.59762872,\n",
       "       19979.00500384, 44632.66514955, 38896.59236975, 44901.77902073,\n",
       "       70036.50440169, 28374.9883465 , 41331.76049232, 40244.38833072,\n",
       "       57387.4219794 , 44200.00864493, 39557.31532282, 20327.10021852,\n",
       "       38826.04021807, 37853.66373724, 42006.6427734 , 39513.540439  ,\n",
       "       42357.83651932, 35011.54009161, 49533.26654995, 44900.65951391,\n",
       "       39040.43379634, 26044.21929433, 37774.53745728, 38403.59288916,\n",
       "       50383.92873053, 33971.47643838, 32086.25838643, 41740.45180783,\n",
       "       39394.40605083, 34391.6015445 , 46287.93140577, 38040.94621866,\n",
       "       36699.40796387, 47250.93783742, 19057.23788373, 39349.97314375,\n",
       "       30527.11359716, 19712.73774071, 42879.04479405, 49276.6378161 ,\n",
       "       48676.86422518, 55764.38624272, 17376.15896816, 37980.91533533,\n",
       "       50031.7309251 , 32382.72470091, 55860.98908112, 42037.51308933,\n",
       "       21858.20710499, 34565.96981261, 31090.13037974, 38903.84779397,\n",
       "       23904.40759947, 25525.62230475, 42215.23718961, 43417.66626756,\n",
       "       44327.05342445, 35009.5531166 , 31259.47075183, 42399.91673014,\n",
       "       52709.77889211, 33074.4124395 , 46305.76773554, 33088.51095192,\n",
       "       28952.86579651, 51229.45196702, 43090.51583282, 36539.34239672,\n",
       "       42261.49455172, 26752.88528635, 17367.16106293, 41970.09114701,\n",
       "       34334.09714102, 50842.24627863, 46420.47300489, 20500.37076941,\n",
       "       31172.77901618, 34377.93225594, 51727.21321789, 26242.11506087,\n",
       "       32386.29034948, 41858.91521478, 39130.85942031, 49178.22058963,\n",
       "       36337.74167064, 31973.96994307, 32559.39982087, 32502.00272074,\n",
       "       28369.149094  , 26980.04225867, 36992.07706545, 18617.52120838,\n",
       "       52578.57893787, 33874.9924398 , 26369.07868045, 15649.48421653,\n",
       "       54969.65317836, 17303.41660491, 30818.77957359, 31767.05579081,\n",
       "       36102.82425946, 39921.08276342, 53394.60780561, 46899.21773848,\n",
       "       33286.40624594, 45563.04205395, 52841.89153083, 54187.77612878,\n",
       "       28234.01727954, 28441.73403261, 48716.63899742, 35186.38808399,\n",
       "       27196.80082388, 44079.15473249, 53966.5126585 , 40440.02342611,\n",
       "       50344.51514978, 40528.54079831, 39443.38551261, 33410.60937083,\n",
       "       39069.25170574, 47802.60670202, 29828.9172149 , 48919.88238153,\n",
       "       53162.24962916, 49365.39605646, 21326.46969245, 40850.84714495,\n",
       "       47074.1627018 , 33904.89231572])"
      ]
     },
     "execution_count": 33,
     "metadata": {},
     "output_type": "execute_result"
    }
   ],
   "source": [
    "y_pred = model.predict(X_test)\n",
    "\n",
    "y_pred"
   ]
  },
  {
   "cell_type": "markdown",
   "metadata": {
    "application/vnd.databricks.v1+cell": {
     "cellMetadata": {},
     "inputWidgets": {},
     "nuid": "6506bf57-9f53-4000-be85-65866d3ba0cd",
     "showTitle": false,
     "title": ""
    }
   },
   "source": [
    "The loaded model should match the original"
   ]
  },
  {
   "cell_type": "code",
   "execution_count": 0,
   "metadata": {
    "application/vnd.databricks.v1+cell": {
     "cellMetadata": {
      "byteLimit": 2048000,
      "rowLimit": 10000
     },
     "inputWidgets": {},
     "nuid": "7cf24d02-bff6-4429-ae09-524a7e7324b7",
     "showTitle": false,
     "title": ""
    }
   },
   "outputs": [],
   "source": [
    "predictions_loaded = model.predict(X_test)\n",
    "predictions_original = lr.predict(X_test)\n",
    " \n",
    "assert(np.array_equal(predictions_loaded, predictions_original))"
   ]
  },
  {
   "cell_type": "markdown",
   "metadata": {
    "application/vnd.databricks.v1+cell": {
     "cellMetadata": {},
     "inputWidgets": {},
     "nuid": "805e40d7-4805-43c9-a1ac-1b5fa1c3ea11",
     "showTitle": false,
     "title": ""
    }
   },
   "source": [
    "Creating  the PySpark UDF."
   ]
  },
  {
   "cell_type": "code",
   "execution_count": 0,
   "metadata": {
    "application/vnd.databricks.v1+cell": {
     "cellMetadata": {
      "byteLimit": 2048000,
      "rowLimit": 10000
     },
     "inputWidgets": {},
     "nuid": "5ac72ed8-2821-40c2-826e-87eeb097a768",
     "showTitle": false,
     "title": ""
    }
   },
   "outputs": [
    {
     "output_type": "stream",
     "name": "stderr",
     "output_type": "stream",
     "text": [
      "2023/10/15 11:58:56 INFO mlflow.pyfunc: This UDF will use conda to recreate the model's software environment for inference. This may take extra time during execution.\n2023/10/15 11:58:56 INFO mlflow.models.flavor_backend_registry: Selected backend for flavor 'python_function'\n"
     ]
    },
    {
     "output_type": "display_data",
     "data": {
      "text/plain": [
       "\u001B[0;31m---------------------------------------------------------------------------\u001B[0m\n",
       "\u001B[0;31mFileNotFoundError\u001B[0m                         Traceback (most recent call last)\n",
       "File \u001B[0;32m/local_disk0/.ephemeral_nfs/envs/pythonEnv-ad4291a2-86c9-4751-a027-541a14f3faa8/lib/python3.10/site-packages/mlflow/utils/conda.py:224\u001B[0m, in \u001B[0;36mget_or_create_conda_env\u001B[0;34m(conda_env_path, env_id, capture_output, env_root_dir)\u001B[0m\n",
       "\u001B[1;32m    222\u001B[0m \u001B[38;5;28;01mtry\u001B[39;00m:\n",
       "\u001B[1;32m    223\u001B[0m     \u001B[38;5;66;03m# Checks if Conda executable exists\u001B[39;00m\n",
       "\u001B[0;32m--> 224\u001B[0m     \u001B[43mprocess\u001B[49m\u001B[38;5;241;43m.\u001B[39;49m\u001B[43m_exec_cmd\u001B[49m\u001B[43m(\u001B[49m\u001B[43m[\u001B[49m\u001B[43mconda_path\u001B[49m\u001B[43m,\u001B[49m\u001B[43m \u001B[49m\u001B[38;5;124;43m\"\u001B[39;49m\u001B[38;5;124;43m--help\u001B[39;49m\u001B[38;5;124;43m\"\u001B[39;49m\u001B[43m]\u001B[49m\u001B[43m,\u001B[49m\u001B[43m \u001B[49m\u001B[43mthrow_on_error\u001B[49m\u001B[38;5;241;43m=\u001B[39;49m\u001B[38;5;28;43;01mFalse\u001B[39;49;00m\u001B[43m)\u001B[49m\n",
       "\u001B[1;32m    225\u001B[0m \u001B[38;5;28;01mexcept\u001B[39;00m \u001B[38;5;167;01mOSError\u001B[39;00m:\n",
       "\n",
       "File \u001B[0;32m/local_disk0/.ephemeral_nfs/envs/pythonEnv-ad4291a2-86c9-4751-a027-541a14f3faa8/lib/python3.10/site-packages/mlflow/utils/process.py:95\u001B[0m, in \u001B[0;36m_exec_cmd\u001B[0;34m(cmd, throw_on_error, extra_env, capture_output, synchronous, stream_output, **kwargs)\u001B[0m\n",
       "\u001B[1;32m     93\u001B[0m         kwargs[\u001B[38;5;124m\"\u001B[39m\u001B[38;5;124mstderr\u001B[39m\u001B[38;5;124m\"\u001B[39m] \u001B[38;5;241m=\u001B[39m subprocess\u001B[38;5;241m.\u001B[39mSTDOUT\n",
       "\u001B[0;32m---> 95\u001B[0m process \u001B[38;5;241m=\u001B[39m \u001B[43msubprocess\u001B[49m\u001B[38;5;241;43m.\u001B[39;49m\u001B[43mPopen\u001B[49m\u001B[43m(\u001B[49m\n",
       "\u001B[1;32m     96\u001B[0m \u001B[43m    \u001B[49m\u001B[43mcmd\u001B[49m\u001B[43m,\u001B[49m\n",
       "\u001B[1;32m     97\u001B[0m \u001B[43m    \u001B[49m\u001B[43menv\u001B[49m\u001B[38;5;241;43m=\u001B[39;49m\u001B[43menv\u001B[49m\u001B[43m,\u001B[49m\n",
       "\u001B[1;32m     98\u001B[0m \u001B[43m    \u001B[49m\u001B[43mtext\u001B[49m\u001B[38;5;241;43m=\u001B[39;49m\u001B[38;5;28;43;01mTrue\u001B[39;49;00m\u001B[43m,\u001B[49m\n",
       "\u001B[1;32m     99\u001B[0m \u001B[43m    \u001B[49m\u001B[38;5;241;43m*\u001B[39;49m\u001B[38;5;241;43m*\u001B[39;49m\u001B[43mkwargs\u001B[49m\u001B[43m,\u001B[49m\n",
       "\u001B[1;32m    100\u001B[0m \u001B[43m\u001B[49m\u001B[43m)\u001B[49m\n",
       "\u001B[1;32m    101\u001B[0m \u001B[38;5;28;01mif\u001B[39;00m \u001B[38;5;129;01mnot\u001B[39;00m synchronous:\n",
       "\n",
       "File \u001B[0;32m/usr/lib/python3.10/subprocess.py:971\u001B[0m, in \u001B[0;36mPopen.__init__\u001B[0;34m(self, args, bufsize, executable, stdin, stdout, stderr, preexec_fn, close_fds, shell, cwd, env, universal_newlines, startupinfo, creationflags, restore_signals, start_new_session, pass_fds, user, group, extra_groups, encoding, errors, text, umask, pipesize)\u001B[0m\n",
       "\u001B[1;32m    968\u001B[0m             \u001B[38;5;28mself\u001B[39m\u001B[38;5;241m.\u001B[39mstderr \u001B[38;5;241m=\u001B[39m io\u001B[38;5;241m.\u001B[39mTextIOWrapper(\u001B[38;5;28mself\u001B[39m\u001B[38;5;241m.\u001B[39mstderr,\n",
       "\u001B[1;32m    969\u001B[0m                     encoding\u001B[38;5;241m=\u001B[39mencoding, errors\u001B[38;5;241m=\u001B[39merrors)\n",
       "\u001B[0;32m--> 971\u001B[0m     \u001B[38;5;28;43mself\u001B[39;49m\u001B[38;5;241;43m.\u001B[39;49m\u001B[43m_execute_child\u001B[49m\u001B[43m(\u001B[49m\u001B[43margs\u001B[49m\u001B[43m,\u001B[49m\u001B[43m \u001B[49m\u001B[43mexecutable\u001B[49m\u001B[43m,\u001B[49m\u001B[43m \u001B[49m\u001B[43mpreexec_fn\u001B[49m\u001B[43m,\u001B[49m\u001B[43m \u001B[49m\u001B[43mclose_fds\u001B[49m\u001B[43m,\u001B[49m\n",
       "\u001B[1;32m    972\u001B[0m \u001B[43m                        \u001B[49m\u001B[43mpass_fds\u001B[49m\u001B[43m,\u001B[49m\u001B[43m \u001B[49m\u001B[43mcwd\u001B[49m\u001B[43m,\u001B[49m\u001B[43m \u001B[49m\u001B[43menv\u001B[49m\u001B[43m,\u001B[49m\n",
       "\u001B[1;32m    973\u001B[0m \u001B[43m                        \u001B[49m\u001B[43mstartupinfo\u001B[49m\u001B[43m,\u001B[49m\u001B[43m \u001B[49m\u001B[43mcreationflags\u001B[49m\u001B[43m,\u001B[49m\u001B[43m \u001B[49m\u001B[43mshell\u001B[49m\u001B[43m,\u001B[49m\n",
       "\u001B[1;32m    974\u001B[0m \u001B[43m                        \u001B[49m\u001B[43mp2cread\u001B[49m\u001B[43m,\u001B[49m\u001B[43m \u001B[49m\u001B[43mp2cwrite\u001B[49m\u001B[43m,\u001B[49m\n",
       "\u001B[1;32m    975\u001B[0m \u001B[43m                        \u001B[49m\u001B[43mc2pread\u001B[49m\u001B[43m,\u001B[49m\u001B[43m \u001B[49m\u001B[43mc2pwrite\u001B[49m\u001B[43m,\u001B[49m\n",
       "\u001B[1;32m    976\u001B[0m \u001B[43m                        \u001B[49m\u001B[43merrread\u001B[49m\u001B[43m,\u001B[49m\u001B[43m \u001B[49m\u001B[43merrwrite\u001B[49m\u001B[43m,\u001B[49m\n",
       "\u001B[1;32m    977\u001B[0m \u001B[43m                        \u001B[49m\u001B[43mrestore_signals\u001B[49m\u001B[43m,\u001B[49m\n",
       "\u001B[1;32m    978\u001B[0m \u001B[43m                        \u001B[49m\u001B[43mgid\u001B[49m\u001B[43m,\u001B[49m\u001B[43m \u001B[49m\u001B[43mgids\u001B[49m\u001B[43m,\u001B[49m\u001B[43m \u001B[49m\u001B[43muid\u001B[49m\u001B[43m,\u001B[49m\u001B[43m \u001B[49m\u001B[43mumask\u001B[49m\u001B[43m,\u001B[49m\n",
       "\u001B[1;32m    979\u001B[0m \u001B[43m                        \u001B[49m\u001B[43mstart_new_session\u001B[49m\u001B[43m)\u001B[49m\n",
       "\u001B[1;32m    980\u001B[0m \u001B[38;5;28;01mexcept\u001B[39;00m:\n",
       "\u001B[1;32m    981\u001B[0m     \u001B[38;5;66;03m# Cleanup if the child failed starting.\u001B[39;00m\n",
       "\n",
       "File \u001B[0;32m/usr/lib/python3.10/subprocess.py:1863\u001B[0m, in \u001B[0;36mPopen._execute_child\u001B[0;34m(self, args, executable, preexec_fn, close_fds, pass_fds, cwd, env, startupinfo, creationflags, shell, p2cread, p2cwrite, c2pread, c2pwrite, errread, errwrite, restore_signals, gid, gids, uid, umask, start_new_session)\u001B[0m\n",
       "\u001B[1;32m   1862\u001B[0m         err_msg \u001B[38;5;241m=\u001B[39m os\u001B[38;5;241m.\u001B[39mstrerror(errno_num)\n",
       "\u001B[0;32m-> 1863\u001B[0m     \u001B[38;5;28;01mraise\u001B[39;00m child_exception_type(errno_num, err_msg, err_filename)\n",
       "\u001B[1;32m   1864\u001B[0m \u001B[38;5;28;01mraise\u001B[39;00m child_exception_type(err_msg)\n",
       "\n",
       "\u001B[0;31mFileNotFoundError\u001B[0m: [Errno 2] No such file or directory: '/databricks/conda/bin/conda'\n",
       "\n",
       "During handling of the above exception, another exception occurred:\n",
       "\n",
       "\u001B[0;31mExecutionException\u001B[0m                        Traceback (most recent call last)\n",
       "File \u001B[0;32m<command-2763935754512588>, line 3\u001B[0m\n",
       "\u001B[1;32m      1\u001B[0m \u001B[38;5;28;01mimport\u001B[39;00m \u001B[38;5;21;01mmlflow\u001B[39;00m\u001B[38;5;21;01m.\u001B[39;00m\u001B[38;5;21;01mpyfunc\u001B[39;00m\n",
       "\u001B[0;32m----> 3\u001B[0m pyfunc_udf \u001B[38;5;241m=\u001B[39m mlflow\u001B[38;5;241m.\u001B[39mpyfunc\u001B[38;5;241m.\u001B[39mspark_udf(spark, model_uri \u001B[38;5;241m=\u001B[39m model_uri, env_manager \u001B[38;5;241m=\u001B[39m \u001B[38;5;124m'\u001B[39m\u001B[38;5;124mconda\u001B[39m\u001B[38;5;124m'\u001B[39m)\n",
       "\n",
       "File \u001B[0;32m/local_disk0/.ephemeral_nfs/envs/pythonEnv-ad4291a2-86c9-4751-a027-541a14f3faa8/lib/python3.10/site-packages/mlflow/pyfunc/__init__.py:1244\u001B[0m, in \u001B[0;36mspark_udf\u001B[0;34m(spark, model_uri, result_type, env_manager, params)\u001B[0m\n",
       "\u001B[1;32m   1233\u001B[0m \u001B[38;5;28;01mif\u001B[39;00m \u001B[38;5;129;01mnot\u001B[39;00m should_use_spark_to_broadcast_file:\n",
       "\u001B[1;32m   1234\u001B[0m     \u001B[38;5;66;03m# Prepare restored environment in driver side if possible.\u001B[39;00m\n",
       "\u001B[1;32m   1235\u001B[0m     \u001B[38;5;66;03m# Note: In databricks runtime, because databricks notebook cell output cannot capture\u001B[39;00m\n",
       "\u001B[0;32m   (...)\u001B[0m\n",
       "\u001B[1;32m   1241\u001B[0m     \u001B[38;5;66;03m# to wait conda command fail and suddenly get all output printed (included in error\u001B[39;00m\n",
       "\u001B[1;32m   1242\u001B[0m     \u001B[38;5;66;03m# message).\u001B[39;00m\n",
       "\u001B[1;32m   1243\u001B[0m     \u001B[38;5;28;01mif\u001B[39;00m env_manager \u001B[38;5;241m!=\u001B[39m _EnvManager\u001B[38;5;241m.\u001B[39mLOCAL:\n",
       "\u001B[0;32m-> 1244\u001B[0m         \u001B[43mpyfunc_backend\u001B[49m\u001B[38;5;241;43m.\u001B[39;49m\u001B[43mprepare_env\u001B[49m\u001B[43m(\u001B[49m\n",
       "\u001B[1;32m   1245\u001B[0m \u001B[43m            \u001B[49m\u001B[43mmodel_uri\u001B[49m\u001B[38;5;241;43m=\u001B[39;49m\u001B[43mlocal_model_path\u001B[49m\u001B[43m,\u001B[49m\u001B[43m \u001B[49m\u001B[43mcapture_output\u001B[49m\u001B[38;5;241;43m=\u001B[39;49m\u001B[43mis_in_databricks_runtime\u001B[49m\u001B[43m(\u001B[49m\u001B[43m)\u001B[49m\n",
       "\u001B[1;32m   1246\u001B[0m \u001B[43m        \u001B[49m\u001B[43m)\u001B[49m\n",
       "\u001B[1;32m   1247\u001B[0m \u001B[38;5;28;01melse\u001B[39;00m:\n",
       "\u001B[1;32m   1248\u001B[0m     \u001B[38;5;66;03m# Broadcast local model directory to remote worker if needed.\u001B[39;00m\n",
       "\u001B[1;32m   1249\u001B[0m     archive_path \u001B[38;5;241m=\u001B[39m SparkModelCache\u001B[38;5;241m.\u001B[39madd_local_model(spark, local_model_path)\n",
       "\n",
       "File \u001B[0;32m/local_disk0/.ephemeral_nfs/envs/pythonEnv-ad4291a2-86c9-4751-a027-541a14f3faa8/lib/python3.10/site-packages/mlflow/pyfunc/backend.py:121\u001B[0m, in \u001B[0;36mPyFuncBackend.prepare_env\u001B[0;34m(self, model_uri, capture_output)\u001B[0m\n",
       "\u001B[1;32m    119\u001B[0m \u001B[38;5;28;01melif\u001B[39;00m \u001B[38;5;28mself\u001B[39m\u001B[38;5;241m.\u001B[39m_env_manager \u001B[38;5;241m==\u001B[39m _EnvManager\u001B[38;5;241m.\u001B[39mCONDA:\n",
       "\u001B[1;32m    120\u001B[0m     conda_env_path \u001B[38;5;241m=\u001B[39m os\u001B[38;5;241m.\u001B[39mpath\u001B[38;5;241m.\u001B[39mjoin(local_path, _extract_conda_env(\u001B[38;5;28mself\u001B[39m\u001B[38;5;241m.\u001B[39m_config[ENV]))\n",
       "\u001B[0;32m--> 121\u001B[0m     \u001B[38;5;28mself\u001B[39m\u001B[38;5;241m.\u001B[39m_environment \u001B[38;5;241m=\u001B[39m \u001B[43mget_or_create_conda_env\u001B[49m\u001B[43m(\u001B[49m\n",
       "\u001B[1;32m    122\u001B[0m \u001B[43m        \u001B[49m\u001B[43mconda_env_path\u001B[49m\u001B[43m,\u001B[49m\n",
       "\u001B[1;32m    123\u001B[0m \u001B[43m        \u001B[49m\u001B[43menv_id\u001B[49m\u001B[38;5;241;43m=\u001B[39;49m\u001B[38;5;28;43mself\u001B[39;49m\u001B[38;5;241;43m.\u001B[39;49m\u001B[43m_env_id\u001B[49m\u001B[43m,\u001B[49m\n",
       "\u001B[1;32m    124\u001B[0m \u001B[43m        \u001B[49m\u001B[43mcapture_output\u001B[49m\u001B[38;5;241;43m=\u001B[39;49m\u001B[43mcapture_output\u001B[49m\u001B[43m,\u001B[49m\n",
       "\u001B[1;32m    125\u001B[0m \u001B[43m        \u001B[49m\u001B[43menv_root_dir\u001B[49m\u001B[38;5;241;43m=\u001B[39;49m\u001B[43menv_root_dir\u001B[49m\u001B[43m,\u001B[49m\n",
       "\u001B[1;32m    126\u001B[0m \u001B[43m    \u001B[49m\u001B[43m)\u001B[49m\n",
       "\u001B[1;32m    128\u001B[0m \u001B[38;5;28;01melif\u001B[39;00m \u001B[38;5;28mself\u001B[39m\u001B[38;5;241m.\u001B[39m_env_manager \u001B[38;5;241m==\u001B[39m _EnvManager\u001B[38;5;241m.\u001B[39mLOCAL:\n",
       "\u001B[1;32m    129\u001B[0m     \u001B[38;5;28;01mraise\u001B[39;00m \u001B[38;5;167;01mException\u001B[39;00m(\u001B[38;5;124m\"\u001B[39m\u001B[38;5;124mPrepare env should not be called with local env manager!\u001B[39m\u001B[38;5;124m\"\u001B[39m)\n",
       "\n",
       "File \u001B[0;32m/local_disk0/.ephemeral_nfs/envs/pythonEnv-ad4291a2-86c9-4751-a027-541a14f3faa8/lib/python3.10/site-packages/mlflow/utils/conda.py:226\u001B[0m, in \u001B[0;36mget_or_create_conda_env\u001B[0;34m(conda_env_path, env_id, capture_output, env_root_dir)\u001B[0m\n",
       "\u001B[1;32m    224\u001B[0m     process\u001B[38;5;241m.\u001B[39m_exec_cmd([conda_path, \u001B[38;5;124m\"\u001B[39m\u001B[38;5;124m--help\u001B[39m\u001B[38;5;124m\"\u001B[39m], throw_on_error\u001B[38;5;241m=\u001B[39m\u001B[38;5;28;01mFalse\u001B[39;00m)\n",
       "\u001B[1;32m    225\u001B[0m \u001B[38;5;28;01mexcept\u001B[39;00m \u001B[38;5;167;01mOSError\u001B[39;00m:\n",
       "\u001B[0;32m--> 226\u001B[0m     \u001B[38;5;28;01mraise\u001B[39;00m ExecutionException(\n",
       "\u001B[1;32m    227\u001B[0m         \u001B[38;5;124mf\u001B[39m\u001B[38;5;124m\"\u001B[39m\u001B[38;5;124mCould not find Conda executable at \u001B[39m\u001B[38;5;132;01m{\u001B[39;00mconda_path\u001B[38;5;132;01m}\u001B[39;00m\u001B[38;5;124m. \u001B[39m\u001B[38;5;124m\"\u001B[39m\n",
       "\u001B[1;32m    228\u001B[0m         \u001B[38;5;124m\"\u001B[39m\u001B[38;5;124mEnsure Conda is installed as per the instructions at \u001B[39m\u001B[38;5;124m\"\u001B[39m\n",
       "\u001B[1;32m    229\u001B[0m         \u001B[38;5;124m\"\u001B[39m\u001B[38;5;124mhttps://conda.io/projects/conda/en/latest/\u001B[39m\u001B[38;5;124m\"\u001B[39m\n",
       "\u001B[1;32m    230\u001B[0m         \u001B[38;5;124m\"\u001B[39m\u001B[38;5;124muser-guide/install/index.html. \u001B[39m\u001B[38;5;124m\"\u001B[39m\n",
       "\u001B[1;32m    231\u001B[0m         \u001B[38;5;124m\"\u001B[39m\u001B[38;5;124mYou can also configure MLflow to look for a specific \u001B[39m\u001B[38;5;124m\"\u001B[39m\n",
       "\u001B[1;32m    232\u001B[0m         \u001B[38;5;124mf\u001B[39m\u001B[38;5;124m\"\u001B[39m\u001B[38;5;124mConda executable by setting the \u001B[39m\u001B[38;5;132;01m{\u001B[39;00mMLFLOW_CONDA_HOME\u001B[38;5;132;01m}\u001B[39;00m\u001B[38;5;124m environment variable \u001B[39m\u001B[38;5;124m\"\u001B[39m\n",
       "\u001B[1;32m    233\u001B[0m         \u001B[38;5;124m\"\u001B[39m\u001B[38;5;124mto the path of the Conda executable\u001B[39m\u001B[38;5;124m\"\u001B[39m\n",
       "\u001B[1;32m    234\u001B[0m     )\n",
       "\u001B[1;32m    236\u001B[0m \u001B[38;5;28;01mtry\u001B[39;00m:\n",
       "\u001B[1;32m    237\u001B[0m     \u001B[38;5;66;03m# Checks if executable for environment creation exists\u001B[39;00m\n",
       "\u001B[1;32m    238\u001B[0m     process\u001B[38;5;241m.\u001B[39m_exec_cmd([conda_env_create_path, \u001B[38;5;124m\"\u001B[39m\u001B[38;5;124m--help\u001B[39m\u001B[38;5;124m\"\u001B[39m], throw_on_error\u001B[38;5;241m=\u001B[39m\u001B[38;5;28;01mFalse\u001B[39;00m)\n",
       "\n",
       "\u001B[0;31mExecutionException\u001B[0m: Could not find Conda executable at /databricks/conda/bin/conda. Ensure Conda is installed as per the instructions at https://conda.io/projects/conda/en/latest/user-guide/install/index.html. You can also configure MLflow to look for a specific Conda executable by setting the MLFLOW_CONDA_HOME environment variable to the path of the Conda executable"
      ]
     },
     "metadata": {
      "application/vnd.databricks.v1+output": {
       "arguments": {},
       "data": "\u001B[0;31m---------------------------------------------------------------------------\u001B[0m\n\u001B[0;31mFileNotFoundError\u001B[0m                         Traceback (most recent call last)\nFile \u001B[0;32m/local_disk0/.ephemeral_nfs/envs/pythonEnv-ad4291a2-86c9-4751-a027-541a14f3faa8/lib/python3.10/site-packages/mlflow/utils/conda.py:224\u001B[0m, in \u001B[0;36mget_or_create_conda_env\u001B[0;34m(conda_env_path, env_id, capture_output, env_root_dir)\u001B[0m\n\u001B[1;32m    222\u001B[0m \u001B[38;5;28;01mtry\u001B[39;00m:\n\u001B[1;32m    223\u001B[0m     \u001B[38;5;66;03m# Checks if Conda executable exists\u001B[39;00m\n\u001B[0;32m--> 224\u001B[0m     \u001B[43mprocess\u001B[49m\u001B[38;5;241;43m.\u001B[39;49m\u001B[43m_exec_cmd\u001B[49m\u001B[43m(\u001B[49m\u001B[43m[\u001B[49m\u001B[43mconda_path\u001B[49m\u001B[43m,\u001B[49m\u001B[43m \u001B[49m\u001B[38;5;124;43m\"\u001B[39;49m\u001B[38;5;124;43m--help\u001B[39;49m\u001B[38;5;124;43m\"\u001B[39;49m\u001B[43m]\u001B[49m\u001B[43m,\u001B[49m\u001B[43m \u001B[49m\u001B[43mthrow_on_error\u001B[49m\u001B[38;5;241;43m=\u001B[39;49m\u001B[38;5;28;43;01mFalse\u001B[39;49;00m\u001B[43m)\u001B[49m\n\u001B[1;32m    225\u001B[0m \u001B[38;5;28;01mexcept\u001B[39;00m \u001B[38;5;167;01mOSError\u001B[39;00m:\n\nFile \u001B[0;32m/local_disk0/.ephemeral_nfs/envs/pythonEnv-ad4291a2-86c9-4751-a027-541a14f3faa8/lib/python3.10/site-packages/mlflow/utils/process.py:95\u001B[0m, in \u001B[0;36m_exec_cmd\u001B[0;34m(cmd, throw_on_error, extra_env, capture_output, synchronous, stream_output, **kwargs)\u001B[0m\n\u001B[1;32m     93\u001B[0m         kwargs[\u001B[38;5;124m\"\u001B[39m\u001B[38;5;124mstderr\u001B[39m\u001B[38;5;124m\"\u001B[39m] \u001B[38;5;241m=\u001B[39m subprocess\u001B[38;5;241m.\u001B[39mSTDOUT\n\u001B[0;32m---> 95\u001B[0m process \u001B[38;5;241m=\u001B[39m \u001B[43msubprocess\u001B[49m\u001B[38;5;241;43m.\u001B[39;49m\u001B[43mPopen\u001B[49m\u001B[43m(\u001B[49m\n\u001B[1;32m     96\u001B[0m \u001B[43m    \u001B[49m\u001B[43mcmd\u001B[49m\u001B[43m,\u001B[49m\n\u001B[1;32m     97\u001B[0m \u001B[43m    \u001B[49m\u001B[43menv\u001B[49m\u001B[38;5;241;43m=\u001B[39;49m\u001B[43menv\u001B[49m\u001B[43m,\u001B[49m\n\u001B[1;32m     98\u001B[0m \u001B[43m    \u001B[49m\u001B[43mtext\u001B[49m\u001B[38;5;241;43m=\u001B[39;49m\u001B[38;5;28;43;01mTrue\u001B[39;49;00m\u001B[43m,\u001B[49m\n\u001B[1;32m     99\u001B[0m \u001B[43m    \u001B[49m\u001B[38;5;241;43m*\u001B[39;49m\u001B[38;5;241;43m*\u001B[39;49m\u001B[43mkwargs\u001B[49m\u001B[43m,\u001B[49m\n\u001B[1;32m    100\u001B[0m \u001B[43m\u001B[49m\u001B[43m)\u001B[49m\n\u001B[1;32m    101\u001B[0m \u001B[38;5;28;01mif\u001B[39;00m \u001B[38;5;129;01mnot\u001B[39;00m synchronous:\n\nFile \u001B[0;32m/usr/lib/python3.10/subprocess.py:971\u001B[0m, in \u001B[0;36mPopen.__init__\u001B[0;34m(self, args, bufsize, executable, stdin, stdout, stderr, preexec_fn, close_fds, shell, cwd, env, universal_newlines, startupinfo, creationflags, restore_signals, start_new_session, pass_fds, user, group, extra_groups, encoding, errors, text, umask, pipesize)\u001B[0m\n\u001B[1;32m    968\u001B[0m             \u001B[38;5;28mself\u001B[39m\u001B[38;5;241m.\u001B[39mstderr \u001B[38;5;241m=\u001B[39m io\u001B[38;5;241m.\u001B[39mTextIOWrapper(\u001B[38;5;28mself\u001B[39m\u001B[38;5;241m.\u001B[39mstderr,\n\u001B[1;32m    969\u001B[0m                     encoding\u001B[38;5;241m=\u001B[39mencoding, errors\u001B[38;5;241m=\u001B[39merrors)\n\u001B[0;32m--> 971\u001B[0m     \u001B[38;5;28;43mself\u001B[39;49m\u001B[38;5;241;43m.\u001B[39;49m\u001B[43m_execute_child\u001B[49m\u001B[43m(\u001B[49m\u001B[43margs\u001B[49m\u001B[43m,\u001B[49m\u001B[43m \u001B[49m\u001B[43mexecutable\u001B[49m\u001B[43m,\u001B[49m\u001B[43m \u001B[49m\u001B[43mpreexec_fn\u001B[49m\u001B[43m,\u001B[49m\u001B[43m \u001B[49m\u001B[43mclose_fds\u001B[49m\u001B[43m,\u001B[49m\n\u001B[1;32m    972\u001B[0m \u001B[43m                        \u001B[49m\u001B[43mpass_fds\u001B[49m\u001B[43m,\u001B[49m\u001B[43m \u001B[49m\u001B[43mcwd\u001B[49m\u001B[43m,\u001B[49m\u001B[43m \u001B[49m\u001B[43menv\u001B[49m\u001B[43m,\u001B[49m\n\u001B[1;32m    973\u001B[0m \u001B[43m                        \u001B[49m\u001B[43mstartupinfo\u001B[49m\u001B[43m,\u001B[49m\u001B[43m \u001B[49m\u001B[43mcreationflags\u001B[49m\u001B[43m,\u001B[49m\u001B[43m \u001B[49m\u001B[43mshell\u001B[49m\u001B[43m,\u001B[49m\n\u001B[1;32m    974\u001B[0m \u001B[43m                        \u001B[49m\u001B[43mp2cread\u001B[49m\u001B[43m,\u001B[49m\u001B[43m \u001B[49m\u001B[43mp2cwrite\u001B[49m\u001B[43m,\u001B[49m\n\u001B[1;32m    975\u001B[0m \u001B[43m                        \u001B[49m\u001B[43mc2pread\u001B[49m\u001B[43m,\u001B[49m\u001B[43m \u001B[49m\u001B[43mc2pwrite\u001B[49m\u001B[43m,\u001B[49m\n\u001B[1;32m    976\u001B[0m \u001B[43m                        \u001B[49m\u001B[43merrread\u001B[49m\u001B[43m,\u001B[49m\u001B[43m \u001B[49m\u001B[43merrwrite\u001B[49m\u001B[43m,\u001B[49m\n\u001B[1;32m    977\u001B[0m \u001B[43m                        \u001B[49m\u001B[43mrestore_signals\u001B[49m\u001B[43m,\u001B[49m\n\u001B[1;32m    978\u001B[0m \u001B[43m                        \u001B[49m\u001B[43mgid\u001B[49m\u001B[43m,\u001B[49m\u001B[43m \u001B[49m\u001B[43mgids\u001B[49m\u001B[43m,\u001B[49m\u001B[43m \u001B[49m\u001B[43muid\u001B[49m\u001B[43m,\u001B[49m\u001B[43m \u001B[49m\u001B[43mumask\u001B[49m\u001B[43m,\u001B[49m\n\u001B[1;32m    979\u001B[0m \u001B[43m                        \u001B[49m\u001B[43mstart_new_session\u001B[49m\u001B[43m)\u001B[49m\n\u001B[1;32m    980\u001B[0m \u001B[38;5;28;01mexcept\u001B[39;00m:\n\u001B[1;32m    981\u001B[0m     \u001B[38;5;66;03m# Cleanup if the child failed starting.\u001B[39;00m\n\nFile \u001B[0;32m/usr/lib/python3.10/subprocess.py:1863\u001B[0m, in \u001B[0;36mPopen._execute_child\u001B[0;34m(self, args, executable, preexec_fn, close_fds, pass_fds, cwd, env, startupinfo, creationflags, shell, p2cread, p2cwrite, c2pread, c2pwrite, errread, errwrite, restore_signals, gid, gids, uid, umask, start_new_session)\u001B[0m\n\u001B[1;32m   1862\u001B[0m         err_msg \u001B[38;5;241m=\u001B[39m os\u001B[38;5;241m.\u001B[39mstrerror(errno_num)\n\u001B[0;32m-> 1863\u001B[0m     \u001B[38;5;28;01mraise\u001B[39;00m child_exception_type(errno_num, err_msg, err_filename)\n\u001B[1;32m   1864\u001B[0m \u001B[38;5;28;01mraise\u001B[39;00m child_exception_type(err_msg)\n\n\u001B[0;31mFileNotFoundError\u001B[0m: [Errno 2] No such file or directory: '/databricks/conda/bin/conda'\n\nDuring handling of the above exception, another exception occurred:\n\n\u001B[0;31mExecutionException\u001B[0m                        Traceback (most recent call last)\nFile \u001B[0;32m<command-2763935754512588>, line 3\u001B[0m\n\u001B[1;32m      1\u001B[0m \u001B[38;5;28;01mimport\u001B[39;00m \u001B[38;5;21;01mmlflow\u001B[39;00m\u001B[38;5;21;01m.\u001B[39;00m\u001B[38;5;21;01mpyfunc\u001B[39;00m\n\u001B[0;32m----> 3\u001B[0m pyfunc_udf \u001B[38;5;241m=\u001B[39m mlflow\u001B[38;5;241m.\u001B[39mpyfunc\u001B[38;5;241m.\u001B[39mspark_udf(spark, model_uri \u001B[38;5;241m=\u001B[39m model_uri, env_manager \u001B[38;5;241m=\u001B[39m \u001B[38;5;124m'\u001B[39m\u001B[38;5;124mconda\u001B[39m\u001B[38;5;124m'\u001B[39m)\n\nFile \u001B[0;32m/local_disk0/.ephemeral_nfs/envs/pythonEnv-ad4291a2-86c9-4751-a027-541a14f3faa8/lib/python3.10/site-packages/mlflow/pyfunc/__init__.py:1244\u001B[0m, in \u001B[0;36mspark_udf\u001B[0;34m(spark, model_uri, result_type, env_manager, params)\u001B[0m\n\u001B[1;32m   1233\u001B[0m \u001B[38;5;28;01mif\u001B[39;00m \u001B[38;5;129;01mnot\u001B[39;00m should_use_spark_to_broadcast_file:\n\u001B[1;32m   1234\u001B[0m     \u001B[38;5;66;03m# Prepare restored environment in driver side if possible.\u001B[39;00m\n\u001B[1;32m   1235\u001B[0m     \u001B[38;5;66;03m# Note: In databricks runtime, because databricks notebook cell output cannot capture\u001B[39;00m\n\u001B[0;32m   (...)\u001B[0m\n\u001B[1;32m   1241\u001B[0m     \u001B[38;5;66;03m# to wait conda command fail and suddenly get all output printed (included in error\u001B[39;00m\n\u001B[1;32m   1242\u001B[0m     \u001B[38;5;66;03m# message).\u001B[39;00m\n\u001B[1;32m   1243\u001B[0m     \u001B[38;5;28;01mif\u001B[39;00m env_manager \u001B[38;5;241m!=\u001B[39m _EnvManager\u001B[38;5;241m.\u001B[39mLOCAL:\n\u001B[0;32m-> 1244\u001B[0m         \u001B[43mpyfunc_backend\u001B[49m\u001B[38;5;241;43m.\u001B[39;49m\u001B[43mprepare_env\u001B[49m\u001B[43m(\u001B[49m\n\u001B[1;32m   1245\u001B[0m \u001B[43m            \u001B[49m\u001B[43mmodel_uri\u001B[49m\u001B[38;5;241;43m=\u001B[39;49m\u001B[43mlocal_model_path\u001B[49m\u001B[43m,\u001B[49m\u001B[43m \u001B[49m\u001B[43mcapture_output\u001B[49m\u001B[38;5;241;43m=\u001B[39;49m\u001B[43mis_in_databricks_runtime\u001B[49m\u001B[43m(\u001B[49m\u001B[43m)\u001B[49m\n\u001B[1;32m   1246\u001B[0m \u001B[43m        \u001B[49m\u001B[43m)\u001B[49m\n\u001B[1;32m   1247\u001B[0m \u001B[38;5;28;01melse\u001B[39;00m:\n\u001B[1;32m   1248\u001B[0m     \u001B[38;5;66;03m# Broadcast local model directory to remote worker if needed.\u001B[39;00m\n\u001B[1;32m   1249\u001B[0m     archive_path \u001B[38;5;241m=\u001B[39m SparkModelCache\u001B[38;5;241m.\u001B[39madd_local_model(spark, local_model_path)\n\nFile \u001B[0;32m/local_disk0/.ephemeral_nfs/envs/pythonEnv-ad4291a2-86c9-4751-a027-541a14f3faa8/lib/python3.10/site-packages/mlflow/pyfunc/backend.py:121\u001B[0m, in \u001B[0;36mPyFuncBackend.prepare_env\u001B[0;34m(self, model_uri, capture_output)\u001B[0m\n\u001B[1;32m    119\u001B[0m \u001B[38;5;28;01melif\u001B[39;00m \u001B[38;5;28mself\u001B[39m\u001B[38;5;241m.\u001B[39m_env_manager \u001B[38;5;241m==\u001B[39m _EnvManager\u001B[38;5;241m.\u001B[39mCONDA:\n\u001B[1;32m    120\u001B[0m     conda_env_path \u001B[38;5;241m=\u001B[39m os\u001B[38;5;241m.\u001B[39mpath\u001B[38;5;241m.\u001B[39mjoin(local_path, _extract_conda_env(\u001B[38;5;28mself\u001B[39m\u001B[38;5;241m.\u001B[39m_config[ENV]))\n\u001B[0;32m--> 121\u001B[0m     \u001B[38;5;28mself\u001B[39m\u001B[38;5;241m.\u001B[39m_environment \u001B[38;5;241m=\u001B[39m \u001B[43mget_or_create_conda_env\u001B[49m\u001B[43m(\u001B[49m\n\u001B[1;32m    122\u001B[0m \u001B[43m        \u001B[49m\u001B[43mconda_env_path\u001B[49m\u001B[43m,\u001B[49m\n\u001B[1;32m    123\u001B[0m \u001B[43m        \u001B[49m\u001B[43menv_id\u001B[49m\u001B[38;5;241;43m=\u001B[39;49m\u001B[38;5;28;43mself\u001B[39;49m\u001B[38;5;241;43m.\u001B[39;49m\u001B[43m_env_id\u001B[49m\u001B[43m,\u001B[49m\n\u001B[1;32m    124\u001B[0m \u001B[43m        \u001B[49m\u001B[43mcapture_output\u001B[49m\u001B[38;5;241;43m=\u001B[39;49m\u001B[43mcapture_output\u001B[49m\u001B[43m,\u001B[49m\n\u001B[1;32m    125\u001B[0m \u001B[43m        \u001B[49m\u001B[43menv_root_dir\u001B[49m\u001B[38;5;241;43m=\u001B[39;49m\u001B[43menv_root_dir\u001B[49m\u001B[43m,\u001B[49m\n\u001B[1;32m    126\u001B[0m \u001B[43m    \u001B[49m\u001B[43m)\u001B[49m\n\u001B[1;32m    128\u001B[0m \u001B[38;5;28;01melif\u001B[39;00m \u001B[38;5;28mself\u001B[39m\u001B[38;5;241m.\u001B[39m_env_manager \u001B[38;5;241m==\u001B[39m _EnvManager\u001B[38;5;241m.\u001B[39mLOCAL:\n\u001B[1;32m    129\u001B[0m     \u001B[38;5;28;01mraise\u001B[39;00m \u001B[38;5;167;01mException\u001B[39;00m(\u001B[38;5;124m\"\u001B[39m\u001B[38;5;124mPrepare env should not be called with local env manager!\u001B[39m\u001B[38;5;124m\"\u001B[39m)\n\nFile \u001B[0;32m/local_disk0/.ephemeral_nfs/envs/pythonEnv-ad4291a2-86c9-4751-a027-541a14f3faa8/lib/python3.10/site-packages/mlflow/utils/conda.py:226\u001B[0m, in \u001B[0;36mget_or_create_conda_env\u001B[0;34m(conda_env_path, env_id, capture_output, env_root_dir)\u001B[0m\n\u001B[1;32m    224\u001B[0m     process\u001B[38;5;241m.\u001B[39m_exec_cmd([conda_path, \u001B[38;5;124m\"\u001B[39m\u001B[38;5;124m--help\u001B[39m\u001B[38;5;124m\"\u001B[39m], throw_on_error\u001B[38;5;241m=\u001B[39m\u001B[38;5;28;01mFalse\u001B[39;00m)\n\u001B[1;32m    225\u001B[0m \u001B[38;5;28;01mexcept\u001B[39;00m \u001B[38;5;167;01mOSError\u001B[39;00m:\n\u001B[0;32m--> 226\u001B[0m     \u001B[38;5;28;01mraise\u001B[39;00m ExecutionException(\n\u001B[1;32m    227\u001B[0m         \u001B[38;5;124mf\u001B[39m\u001B[38;5;124m\"\u001B[39m\u001B[38;5;124mCould not find Conda executable at \u001B[39m\u001B[38;5;132;01m{\u001B[39;00mconda_path\u001B[38;5;132;01m}\u001B[39;00m\u001B[38;5;124m. \u001B[39m\u001B[38;5;124m\"\u001B[39m\n\u001B[1;32m    228\u001B[0m         \u001B[38;5;124m\"\u001B[39m\u001B[38;5;124mEnsure Conda is installed as per the instructions at \u001B[39m\u001B[38;5;124m\"\u001B[39m\n\u001B[1;32m    229\u001B[0m         \u001B[38;5;124m\"\u001B[39m\u001B[38;5;124mhttps://conda.io/projects/conda/en/latest/\u001B[39m\u001B[38;5;124m\"\u001B[39m\n\u001B[1;32m    230\u001B[0m         \u001B[38;5;124m\"\u001B[39m\u001B[38;5;124muser-guide/install/index.html. \u001B[39m\u001B[38;5;124m\"\u001B[39m\n\u001B[1;32m    231\u001B[0m         \u001B[38;5;124m\"\u001B[39m\u001B[38;5;124mYou can also configure MLflow to look for a specific \u001B[39m\u001B[38;5;124m\"\u001B[39m\n\u001B[1;32m    232\u001B[0m         \u001B[38;5;124mf\u001B[39m\u001B[38;5;124m\"\u001B[39m\u001B[38;5;124mConda executable by setting the \u001B[39m\u001B[38;5;132;01m{\u001B[39;00mMLFLOW_CONDA_HOME\u001B[38;5;132;01m}\u001B[39;00m\u001B[38;5;124m environment variable \u001B[39m\u001B[38;5;124m\"\u001B[39m\n\u001B[1;32m    233\u001B[0m         \u001B[38;5;124m\"\u001B[39m\u001B[38;5;124mto the path of the Conda executable\u001B[39m\u001B[38;5;124m\"\u001B[39m\n\u001B[1;32m    234\u001B[0m     )\n\u001B[1;32m    236\u001B[0m \u001B[38;5;28;01mtry\u001B[39;00m:\n\u001B[1;32m    237\u001B[0m     \u001B[38;5;66;03m# Checks if executable for environment creation exists\u001B[39;00m\n\u001B[1;32m    238\u001B[0m     process\u001B[38;5;241m.\u001B[39m_exec_cmd([conda_env_create_path, \u001B[38;5;124m\"\u001B[39m\u001B[38;5;124m--help\u001B[39m\u001B[38;5;124m\"\u001B[39m], throw_on_error\u001B[38;5;241m=\u001B[39m\u001B[38;5;28;01mFalse\u001B[39;00m)\n\n\u001B[0;31mExecutionException\u001B[0m: Could not find Conda executable at /databricks/conda/bin/conda. Ensure Conda is installed as per the instructions at https://conda.io/projects/conda/en/latest/user-guide/install/index.html. You can also configure MLflow to look for a specific Conda executable by setting the MLFLOW_CONDA_HOME environment variable to the path of the Conda executable",
       "errorSummary": "<span class='ansi-red-fg'>ExecutionException</span>: Could not find Conda executable at /databricks/conda/bin/conda. Ensure Conda is installed as per the instructions at https://conda.io/projects/conda/en/latest/user-guide/install/index.html. You can also configure MLflow to look for a specific Conda executable by setting the MLFLOW_CONDA_HOME environment variable to the path of the Conda executable",
       "errorTraceType": "ansi",
       "metadata": {},
       "type": "ipynbError"
      }
     },
     "output_type": "display_data"
    }
   ],
   "source": [
    "import mlflow.pyfunc\n",
    "\n",
    "pyfunc_udf = mlflow.pyfunc.spark_udf(spark, model_uri = model_uri, env_manager = 'conda')"
   ]
  },
  {
   "cell_type": "markdown",
   "metadata": {
    "application/vnd.databricks.v1+cell": {
     "cellMetadata": {},
     "inputWidgets": {},
     "nuid": "ff7e6906-28af-4265-a9f4-85114e45ee51",
     "showTitle": false,
     "title": ""
    }
   },
   "source": [
    "Spark dataframe is created for Test data"
   ]
  },
  {
   "cell_type": "code",
   "execution_count": 0,
   "metadata": {
    "application/vnd.databricks.v1+cell": {
     "cellMetadata": {
      "byteLimit": 2048000,
      "rowLimit": 10000
     },
     "inputWidgets": {},
     "nuid": "d9693056-a5d3-4dd6-b80f-43023b2c9490",
     "showTitle": false,
     "title": ""
    }
   },
   "outputs": [],
   "source": [
    "X_test_sp = spark.createDataFrame(X_test)"
   ]
  },
  {
   "cell_type": "markdown",
   "metadata": {
    "application/vnd.databricks.v1+cell": {
     "cellMetadata": {},
     "inputWidgets": {},
     "nuid": "7d8417b6-abd8-498b-9d79-b08432ff1695",
     "showTitle": false,
     "title": ""
    }
   },
   "source": [
    "Predictions are obtained and are same as predictions made earlier"
   ]
  },
  {
   "cell_type": "code",
   "execution_count": 0,
   "metadata": {
    "application/vnd.databricks.v1+cell": {
     "cellMetadata": {
      "byteLimit": 2048000,
      "rowLimit": 10000
     },
     "inputWidgets": {},
     "nuid": "53b6a122-3c88-49c5-abbf-70a6e17e3366",
     "showTitle": false,
     "title": ""
    }
   },
   "outputs": [
    {
     "output_type": "display_data",
     "data": {
      "text/plain": [
       "\u001B[0;31m---------------------------------------------------------------------------\u001B[0m\n",
       "\u001B[0;31mNameError\u001B[0m                                 Traceback (most recent call last)\n",
       "File \u001B[0;32m<command-2763935754512592>, line 3\u001B[0m\n",
       "\u001B[1;32m      1\u001B[0m \u001B[38;5;28;01mfrom\u001B[39;00m \u001B[38;5;21;01mpyspark\u001B[39;00m\u001B[38;5;21;01m.\u001B[39;00m\u001B[38;5;21;01msql\u001B[39;00m\u001B[38;5;21;01m.\u001B[39;00m\u001B[38;5;21;01mfunctions\u001B[39;00m \u001B[38;5;28;01mimport\u001B[39;00m struct\n",
       "\u001B[0;32m----> 3\u001B[0m predicted_df \u001B[38;5;241m=\u001B[39m X_test_sp\u001B[38;5;241m.\u001B[39mwithColumn(\u001B[38;5;124m'\u001B[39m\u001B[38;5;124mprediction\u001B[39m\u001B[38;5;124m'\u001B[39m, pyfunc_udf(struct(\u001B[38;5;241m*\u001B[39m(X_test\u001B[38;5;241m.\u001B[39mcolumns\u001B[38;5;241m.\u001B[39mtolist()))))\n",
       "\u001B[1;32m      4\u001B[0m display(predicted_df)\n",
       "\n",
       "\u001B[0;31mNameError\u001B[0m: name 'pyfunc_udf' is not defined"
      ]
     },
     "metadata": {
      "application/vnd.databricks.v1+output": {
       "arguments": {},
       "data": "\u001B[0;31m---------------------------------------------------------------------------\u001B[0m\n\u001B[0;31mNameError\u001B[0m                                 Traceback (most recent call last)\nFile \u001B[0;32m<command-2763935754512592>, line 3\u001B[0m\n\u001B[1;32m      1\u001B[0m \u001B[38;5;28;01mfrom\u001B[39;00m \u001B[38;5;21;01mpyspark\u001B[39;00m\u001B[38;5;21;01m.\u001B[39;00m\u001B[38;5;21;01msql\u001B[39;00m\u001B[38;5;21;01m.\u001B[39;00m\u001B[38;5;21;01mfunctions\u001B[39;00m \u001B[38;5;28;01mimport\u001B[39;00m struct\n\u001B[0;32m----> 3\u001B[0m predicted_df \u001B[38;5;241m=\u001B[39m X_test_sp\u001B[38;5;241m.\u001B[39mwithColumn(\u001B[38;5;124m'\u001B[39m\u001B[38;5;124mprediction\u001B[39m\u001B[38;5;124m'\u001B[39m, pyfunc_udf(struct(\u001B[38;5;241m*\u001B[39m(X_test\u001B[38;5;241m.\u001B[39mcolumns\u001B[38;5;241m.\u001B[39mtolist()))))\n\u001B[1;32m      4\u001B[0m display(predicted_df)\n\n\u001B[0;31mNameError\u001B[0m: name 'pyfunc_udf' is not defined",
       "errorSummary": "<span class='ansi-red-fg'>NameError</span>: name 'pyfunc_udf' is not defined",
       "errorTraceType": "ansi",
       "metadata": {},
       "type": "ipynbError"
      }
     },
     "output_type": "display_data"
    }
   ],
   "source": [
    "from pyspark.sql.functions import struct\n",
    " \n",
    "predicted_df = X_test_sp.withColumn('prediction', pyfunc_udf(struct(*(X_test.columns.tolist()))))\n",
    "display(predicted_df)"
   ]
  }
 ],
 "metadata": {
  "application/vnd.databricks.v1+notebook": {
   "dashboards": [],
   "language": "python",
   "notebookMetadata": {
    "pythonIndentUnit": 2
   },
   "notebookName": "RegressionWithScikitLearn",
   "widgets": {}
  }
 },
 "nbformat": 4,
 "nbformat_minor": 0
}
