{
  "cells": [
    {
      "cell_type": "code",
      "source": [
        "pip install pytorch_lightning"
      ],
      "metadata": {
        "application/vnd.databricks.v1+cell": {
          "showTitle": false,
          "cellMetadata": {},
          "nuid": "0aa2078f-a4cd-47fb-8493-a9c8b4e6dee2",
          "inputWidgets": {},
          "title": ""
        },
        "id": "BR--RQyZEySm",
        "outputId": "a982687c-88a3-41e4-82d9-ece56a861edf"
      },
      "outputs": [
        {
          "output_type": "display_data",
          "metadata": {
            "application/vnd.databricks.v1+output": {
              "datasetInfos": [],
              "data": "Python interpreter will be restarted.\nCollecting pytorch_lightning\n  Downloading pytorch_lightning-1.8.0.post1-py3-none-any.whl (796 kB)\nRequirement already satisfied: torch>=1.9.* in /databricks/python3/lib/python3.9/site-packages (from pytorch_lightning) (1.11.0+cpu)\nRequirement already satisfied: fsspec[http]>2021.06.0 in /databricks/python3/lib/python3.9/site-packages (from pytorch_lightning) (2021.8.1)\nRequirement already satisfied: tqdm>=4.57.0 in /databricks/python3/lib/python3.9/site-packages (from pytorch_lightning) (4.62.3)\nCollecting typing-extensions>=4.0.0\n  Downloading typing_extensions-4.4.0-py3-none-any.whl (26 kB)\nRequirement already satisfied: tensorboard>=2.9.1 in /databricks/python3/lib/python3.9/site-packages (from pytorch_lightning) (2.9.1)\nRequirement already satisfied: numpy>=1.17.2 in /databricks/python3/lib/python3.9/site-packages (from pytorch_lightning) (1.20.3)\nRequirement already satisfied: packaging>=17.0 in /databricks/python3/lib/python3.9/site-packages (from pytorch_lightning) (21.0)\nCollecting lightning-utilities==0.3.*\n  Downloading lightning_utilities-0.3.0-py3-none-any.whl (15 kB)\nCollecting torchmetrics>=0.7.0\n  Downloading torchmetrics-0.10.2-py3-none-any.whl (529 kB)\nCollecting lightning-lite==1.8.0.post1\n  Downloading lightning_lite-1.8.0.post1-py3-none-any.whl (136 kB)\nRequirement already satisfied: PyYAML>=5.4 in /databricks/python3/lib/python3.9/site-packages (from pytorch_lightning) (6.0)\nCollecting fire\n  Downloading fire-0.4.0.tar.gz (87 kB)\nRequirement already satisfied: requests in /databricks/python3/lib/python3.9/site-packages (from fsspec[http]>2021.06.0->pytorch_lightning) (2.26.0)\nCollecting aiohttp\n  Downloading aiohttp-3.8.3-cp39-cp39-manylinux_2_17_x86_64.manylinux2014_x86_64.whl (1.0 MB)\nRequirement already satisfied: pyparsing>=2.0.2 in /databricks/python3/lib/python3.9/site-packages (from packaging>=17.0->pytorch_lightning) (3.0.4)\nRequirement already satisfied: protobuf<3.20,>=3.9.2 in /databricks/python3/lib/python3.9/site-packages (from tensorboard>=2.9.1->pytorch_lightning) (3.19.4)\nRequirement already satisfied: grpcio>=1.24.3 in /databricks/python3/lib/python3.9/site-packages (from tensorboard>=2.9.1->pytorch_lightning) (1.44.0)\nRequirement already satisfied: setuptools>=41.0.0 in /usr/local/lib/python3.9/dist-packages (from tensorboard>=2.9.1->pytorch_lightning) (58.0.4)\nRequirement already satisfied: markdown>=2.6.8 in /databricks/python3/lib/python3.9/site-packages (from tensorboard>=2.9.1->pytorch_lightning) (3.3.6)\nRequirement already satisfied: tensorboard-data-server<0.7.0,>=0.6.0 in /databricks/python3/lib/python3.9/site-packages (from tensorboard>=2.9.1->pytorch_lightning) (0.6.1)\nRequirement already satisfied: google-auth-oauthlib<0.5,>=0.4.1 in /databricks/python3/lib/python3.9/site-packages (from tensorboard>=2.9.1->pytorch_lightning) (0.4.6)\nRequirement already satisfied: absl-py>=0.4 in /databricks/python3/lib/python3.9/site-packages (from tensorboard>=2.9.1->pytorch_lightning) (1.0.0)\nRequirement already satisfied: tensorboard-plugin-wit>=1.6.0 in /databricks/python3/lib/python3.9/site-packages (from tensorboard>=2.9.1->pytorch_lightning) (1.8.1)\nRequirement already satisfied: werkzeug>=1.0.1 in /databricks/python3/lib/python3.9/site-packages (from tensorboard>=2.9.1->pytorch_lightning) (2.0.2)\nRequirement already satisfied: wheel>=0.26 in /databricks/python3/lib/python3.9/site-packages (from tensorboard>=2.9.1->pytorch_lightning) (0.37.0)\nRequirement already satisfied: google-auth<3,>=1.6.3 in /databricks/python3/lib/python3.9/site-packages (from tensorboard>=2.9.1->pytorch_lightning) (2.6.0)\nRequirement already satisfied: six in /databricks/python3/lib/python3.9/site-packages (from absl-py>=0.4->tensorboard>=2.9.1->pytorch_lightning) (1.16.0)\nRequirement already satisfied: cachetools<6.0,>=2.0.0 in /databricks/python3/lib/python3.9/site-packages (from google-auth<3,>=1.6.3->tensorboard>=2.9.1->pytorch_lightning) (5.2.0)\nRequirement already satisfied: rsa<5,>=3.1.4 in /databricks/python3/lib/python3.9/site-packages (from google-auth<3,>=1.6.3->tensorboard>=2.9.1->pytorch_lightning) (4.9)\nRequirement already satisfied: pyasn1-modules>=0.2.1 in /databricks/python3/lib/python3.9/site-packages (from google-auth<3,>=1.6.3->tensorboard>=2.9.1->pytorch_lightning) (0.2.8)\nRequirement already satisfied: requests-oauthlib>=0.7.0 in /databricks/python3/lib/python3.9/site-packages (from google-auth-oauthlib<0.5,>=0.4.1->tensorboard>=2.9.1->pytorch_lightning) (1.3.1)\nRequirement already satisfied: importlib-metadata>=4.4 in /databricks/python3/lib/python3.9/site-packages (from markdown>=2.6.8->tensorboard>=2.9.1->pytorch_lightning) (4.8.1)\nRequirement already satisfied: zipp>=0.5 in /databricks/python3/lib/python3.9/site-packages (from importlib-metadata>=4.4->markdown>=2.6.8->tensorboard>=2.9.1->pytorch_lightning) (3.6.0)\nRequirement already satisfied: pyasn1<0.5.0,>=0.4.6 in /databricks/python3/lib/python3.9/site-packages (from pyasn1-modules>=0.2.1->google-auth<3,>=1.6.3->tensorboard>=2.9.1->pytorch_lightning) (0.4.8)\nRequirement already satisfied: idna<4,>=2.5 in /databricks/python3/lib/python3.9/site-packages (from requests->fsspec[http]>2021.06.0->pytorch_lightning) (3.2)\nRequirement already satisfied: charset-normalizer~=2.0.0 in /databricks/python3/lib/python3.9/site-packages (from requests->fsspec[http]>2021.06.0->pytorch_lightning) (2.0.4)\nRequirement already satisfied: urllib3<1.27,>=1.21.1 in /databricks/python3/lib/python3.9/site-packages (from requests->fsspec[http]>2021.06.0->pytorch_lightning) (1.26.7)\nRequirement already satisfied: certifi>=2017.4.17 in /databricks/python3/lib/python3.9/site-packages (from requests->fsspec[http]>2021.06.0->pytorch_lightning) (2021.10.8)\nRequirement already satisfied: oauthlib>=3.0.0 in /databricks/python3/lib/python3.9/site-packages (from requests-oauthlib>=0.7.0->google-auth-oauthlib<0.5,>=0.4.1->tensorboard>=2.9.1->pytorch_lightning) (3.2.0)\nCollecting frozenlist>=1.1.1\n  Downloading frozenlist-1.3.3-cp39-cp39-manylinux_2_5_x86_64.manylinux1_x86_64.manylinux_2_17_x86_64.manylinux2014_x86_64.whl (158 kB)\nCollecting yarl<2.0,>=1.0\n  Downloading yarl-1.8.1-cp39-cp39-manylinux_2_17_x86_64.manylinux2014_x86_64.whl (264 kB)\nCollecting async-timeout<5.0,>=4.0.0a3\n  Downloading async_timeout-4.0.2-py3-none-any.whl (5.8 kB)\nCollecting aiosignal>=1.1.2\n  Downloading aiosignal-1.3.1-py3-none-any.whl (7.6 kB)\nCollecting multidict<7.0,>=4.5\n  Downloading multidict-6.0.2-cp39-cp39-manylinux_2_17_x86_64.manylinux2014_x86_64.whl (114 kB)\nRequirement already satisfied: attrs>=17.3.0 in /databricks/python3/lib/python3.9/site-packages (from aiohttp->fsspec[http]>2021.06.0->pytorch_lightning) (21.2.0)\nRequirement already satisfied: termcolor in /databricks/python3/lib/python3.9/site-packages (from fire->lightning-utilities==0.3.*->pytorch_lightning) (1.1.0)\nBuilding wheels for collected packages: fire\n  Building wheel for fire (setup.py): started\n  Building wheel for fire (setup.py): finished with status 'done'\n  Created wheel for fire: filename=fire-0.4.0-py2.py3-none-any.whl size=115943 sha256=c62b8f463105cd08d98d49610d26c490bd022913ea7ee25b7bc54e65c3ba93f2\n  Stored in directory: /root/.cache/pip/wheels/2a/93/86/8cd17bc6c40fb605c3ac549d0b860ef7e84ee5f67bf01a3287\nSuccessfully built fire\nInstalling collected packages: multidict, frozenlist, yarl, async-timeout, aiosignal, typing-extensions, fire, aiohttp, lightning-utilities, torchmetrics, lightning-lite, pytorch-lightning\n  Attempting uninstall: typing-extensions\n    Found existing installation: typing-extensions 3.10.0.2\n    Not uninstalling typing-extensions at /databricks/python3/lib/python3.9/site-packages, outside environment /local_disk0/.ephemeral_nfs/envs/pythonEnv-48179021-bed9-4419-b2b1-2242c0e15e3d\n    Can't uninstall 'typing-extensions'. No files were found to uninstall.\nSuccessfully installed aiohttp-3.8.3 aiosignal-1.3.1 async-timeout-4.0.2 fire-0.4.0 frozenlist-1.3.3 lightning-lite-1.8.0.post1 lightning-utilities-0.3.0 multidict-6.0.2 pytorch-lightning-1.8.0.post1 torchmetrics-0.10.2 typing-extensions-4.4.0 yarl-1.8.1\nPython interpreter will be restarted.\n",
              "removedWidgets": [],
              "addedWidgets": {},
              "metadata": {},
              "type": "ansi",
              "arguments": {}
            }
          },
          "data": {
            "text/plain": [
              "Python interpreter will be restarted.\nCollecting pytorch_lightning\n  Downloading pytorch_lightning-1.8.0.post1-py3-none-any.whl (796 kB)\nRequirement already satisfied: torch>=1.9.* in /databricks/python3/lib/python3.9/site-packages (from pytorch_lightning) (1.11.0+cpu)\nRequirement already satisfied: fsspec[http]>2021.06.0 in /databricks/python3/lib/python3.9/site-packages (from pytorch_lightning) (2021.8.1)\nRequirement already satisfied: tqdm>=4.57.0 in /databricks/python3/lib/python3.9/site-packages (from pytorch_lightning) (4.62.3)\nCollecting typing-extensions>=4.0.0\n  Downloading typing_extensions-4.4.0-py3-none-any.whl (26 kB)\nRequirement already satisfied: tensorboard>=2.9.1 in /databricks/python3/lib/python3.9/site-packages (from pytorch_lightning) (2.9.1)\nRequirement already satisfied: numpy>=1.17.2 in /databricks/python3/lib/python3.9/site-packages (from pytorch_lightning) (1.20.3)\nRequirement already satisfied: packaging>=17.0 in /databricks/python3/lib/python3.9/site-packages (from pytorch_lightning) (21.0)\nCollecting lightning-utilities==0.3.*\n  Downloading lightning_utilities-0.3.0-py3-none-any.whl (15 kB)\nCollecting torchmetrics>=0.7.0\n  Downloading torchmetrics-0.10.2-py3-none-any.whl (529 kB)\nCollecting lightning-lite==1.8.0.post1\n  Downloading lightning_lite-1.8.0.post1-py3-none-any.whl (136 kB)\nRequirement already satisfied: PyYAML>=5.4 in /databricks/python3/lib/python3.9/site-packages (from pytorch_lightning) (6.0)\nCollecting fire\n  Downloading fire-0.4.0.tar.gz (87 kB)\nRequirement already satisfied: requests in /databricks/python3/lib/python3.9/site-packages (from fsspec[http]>2021.06.0->pytorch_lightning) (2.26.0)\nCollecting aiohttp\n  Downloading aiohttp-3.8.3-cp39-cp39-manylinux_2_17_x86_64.manylinux2014_x86_64.whl (1.0 MB)\nRequirement already satisfied: pyparsing>=2.0.2 in /databricks/python3/lib/python3.9/site-packages (from packaging>=17.0->pytorch_lightning) (3.0.4)\nRequirement already satisfied: protobuf<3.20,>=3.9.2 in /databricks/python3/lib/python3.9/site-packages (from tensorboard>=2.9.1->pytorch_lightning) (3.19.4)\nRequirement already satisfied: grpcio>=1.24.3 in /databricks/python3/lib/python3.9/site-packages (from tensorboard>=2.9.1->pytorch_lightning) (1.44.0)\nRequirement already satisfied: setuptools>=41.0.0 in /usr/local/lib/python3.9/dist-packages (from tensorboard>=2.9.1->pytorch_lightning) (58.0.4)\nRequirement already satisfied: markdown>=2.6.8 in /databricks/python3/lib/python3.9/site-packages (from tensorboard>=2.9.1->pytorch_lightning) (3.3.6)\nRequirement already satisfied: tensorboard-data-server<0.7.0,>=0.6.0 in /databricks/python3/lib/python3.9/site-packages (from tensorboard>=2.9.1->pytorch_lightning) (0.6.1)\nRequirement already satisfied: google-auth-oauthlib<0.5,>=0.4.1 in /databricks/python3/lib/python3.9/site-packages (from tensorboard>=2.9.1->pytorch_lightning) (0.4.6)\nRequirement already satisfied: absl-py>=0.4 in /databricks/python3/lib/python3.9/site-packages (from tensorboard>=2.9.1->pytorch_lightning) (1.0.0)\nRequirement already satisfied: tensorboard-plugin-wit>=1.6.0 in /databricks/python3/lib/python3.9/site-packages (from tensorboard>=2.9.1->pytorch_lightning) (1.8.1)\nRequirement already satisfied: werkzeug>=1.0.1 in /databricks/python3/lib/python3.9/site-packages (from tensorboard>=2.9.1->pytorch_lightning) (2.0.2)\nRequirement already satisfied: wheel>=0.26 in /databricks/python3/lib/python3.9/site-packages (from tensorboard>=2.9.1->pytorch_lightning) (0.37.0)\nRequirement already satisfied: google-auth<3,>=1.6.3 in /databricks/python3/lib/python3.9/site-packages (from tensorboard>=2.9.1->pytorch_lightning) (2.6.0)\nRequirement already satisfied: six in /databricks/python3/lib/python3.9/site-packages (from absl-py>=0.4->tensorboard>=2.9.1->pytorch_lightning) (1.16.0)\nRequirement already satisfied: cachetools<6.0,>=2.0.0 in /databricks/python3/lib/python3.9/site-packages (from google-auth<3,>=1.6.3->tensorboard>=2.9.1->pytorch_lightning) (5.2.0)\nRequirement already satisfied: rsa<5,>=3.1.4 in /databricks/python3/lib/python3.9/site-packages (from google-auth<3,>=1.6.3->tensorboard>=2.9.1->pytorch_lightning) (4.9)\nRequirement already satisfied: pyasn1-modules>=0.2.1 in /databricks/python3/lib/python3.9/site-packages (from google-auth<3,>=1.6.3->tensorboard>=2.9.1->pytorch_lightning) (0.2.8)\nRequirement already satisfied: requests-oauthlib>=0.7.0 in /databricks/python3/lib/python3.9/site-packages (from google-auth-oauthlib<0.5,>=0.4.1->tensorboard>=2.9.1->pytorch_lightning) (1.3.1)\nRequirement already satisfied: importlib-metadata>=4.4 in /databricks/python3/lib/python3.9/site-packages (from markdown>=2.6.8->tensorboard>=2.9.1->pytorch_lightning) (4.8.1)\nRequirement already satisfied: zipp>=0.5 in /databricks/python3/lib/python3.9/site-packages (from importlib-metadata>=4.4->markdown>=2.6.8->tensorboard>=2.9.1->pytorch_lightning) (3.6.0)\nRequirement already satisfied: pyasn1<0.5.0,>=0.4.6 in /databricks/python3/lib/python3.9/site-packages (from pyasn1-modules>=0.2.1->google-auth<3,>=1.6.3->tensorboard>=2.9.1->pytorch_lightning) (0.4.8)\nRequirement already satisfied: idna<4,>=2.5 in /databricks/python3/lib/python3.9/site-packages (from requests->fsspec[http]>2021.06.0->pytorch_lightning) (3.2)\nRequirement already satisfied: charset-normalizer~=2.0.0 in /databricks/python3/lib/python3.9/site-packages (from requests->fsspec[http]>2021.06.0->pytorch_lightning) (2.0.4)\nRequirement already satisfied: urllib3<1.27,>=1.21.1 in /databricks/python3/lib/python3.9/site-packages (from requests->fsspec[http]>2021.06.0->pytorch_lightning) (1.26.7)\nRequirement already satisfied: certifi>=2017.4.17 in /databricks/python3/lib/python3.9/site-packages (from requests->fsspec[http]>2021.06.0->pytorch_lightning) (2021.10.8)\nRequirement already satisfied: oauthlib>=3.0.0 in /databricks/python3/lib/python3.9/site-packages (from requests-oauthlib>=0.7.0->google-auth-oauthlib<0.5,>=0.4.1->tensorboard>=2.9.1->pytorch_lightning) (3.2.0)\nCollecting frozenlist>=1.1.1\n  Downloading frozenlist-1.3.3-cp39-cp39-manylinux_2_5_x86_64.manylinux1_x86_64.manylinux_2_17_x86_64.manylinux2014_x86_64.whl (158 kB)\nCollecting yarl<2.0,>=1.0\n  Downloading yarl-1.8.1-cp39-cp39-manylinux_2_17_x86_64.manylinux2014_x86_64.whl (264 kB)\nCollecting async-timeout<5.0,>=4.0.0a3\n  Downloading async_timeout-4.0.2-py3-none-any.whl (5.8 kB)\nCollecting aiosignal>=1.1.2\n  Downloading aiosignal-1.3.1-py3-none-any.whl (7.6 kB)\nCollecting multidict<7.0,>=4.5\n  Downloading multidict-6.0.2-cp39-cp39-manylinux_2_17_x86_64.manylinux2014_x86_64.whl (114 kB)\nRequirement already satisfied: attrs>=17.3.0 in /databricks/python3/lib/python3.9/site-packages (from aiohttp->fsspec[http]>2021.06.0->pytorch_lightning) (21.2.0)\nRequirement already satisfied: termcolor in /databricks/python3/lib/python3.9/site-packages (from fire->lightning-utilities==0.3.*->pytorch_lightning) (1.1.0)\nBuilding wheels for collected packages: fire\n  Building wheel for fire (setup.py): started\n  Building wheel for fire (setup.py): finished with status 'done'\n  Created wheel for fire: filename=fire-0.4.0-py2.py3-none-any.whl size=115943 sha256=c62b8f463105cd08d98d49610d26c490bd022913ea7ee25b7bc54e65c3ba93f2\n  Stored in directory: /root/.cache/pip/wheels/2a/93/86/8cd17bc6c40fb605c3ac549d0b860ef7e84ee5f67bf01a3287\nSuccessfully built fire\nInstalling collected packages: multidict, frozenlist, yarl, async-timeout, aiosignal, typing-extensions, fire, aiohttp, lightning-utilities, torchmetrics, lightning-lite, pytorch-lightning\n  Attempting uninstall: typing-extensions\n    Found existing installation: typing-extensions 3.10.0.2\n    Not uninstalling typing-extensions at /databricks/python3/lib/python3.9/site-packages, outside environment /local_disk0/.ephemeral_nfs/envs/pythonEnv-48179021-bed9-4419-b2b1-2242c0e15e3d\n    Can't uninstall 'typing-extensions'. No files were found to uninstall.\nSuccessfully installed aiohttp-3.8.3 aiosignal-1.3.1 async-timeout-4.0.2 fire-0.4.0 frozenlist-1.3.3 lightning-lite-1.8.0.post1 lightning-utilities-0.3.0 multidict-6.0.2 pytorch-lightning-1.8.0.post1 torchmetrics-0.10.2 typing-extensions-4.4.0 yarl-1.8.1\nPython interpreter will be restarted.\n"
            ]
          }
        }
      ],
      "execution_count": null
    },
    {
      "cell_type": "code",
      "source": [
        "import pandas as pd\n",
        "import numpy as np\n",
        "import seaborn as sns\n",
        "import matplotlib.pyplot as plt\n",
        "\n",
        "from sklearn.preprocessing import StandardScaler\n",
        "from sklearn.model_selection import train_test_split\n",
        "\n",
        "import torch\n",
        "import torch.nn as nn\n",
        "import torch.nn.functional as F\n",
        "from torch.utils.data import DataLoader, TensorDataset\n",
        "from torchmetrics.functional import accuracy, precision, recall, f1_score\n",
        "\n",
        "import mlflow.pytorch\n",
        "import pytorch_lightning as pl\n",
        "from mlflow import MlflowClient"
      ],
      "metadata": {
        "application/vnd.databricks.v1+cell": {
          "showTitle": false,
          "cellMetadata": {},
          "nuid": "0310e25e-1962-436e-b072-a7159023cc99",
          "inputWidgets": {},
          "title": ""
        },
        "id": "rL7qgqNJEySq",
        "outputId": "af20f630-73db-4a5d-bc6e-76fd9e73d911"
      },
      "outputs": [
        {
          "output_type": "display_data",
          "metadata": {
            "application/vnd.databricks.v1+output": {
              "datasetInfos": [],
              "data": {
                "text/plain": "",
                "application/vnd.databricks.v1+bamboolib_hint": "{\"pd.DataFrames\": [], \"version\": \"0.0.1\"}"
              },
              "removedWidgets": [],
              "addedWidgets": {},
              "metadata": {
                "kernelSessionId": "5342c9e9-3ccb97daeacbd2980e14e570"
              },
              "type": "mimeBundle",
              "arguments": {}
            }
          },
          "data": {
            "text/plain": "",
            "application/vnd.databricks.v1+bamboolib_hint": "{\"pd.DataFrames\": [], \"version\": \"0.0.1\"}"
          }
        }
      ],
      "execution_count": null
    },
    {
      "cell_type": "code",
      "source": [
        "churn_df = pd.read_csv('/dbfs/FileStore/datasets/Churn_Modelling.csv')\n",
        "\n",
        "churn_df.head()"
      ],
      "metadata": {
        "application/vnd.databricks.v1+cell": {
          "showTitle": false,
          "cellMetadata": {},
          "nuid": "8108e4ef-a5cf-428e-81d7-fd40427f6beb",
          "inputWidgets": {},
          "title": ""
        },
        "id": "B5A7B88fEySs",
        "outputId": "ae22c4d1-b140-4b10-fd58-a100b8c6b57e"
      },
      "outputs": [
        {
          "output_type": "display_data",
          "metadata": {
            "application/vnd.databricks.v1+output": {
              "datasetInfos": [],
              "data": "<div>\n<style scoped>\n    .dataframe tbody tr th:only-of-type {\n        vertical-align: middle;\n    }\n\n    .dataframe tbody tr th {\n        vertical-align: top;\n    }\n\n    .dataframe thead th {\n        text-align: right;\n    }\n</style>\n<table border=\"1\" class=\"dataframe\">\n  <thead>\n    <tr style=\"text-align: right;\">\n      <th></th>\n      <th>CustomerId</th>\n      <th>CreditScore</th>\n      <th>Geography</th>\n      <th>Gender</th>\n      <th>Age</th>\n      <th>Tenure</th>\n      <th>Balance</th>\n      <th>NumOfProducts</th>\n      <th>HasCrCard</th>\n      <th>IsActiveMember</th>\n      <th>EstimatedSalary</th>\n      <th>Exited</th>\n    </tr>\n  </thead>\n  <tbody>\n    <tr>\n      <th>0</th>\n      <td>15634602</td>\n      <td>619</td>\n      <td>France</td>\n      <td>Female</td>\n      <td>42</td>\n      <td>2</td>\n      <td>0.00</td>\n      <td>1</td>\n      <td>1</td>\n      <td>1</td>\n      <td>101348.88</td>\n      <td>1</td>\n    </tr>\n    <tr>\n      <th>1</th>\n      <td>15647311</td>\n      <td>608</td>\n      <td>Spain</td>\n      <td>Female</td>\n      <td>41</td>\n      <td>1</td>\n      <td>83807.86</td>\n      <td>1</td>\n      <td>0</td>\n      <td>1</td>\n      <td>112542.58</td>\n      <td>0</td>\n    </tr>\n    <tr>\n      <th>2</th>\n      <td>15619304</td>\n      <td>502</td>\n      <td>France</td>\n      <td>Female</td>\n      <td>42</td>\n      <td>8</td>\n      <td>159660.80</td>\n      <td>3</td>\n      <td>1</td>\n      <td>0</td>\n      <td>113931.57</td>\n      <td>1</td>\n    </tr>\n    <tr>\n      <th>3</th>\n      <td>15701354</td>\n      <td>699</td>\n      <td>France</td>\n      <td>Female</td>\n      <td>39</td>\n      <td>1</td>\n      <td>0.00</td>\n      <td>2</td>\n      <td>0</td>\n      <td>0</td>\n      <td>93826.63</td>\n      <td>0</td>\n    </tr>\n    <tr>\n      <th>4</th>\n      <td>15737888</td>\n      <td>850</td>\n      <td>Spain</td>\n      <td>Female</td>\n      <td>43</td>\n      <td>2</td>\n      <td>125510.82</td>\n      <td>1</td>\n      <td>1</td>\n      <td>1</td>\n      <td>79084.10</td>\n      <td>0</td>\n    </tr>\n  </tbody>\n</table>\n</div>",
              "textData": null,
              "removedWidgets": [],
              "addedWidgets": {},
              "metadata": {},
              "type": "htmlSandbox",
              "arguments": {}
            }
          },
          "data": {
            "text/html": [
              "<div>\n<style scoped>\n    .dataframe tbody tr th:only-of-type {\n        vertical-align: middle;\n    }\n\n    .dataframe tbody tr th {\n        vertical-align: top;\n    }\n\n    .dataframe thead th {\n        text-align: right;\n    }\n</style>\n<table border=\"1\" class=\"dataframe\">\n  <thead>\n    <tr style=\"text-align: right;\">\n      <th></th>\n      <th>CustomerId</th>\n      <th>CreditScore</th>\n      <th>Geography</th>\n      <th>Gender</th>\n      <th>Age</th>\n      <th>Tenure</th>\n      <th>Balance</th>\n      <th>NumOfProducts</th>\n      <th>HasCrCard</th>\n      <th>IsActiveMember</th>\n      <th>EstimatedSalary</th>\n      <th>Exited</th>\n    </tr>\n  </thead>\n  <tbody>\n    <tr>\n      <th>0</th>\n      <td>15634602</td>\n      <td>619</td>\n      <td>France</td>\n      <td>Female</td>\n      <td>42</td>\n      <td>2</td>\n      <td>0.00</td>\n      <td>1</td>\n      <td>1</td>\n      <td>1</td>\n      <td>101348.88</td>\n      <td>1</td>\n    </tr>\n    <tr>\n      <th>1</th>\n      <td>15647311</td>\n      <td>608</td>\n      <td>Spain</td>\n      <td>Female</td>\n      <td>41</td>\n      <td>1</td>\n      <td>83807.86</td>\n      <td>1</td>\n      <td>0</td>\n      <td>1</td>\n      <td>112542.58</td>\n      <td>0</td>\n    </tr>\n    <tr>\n      <th>2</th>\n      <td>15619304</td>\n      <td>502</td>\n      <td>France</td>\n      <td>Female</td>\n      <td>42</td>\n      <td>8</td>\n      <td>159660.80</td>\n      <td>3</td>\n      <td>1</td>\n      <td>0</td>\n      <td>113931.57</td>\n      <td>1</td>\n    </tr>\n    <tr>\n      <th>3</th>\n      <td>15701354</td>\n      <td>699</td>\n      <td>France</td>\n      <td>Female</td>\n      <td>39</td>\n      <td>1</td>\n      <td>0.00</td>\n      <td>2</td>\n      <td>0</td>\n      <td>0</td>\n      <td>93826.63</td>\n      <td>0</td>\n    </tr>\n    <tr>\n      <th>4</th>\n      <td>15737888</td>\n      <td>850</td>\n      <td>Spain</td>\n      <td>Female</td>\n      <td>43</td>\n      <td>2</td>\n      <td>125510.82</td>\n      <td>1</td>\n      <td>1</td>\n      <td>1</td>\n      <td>79084.10</td>\n      <td>0</td>\n    </tr>\n  </tbody>\n</table>\n</div>"
            ]
          }
        }
      ],
      "execution_count": null
    },
    {
      "cell_type": "code",
      "source": [
        "churn_df.isnull().sum()"
      ],
      "metadata": {
        "application/vnd.databricks.v1+cell": {
          "showTitle": false,
          "cellMetadata": {},
          "nuid": "fc9bd66f-5bae-408c-bf98-5c63d3cca3eb",
          "inputWidgets": {},
          "title": ""
        },
        "id": "4Rla1CL-EySt",
        "outputId": "101f0c41-4c8b-4dc9-a7dc-372b3516a181"
      },
      "outputs": [
        {
          "output_type": "display_data",
          "metadata": {
            "application/vnd.databricks.v1+output": {
              "datasetInfos": [],
              "data": "Out[3]: CustomerId         0\nCreditScore        0\nGeography          0\nGender             0\nAge                0\nTenure             0\nBalance            0\nNumOfProducts      0\nHasCrCard          0\nIsActiveMember     0\nEstimatedSalary    0\nExited             0\ndtype: int64",
              "removedWidgets": [],
              "addedWidgets": {},
              "metadata": {},
              "type": "ansi",
              "arguments": {}
            }
          },
          "data": {
            "text/plain": [
              "Out[3]: CustomerId         0\nCreditScore        0\nGeography          0\nGender             0\nAge                0\nTenure             0\nBalance            0\nNumOfProducts      0\nHasCrCard          0\nIsActiveMember     0\nEstimatedSalary    0\nExited             0\ndtype: int64"
            ]
          }
        }
      ],
      "execution_count": null
    },
    {
      "cell_type": "code",
      "source": [
        "churn_df.drop(labels = ['CustomerId'], axis = 1, inplace = True)\n",
        "\n",
        "churn_df.head()"
      ],
      "metadata": {
        "application/vnd.databricks.v1+cell": {
          "showTitle": false,
          "cellMetadata": {},
          "nuid": "3a57b0dc-5129-49a6-a215-be98c5f2ff88",
          "inputWidgets": {},
          "title": ""
        },
        "id": "HgT96eDtEySu",
        "outputId": "7dca858e-97e8-4d3a-acb7-a39c09c07a25"
      },
      "outputs": [
        {
          "output_type": "display_data",
          "metadata": {
            "application/vnd.databricks.v1+output": {
              "datasetInfos": [],
              "data": "<div>\n<style scoped>\n    .dataframe tbody tr th:only-of-type {\n        vertical-align: middle;\n    }\n\n    .dataframe tbody tr th {\n        vertical-align: top;\n    }\n\n    .dataframe thead th {\n        text-align: right;\n    }\n</style>\n<table border=\"1\" class=\"dataframe\">\n  <thead>\n    <tr style=\"text-align: right;\">\n      <th></th>\n      <th>CreditScore</th>\n      <th>Geography</th>\n      <th>Gender</th>\n      <th>Age</th>\n      <th>Tenure</th>\n      <th>Balance</th>\n      <th>NumOfProducts</th>\n      <th>HasCrCard</th>\n      <th>IsActiveMember</th>\n      <th>EstimatedSalary</th>\n      <th>Exited</th>\n    </tr>\n  </thead>\n  <tbody>\n    <tr>\n      <th>0</th>\n      <td>619</td>\n      <td>France</td>\n      <td>Female</td>\n      <td>42</td>\n      <td>2</td>\n      <td>0.00</td>\n      <td>1</td>\n      <td>1</td>\n      <td>1</td>\n      <td>101348.88</td>\n      <td>1</td>\n    </tr>\n    <tr>\n      <th>1</th>\n      <td>608</td>\n      <td>Spain</td>\n      <td>Female</td>\n      <td>41</td>\n      <td>1</td>\n      <td>83807.86</td>\n      <td>1</td>\n      <td>0</td>\n      <td>1</td>\n      <td>112542.58</td>\n      <td>0</td>\n    </tr>\n    <tr>\n      <th>2</th>\n      <td>502</td>\n      <td>France</td>\n      <td>Female</td>\n      <td>42</td>\n      <td>8</td>\n      <td>159660.80</td>\n      <td>3</td>\n      <td>1</td>\n      <td>0</td>\n      <td>113931.57</td>\n      <td>1</td>\n    </tr>\n    <tr>\n      <th>3</th>\n      <td>699</td>\n      <td>France</td>\n      <td>Female</td>\n      <td>39</td>\n      <td>1</td>\n      <td>0.00</td>\n      <td>2</td>\n      <td>0</td>\n      <td>0</td>\n      <td>93826.63</td>\n      <td>0</td>\n    </tr>\n    <tr>\n      <th>4</th>\n      <td>850</td>\n      <td>Spain</td>\n      <td>Female</td>\n      <td>43</td>\n      <td>2</td>\n      <td>125510.82</td>\n      <td>1</td>\n      <td>1</td>\n      <td>1</td>\n      <td>79084.10</td>\n      <td>0</td>\n    </tr>\n  </tbody>\n</table>\n</div>",
              "textData": null,
              "removedWidgets": [],
              "addedWidgets": {},
              "metadata": {},
              "type": "htmlSandbox",
              "arguments": {}
            }
          },
          "data": {
            "text/html": [
              "<div>\n<style scoped>\n    .dataframe tbody tr th:only-of-type {\n        vertical-align: middle;\n    }\n\n    .dataframe tbody tr th {\n        vertical-align: top;\n    }\n\n    .dataframe thead th {\n        text-align: right;\n    }\n</style>\n<table border=\"1\" class=\"dataframe\">\n  <thead>\n    <tr style=\"text-align: right;\">\n      <th></th>\n      <th>CreditScore</th>\n      <th>Geography</th>\n      <th>Gender</th>\n      <th>Age</th>\n      <th>Tenure</th>\n      <th>Balance</th>\n      <th>NumOfProducts</th>\n      <th>HasCrCard</th>\n      <th>IsActiveMember</th>\n      <th>EstimatedSalary</th>\n      <th>Exited</th>\n    </tr>\n  </thead>\n  <tbody>\n    <tr>\n      <th>0</th>\n      <td>619</td>\n      <td>France</td>\n      <td>Female</td>\n      <td>42</td>\n      <td>2</td>\n      <td>0.00</td>\n      <td>1</td>\n      <td>1</td>\n      <td>1</td>\n      <td>101348.88</td>\n      <td>1</td>\n    </tr>\n    <tr>\n      <th>1</th>\n      <td>608</td>\n      <td>Spain</td>\n      <td>Female</td>\n      <td>41</td>\n      <td>1</td>\n      <td>83807.86</td>\n      <td>1</td>\n      <td>0</td>\n      <td>1</td>\n      <td>112542.58</td>\n      <td>0</td>\n    </tr>\n    <tr>\n      <th>2</th>\n      <td>502</td>\n      <td>France</td>\n      <td>Female</td>\n      <td>42</td>\n      <td>8</td>\n      <td>159660.80</td>\n      <td>3</td>\n      <td>1</td>\n      <td>0</td>\n      <td>113931.57</td>\n      <td>1</td>\n    </tr>\n    <tr>\n      <th>3</th>\n      <td>699</td>\n      <td>France</td>\n      <td>Female</td>\n      <td>39</td>\n      <td>1</td>\n      <td>0.00</td>\n      <td>2</td>\n      <td>0</td>\n      <td>0</td>\n      <td>93826.63</td>\n      <td>0</td>\n    </tr>\n    <tr>\n      <th>4</th>\n      <td>850</td>\n      <td>Spain</td>\n      <td>Female</td>\n      <td>43</td>\n      <td>2</td>\n      <td>125510.82</td>\n      <td>1</td>\n      <td>1</td>\n      <td>1</td>\n      <td>79084.10</td>\n      <td>0</td>\n    </tr>\n  </tbody>\n</table>\n</div>"
            ]
          }
        }
      ],
      "execution_count": null
    },
    {
      "cell_type": "code",
      "source": [
        "plt.figure(figsize = (12, 8))\n",
        "\n",
        "sns.countplot(data = churn_df,  x = 'Exited')"
      ],
      "metadata": {
        "application/vnd.databricks.v1+cell": {
          "showTitle": false,
          "cellMetadata": {},
          "nuid": "5b103ac5-1c91-4e40-99e2-3f4e49ef4882",
          "inputWidgets": {},
          "title": ""
        },
        "id": "csMo0dafEySv",
        "outputId": "75003d01-de85-4b30-8f58-aba62fb5c24f"
      },
      "outputs": [
        {
          "output_type": "display_data",
          "metadata": {
            "application/vnd.databricks.v1+output": {
              "datasetInfos": [],
              "data": "Out[5]: <AxesSubplot:xlabel='Exited', ylabel='count'>",
              "removedWidgets": [],
              "addedWidgets": {},
              "metadata": {},
              "type": "ansi",
              "arguments": {}
            }
          },
          "data": {
            "text/plain": [
              "Out[5]: <AxesSubplot:xlabel='Exited', ylabel='count'>"
            ]
          }
        },
        {
          "output_type": "display_data",
          "metadata": {
            "application/vnd.databricks.v1+output": {
              "datasetInfos": [],
              "data": "data:image/png;base64,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\n",
              "removedWidgets": [],
              "addedWidgets": {},
              "metadata": {},
              "type": "image",
              "arguments": {}
            }
          },
          "data": {
            "image/png": "[encoded data removed]"
          }
        }
      ],
      "execution_count": null
    },
    {
      "cell_type": "code",
      "source": [
        "plt.figure(figsize = (12, 8))\n",
        "\n",
        "sns.boxplot(data = churn_df, x = 'Exited', y = 'Age')"
      ],
      "metadata": {
        "application/vnd.databricks.v1+cell": {
          "showTitle": false,
          "cellMetadata": {},
          "nuid": "ddac6f73-5dff-4af1-8a2d-dc77e20ef4e4",
          "inputWidgets": {},
          "title": ""
        },
        "id": "_LuzfGxEEySw",
        "outputId": "6746a5ba-a96c-4471-f41c-98ec1f0a76fe"
      },
      "outputs": [
        {
          "output_type": "display_data",
          "metadata": {
            "application/vnd.databricks.v1+output": {
              "datasetInfos": [],
              "data": "Out[6]: <AxesSubplot:xlabel='Exited', ylabel='Age'>",
              "removedWidgets": [],
              "addedWidgets": {},
              "metadata": {},
              "type": "ansi",
              "arguments": {}
            }
          },
          "data": {
            "text/plain": [
              "Out[6]: <AxesSubplot:xlabel='Exited', ylabel='Age'>"
            ]
          }
        },
        {
          "output_type": "display_data",
          "metadata": {
            "application/vnd.databricks.v1+output": {
              "datasetInfos": [],
              "data": "data:image/png;base64,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\n",
              "removedWidgets": [],
              "addedWidgets": {},
              "metadata": {},
              "type": "image",
              "arguments": {}
            }
          },
          "data": {
            "image/png": "[encoded data removed]"
          }
        }
      ],
      "execution_count": null
    },
    {
      "cell_type": "code",
      "source": [
        "plt.figure(figsize = (12, 8))\n",
        "\n",
        "sns.heatmap(churn_df.corr(), annot = True, cmap = 'Spectral')"
      ],
      "metadata": {
        "application/vnd.databricks.v1+cell": {
          "showTitle": false,
          "cellMetadata": {},
          "nuid": "e37c9f4f-7cbd-4ecc-a49d-90dd248683f7",
          "inputWidgets": {},
          "title": ""
        },
        "id": "YMGt-3GtEySy",
        "outputId": "67fdb151-d623-4f0e-c470-14b0a93b74d1"
      },
      "outputs": [
        {
          "output_type": "display_data",
          "metadata": {
            "application/vnd.databricks.v1+output": {
              "datasetInfos": [],
              "data": "Out[7]: <AxesSubplot:>",
              "removedWidgets": [],
              "addedWidgets": {},
              "metadata": {},
              "type": "ansi",
              "arguments": {}
            }
          },
          "data": {
            "text/plain": [
              "Out[7]: <AxesSubplot:>"
            ]
          }
        },
        {
          "output_type": "display_data",
          "metadata": {
            "application/vnd.databricks.v1+output": {
              "datasetInfos": [],
              "data": "data:image/png;base64,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\n",
              "removedWidgets": [],
              "addedWidgets": {},
              "metadata": {},
              "type": "image",
              "arguments": {}
            }
          },
          "data": {
            "image/png": "[encoded data removed]"
          }
        }
      ],
      "execution_count": null
    },
    {
      "cell_type": "code",
      "source": [
        "churn_df = pd.get_dummies(data = churn_df, drop_first = True)\n",
        "\n",
        "churn_df.head()"
      ],
      "metadata": {
        "application/vnd.databricks.v1+cell": {
          "showTitle": false,
          "cellMetadata": {},
          "nuid": "d8b67b87-008c-4247-b4f9-096e78a31aa4",
          "inputWidgets": {},
          "title": ""
        },
        "id": "j11wWxMuEyS0",
        "outputId": "3c065fdd-ffd2-4fbc-dfd4-ad20a198f25f"
      },
      "outputs": [
        {
          "output_type": "display_data",
          "metadata": {
            "application/vnd.databricks.v1+output": {
              "datasetInfos": [],
              "data": "<div>\n<style scoped>\n    .dataframe tbody tr th:only-of-type {\n        vertical-align: middle;\n    }\n\n    .dataframe tbody tr th {\n        vertical-align: top;\n    }\n\n    .dataframe thead th {\n        text-align: right;\n    }\n</style>\n<table border=\"1\" class=\"dataframe\">\n  <thead>\n    <tr style=\"text-align: right;\">\n      <th></th>\n      <th>CreditScore</th>\n      <th>Age</th>\n      <th>Tenure</th>\n      <th>Balance</th>\n      <th>NumOfProducts</th>\n      <th>HasCrCard</th>\n      <th>IsActiveMember</th>\n      <th>EstimatedSalary</th>\n      <th>Exited</th>\n      <th>Geography_Germany</th>\n      <th>Geography_Spain</th>\n      <th>Gender_Male</th>\n    </tr>\n  </thead>\n  <tbody>\n    <tr>\n      <th>0</th>\n      <td>619</td>\n      <td>42</td>\n      <td>2</td>\n      <td>0.00</td>\n      <td>1</td>\n      <td>1</td>\n      <td>1</td>\n      <td>101348.88</td>\n      <td>1</td>\n      <td>0</td>\n      <td>0</td>\n      <td>0</td>\n    </tr>\n    <tr>\n      <th>1</th>\n      <td>608</td>\n      <td>41</td>\n      <td>1</td>\n      <td>83807.86</td>\n      <td>1</td>\n      <td>0</td>\n      <td>1</td>\n      <td>112542.58</td>\n      <td>0</td>\n      <td>0</td>\n      <td>1</td>\n      <td>0</td>\n    </tr>\n    <tr>\n      <th>2</th>\n      <td>502</td>\n      <td>42</td>\n      <td>8</td>\n      <td>159660.80</td>\n      <td>3</td>\n      <td>1</td>\n      <td>0</td>\n      <td>113931.57</td>\n      <td>1</td>\n      <td>0</td>\n      <td>0</td>\n      <td>0</td>\n    </tr>\n    <tr>\n      <th>3</th>\n      <td>699</td>\n      <td>39</td>\n      <td>1</td>\n      <td>0.00</td>\n      <td>2</td>\n      <td>0</td>\n      <td>0</td>\n      <td>93826.63</td>\n      <td>0</td>\n      <td>0</td>\n      <td>0</td>\n      <td>0</td>\n    </tr>\n    <tr>\n      <th>4</th>\n      <td>850</td>\n      <td>43</td>\n      <td>2</td>\n      <td>125510.82</td>\n      <td>1</td>\n      <td>1</td>\n      <td>1</td>\n      <td>79084.10</td>\n      <td>0</td>\n      <td>0</td>\n      <td>1</td>\n      <td>0</td>\n    </tr>\n  </tbody>\n</table>\n</div>",
              "textData": null,
              "removedWidgets": [],
              "addedWidgets": {},
              "metadata": {},
              "type": "htmlSandbox",
              "arguments": {}
            }
          },
          "data": {
            "text/html": [
              "<div>\n<style scoped>\n    .dataframe tbody tr th:only-of-type {\n        vertical-align: middle;\n    }\n\n    .dataframe tbody tr th {\n        vertical-align: top;\n    }\n\n    .dataframe thead th {\n        text-align: right;\n    }\n</style>\n<table border=\"1\" class=\"dataframe\">\n  <thead>\n    <tr style=\"text-align: right;\">\n      <th></th>\n      <th>CreditScore</th>\n      <th>Age</th>\n      <th>Tenure</th>\n      <th>Balance</th>\n      <th>NumOfProducts</th>\n      <th>HasCrCard</th>\n      <th>IsActiveMember</th>\n      <th>EstimatedSalary</th>\n      <th>Exited</th>\n      <th>Geography_Germany</th>\n      <th>Geography_Spain</th>\n      <th>Gender_Male</th>\n    </tr>\n  </thead>\n  <tbody>\n    <tr>\n      <th>0</th>\n      <td>619</td>\n      <td>42</td>\n      <td>2</td>\n      <td>0.00</td>\n      <td>1</td>\n      <td>1</td>\n      <td>1</td>\n      <td>101348.88</td>\n      <td>1</td>\n      <td>0</td>\n      <td>0</td>\n      <td>0</td>\n    </tr>\n    <tr>\n      <th>1</th>\n      <td>608</td>\n      <td>41</td>\n      <td>1</td>\n      <td>83807.86</td>\n      <td>1</td>\n      <td>0</td>\n      <td>1</td>\n      <td>112542.58</td>\n      <td>0</td>\n      <td>0</td>\n      <td>1</td>\n      <td>0</td>\n    </tr>\n    <tr>\n      <th>2</th>\n      <td>502</td>\n      <td>42</td>\n      <td>8</td>\n      <td>159660.80</td>\n      <td>3</td>\n      <td>1</td>\n      <td>0</td>\n      <td>113931.57</td>\n      <td>1</td>\n      <td>0</td>\n      <td>0</td>\n      <td>0</td>\n    </tr>\n    <tr>\n      <th>3</th>\n      <td>699</td>\n      <td>39</td>\n      <td>1</td>\n      <td>0.00</td>\n      <td>2</td>\n      <td>0</td>\n      <td>0</td>\n      <td>93826.63</td>\n      <td>0</td>\n      <td>0</td>\n      <td>0</td>\n      <td>0</td>\n    </tr>\n    <tr>\n      <th>4</th>\n      <td>850</td>\n      <td>43</td>\n      <td>2</td>\n      <td>125510.82</td>\n      <td>1</td>\n      <td>1</td>\n      <td>1</td>\n      <td>79084.10</td>\n      <td>0</td>\n      <td>0</td>\n      <td>1</td>\n      <td>0</td>\n    </tr>\n  </tbody>\n</table>\n</div>"
            ]
          }
        }
      ],
      "execution_count": null
    },
    {
      "cell_type": "code",
      "source": [
        "X = churn_df.drop(labels = ['Exited'], axis = 1)\n",
        "\n",
        "y = churn_df['Exited'].values\n",
        "\n",
        "X_train, X_test, y_train, y_test = train_test_split(X, y, test_size = 0.2, random_state = 100)\n",
        "\n",
        "X_train.shape, X_test.shape, y_train.shape, y_test.shape"
      ],
      "metadata": {
        "application/vnd.databricks.v1+cell": {
          "showTitle": false,
          "cellMetadata": {},
          "nuid": "740e4ff8-0c28-4992-9f8e-e686a76d7bce",
          "inputWidgets": {},
          "title": ""
        },
        "id": "hntCsf-TEyS6",
        "outputId": "6209c019-26d8-4425-b9fb-9e1fa80adf1e"
      },
      "outputs": [
        {
          "output_type": "display_data",
          "metadata": {
            "application/vnd.databricks.v1+output": {
              "datasetInfos": [],
              "data": "Out[9]: ((8000, 11), (2000, 11), (8000,), (2000,))",
              "removedWidgets": [],
              "addedWidgets": {},
              "metadata": {},
              "type": "ansi",
              "arguments": {}
            }
          },
          "data": {
            "text/plain": [
              "Out[9]: ((8000, 11), (2000, 11), (8000,), (2000,))"
            ]
          }
        }
      ],
      "execution_count": null
    },
    {
      "cell_type": "code",
      "source": [
        "sc = StandardScaler()\n",
        "\n",
        "X_train = sc.fit_transform(X_train)\n",
        "X_test = sc.transform(X_test)"
      ],
      "metadata": {
        "application/vnd.databricks.v1+cell": {
          "showTitle": false,
          "cellMetadata": {},
          "nuid": "db25408f-7df9-4ca1-b1f0-ba349b6b7a54",
          "inputWidgets": {},
          "title": ""
        },
        "id": "0DTGWaRyEyS_"
      },
      "outputs": [],
      "execution_count": null
    },
    {
      "cell_type": "code",
      "source": [
        "X_train"
      ],
      "metadata": {
        "application/vnd.databricks.v1+cell": {
          "showTitle": false,
          "cellMetadata": {},
          "nuid": "880e034a-b4f6-49a5-b633-db934ec5a622",
          "inputWidgets": {},
          "title": ""
        },
        "id": "7LSsNj65EyTC",
        "outputId": "a6ebaf26-6a84-4964-ebcf-dd321598c978"
      },
      "outputs": [
        {
          "output_type": "display_data",
          "metadata": {
            "application/vnd.databricks.v1+output": {
              "datasetInfos": [],
              "data": "Out[11]: array([[ 0.35476836, -0.18423398, -1.38231111, ...,  1.72286214,\n        -0.57484841,  0.9111777 ],\n       [ 0.30282874, -0.2796117 , -0.69212613, ..., -0.58042949,\n        -0.57484841, -1.09748077],\n       [ 0.02235481, -0.08885627,  0.34315135, ..., -0.58042949,\n         1.73958906, -1.09748077],\n       ...,\n       [ 0.23011328,  0.38803232, -0.34703364, ..., -0.58042949,\n        -0.57484841, -1.09748077],\n       [-0.60092059, -0.75650029, -1.03721862, ..., -0.58042949,\n        -0.57484841, -1.09748077],\n       [-1.79553176, -1.42414431, -1.03721862, ...,  1.72286214,\n        -0.57484841, -1.09748077]])",
              "removedWidgets": [],
              "addedWidgets": {},
              "metadata": {},
              "type": "ansi",
              "arguments": {}
            }
          },
          "data": {
            "text/plain": [
              "Out[11]: array([[ 0.35476836, -0.18423398, -1.38231111, ...,  1.72286214,\n        -0.57484841,  0.9111777 ],\n       [ 0.30282874, -0.2796117 , -0.69212613, ..., -0.58042949,\n        -0.57484841, -1.09748077],\n       [ 0.02235481, -0.08885627,  0.34315135, ..., -0.58042949,\n         1.73958906, -1.09748077],\n       ...,\n       [ 0.23011328,  0.38803232, -0.34703364, ..., -0.58042949,\n        -0.57484841, -1.09748077],\n       [-0.60092059, -0.75650029, -1.03721862, ..., -0.58042949,\n        -0.57484841, -1.09748077],\n       [-1.79553176, -1.42414431, -1.03721862, ...,  1.72286214,\n        -0.57484841, -1.09748077]])"
            ]
          }
        }
      ],
      "execution_count": null
    },
    {
      "cell_type": "code",
      "source": [
        "X_test"
      ],
      "metadata": {
        "application/vnd.databricks.v1+cell": {
          "showTitle": false,
          "cellMetadata": {},
          "nuid": "3cdad4b5-c386-4244-abb4-27e80693cb0a",
          "inputWidgets": {},
          "title": ""
        },
        "id": "m4n_5ob5EyTD",
        "outputId": "669e27af-7acc-4a8b-d6c6-64ecb2c77827"
      },
      "outputs": [
        {
          "output_type": "display_data",
          "metadata": {
            "application/vnd.databricks.v1+output": {
              "datasetInfos": [],
              "data": "Out[12]: array([[-1.85403655e-01, -1.51952202e+00, -6.92126127e-01, ...,\n         1.72286214e+00, -5.74848406e-01,  9.11177697e-01],\n       [-5.80144740e-01, -6.61122569e-01, -3.47033636e-01, ...,\n         1.72286214e+00, -5.74848406e-01, -1.09748077e+00],\n       [ 3.85932126e-01, -5.65744851e-01,  1.37842882e+00, ...,\n         1.72286214e+00, -5.74848406e-01,  9.11177697e-01],\n       ...,\n       [ 2.40501200e-01, -1.84233983e-01, -3.47033636e-01, ...,\n        -5.80429492e-01, -5.74848406e-01,  9.11177697e-01],\n       [ 1.19668876e-02, -1.23338887e+00, -1.94114526e-03, ...,\n         1.72286214e+00, -5.74848406e-01,  9.11177697e-01],\n       [ 2.07916362e+00, -2.79611700e-01, -6.92126127e-01, ...,\n        -5.80429492e-01, -5.74848406e-01,  9.11177697e-01]])",
              "removedWidgets": [],
              "addedWidgets": {},
              "metadata": {},
              "type": "ansi",
              "arguments": {}
            }
          },
          "data": {
            "text/plain": [
              "Out[12]: array([[-1.85403655e-01, -1.51952202e+00, -6.92126127e-01, ...,\n         1.72286214e+00, -5.74848406e-01,  9.11177697e-01],\n       [-5.80144740e-01, -6.61122569e-01, -3.47033636e-01, ...,\n         1.72286214e+00, -5.74848406e-01, -1.09748077e+00],\n       [ 3.85932126e-01, -5.65744851e-01,  1.37842882e+00, ...,\n         1.72286214e+00, -5.74848406e-01,  9.11177697e-01],\n       ...,\n       [ 2.40501200e-01, -1.84233983e-01, -3.47033636e-01, ...,\n        -5.80429492e-01, -5.74848406e-01,  9.11177697e-01],\n       [ 1.19668876e-02, -1.23338887e+00, -1.94114526e-03, ...,\n         1.72286214e+00, -5.74848406e-01,  9.11177697e-01],\n       [ 2.07916362e+00, -2.79611700e-01, -6.92126127e-01, ...,\n        -5.80429492e-01, -5.74848406e-01,  9.11177697e-01]])"
            ]
          }
        }
      ],
      "execution_count": null
    },
    {
      "cell_type": "code",
      "source": [
        "X_train = torch.from_numpy(X_train.astype(np.float32))\n",
        "X_test = torch.from_numpy(X_test.astype(np.float32))\n",
        "y_train = torch.from_numpy(y_train.astype(np.float32))\n",
        "y_test = torch.from_numpy(y_test.astype(np.float32))\n",
        "\n",
        "y_train = y_train.view(len(y_train), 1)\n",
        "y_test = y_test.view(len(y_test), 1)\n",
        "\n",
        "X_train.shape, X_test.shape, y_train.shape, y_test.shape"
      ],
      "metadata": {
        "application/vnd.databricks.v1+cell": {
          "showTitle": false,
          "cellMetadata": {},
          "nuid": "58838fbd-c3e7-4ee8-a964-96c28251d511",
          "inputWidgets": {},
          "title": ""
        },
        "id": "sRB5DUQlEyTF",
        "outputId": "297c8606-3dc1-46ee-d033-244378a87189"
      },
      "outputs": [
        {
          "output_type": "display_data",
          "metadata": {
            "application/vnd.databricks.v1+output": {
              "datasetInfos": [],
              "data": "Out[13]: (torch.Size([8000, 11]),\n torch.Size([2000, 11]),\n torch.Size([8000, 1]),\n torch.Size([2000, 1]))",
              "removedWidgets": [],
              "addedWidgets": {},
              "metadata": {},
              "type": "ansi",
              "arguments": {}
            }
          },
          "data": {
            "text/plain": [
              "Out[13]: (torch.Size([8000, 11]),\n torch.Size([2000, 11]),\n torch.Size([8000, 1]),\n torch.Size([2000, 1]))"
            ]
          }
        }
      ],
      "execution_count": null
    },
    {
      "cell_type": "code",
      "source": [
        "class ChurnDataModule(pl.LightningDataModule):\n",
        "    def __init__(self, X_train, X_test, y_train, y_test):\n",
        "        super().__init__()\n",
        "\n",
        "        self.X_train = X_train\n",
        "        self.X_test = X_test\n",
        "        self.y_train = y_train\n",
        "        self.y_test = y_test\n",
        "\n",
        "    def train_dataloader(self):\n",
        "        input = self.X_train\n",
        "        target = self.y_train\n",
        "\n",
        "        dataset = TensorDataset(input, target)\n",
        "\n",
        "        print(input.shape, target.shape)\n",
        "\n",
        "        return DataLoader(dataset, batch_size = 128, num_workers=4)\n",
        "\n",
        "    def test_dataloader(self):\n",
        "        input = self.X_test\n",
        "        target = self.y_test\n",
        "\n",
        "        dataset = TensorDataset(input, target)\n",
        "\n",
        "        print(input.shape, target.shape)\n",
        "\n",
        "        return DataLoader(dataset, batch_size = 128, num_workers=4)"
      ],
      "metadata": {
        "application/vnd.databricks.v1+cell": {
          "showTitle": false,
          "cellMetadata": {},
          "nuid": "d5a910a3-f530-4955-bf67-c555af98f45f",
          "inputWidgets": {},
          "title": ""
        },
        "id": "vmuRp_TwEyTI"
      },
      "outputs": [],
      "execution_count": null
    },
    {
      "cell_type": "code",
      "source": [
        "churn_dm = ChurnDataModule(X_train, X_test, y_train, y_test)\n",
        "\n",
        "churn_dm"
      ],
      "metadata": {
        "application/vnd.databricks.v1+cell": {
          "showTitle": false,
          "cellMetadata": {},
          "nuid": "34ca4289-3fea-4fc9-a22c-eaababd12d82",
          "inputWidgets": {},
          "title": ""
        },
        "id": "AbZKcivQEyTJ",
        "outputId": "198951b2-42d8-4518-8101-e4a0b508be90"
      },
      "outputs": [
        {
          "output_type": "display_data",
          "metadata": {
            "application/vnd.databricks.v1+output": {
              "datasetInfos": [],
              "data": "Out[15]: <__main__.ChurnDataModule at 0x7fee2e50e5e0>",
              "removedWidgets": [],
              "addedWidgets": {},
              "metadata": {},
              "type": "ansi",
              "arguments": {}
            }
          },
          "data": {
            "text/plain": [
              "Out[15]: <__main__.ChurnDataModule at 0x7fee2e50e5e0>"
            ]
          }
        }
      ],
      "execution_count": null
    },
    {
      "cell_type": "code",
      "source": [
        "train_dl = churn_dm.train_dataloader()\n",
        "\n",
        "len(train_dl)"
      ],
      "metadata": {
        "application/vnd.databricks.v1+cell": {
          "showTitle": false,
          "cellMetadata": {},
          "nuid": "2cc8f00a-58a8-4cbe-919b-01d6c868bf20",
          "inputWidgets": {},
          "title": ""
        },
        "id": "Q-wSlhlGEyTK",
        "outputId": "a553ed30-c1f5-4f9c-9b74-bbda3ca9049f"
      },
      "outputs": [
        {
          "output_type": "display_data",
          "metadata": {
            "application/vnd.databricks.v1+output": {
              "datasetInfos": [],
              "data": "torch.Size([8000, 11]) torch.Size([8000, 1])\nOut[16]: 63",
              "removedWidgets": [],
              "addedWidgets": {},
              "metadata": {},
              "type": "ansi",
              "arguments": {}
            }
          },
          "data": {
            "text/plain": [
              "torch.Size([8000, 11]) torch.Size([8000, 1])\nOut[16]: 63"
            ]
          }
        }
      ],
      "execution_count": null
    },
    {
      "cell_type": "code",
      "source": [
        "test_dl = churn_dm.test_dataloader()\n",
        "\n",
        "len(test_dl)"
      ],
      "metadata": {
        "application/vnd.databricks.v1+cell": {
          "showTitle": false,
          "cellMetadata": {},
          "nuid": "1ae499f6-b3a8-4641-af02-e1d95ebfbf26",
          "inputWidgets": {},
          "title": ""
        },
        "id": "PopAUUCIEyTL",
        "outputId": "d28060ea-3895-419e-c4d8-e9529d17b5d2"
      },
      "outputs": [
        {
          "output_type": "display_data",
          "metadata": {
            "application/vnd.databricks.v1+output": {
              "datasetInfos": [],
              "data": "torch.Size([2000, 11]) torch.Size([2000, 1])\nOut[17]: 16",
              "removedWidgets": [],
              "addedWidgets": {},
              "metadata": {},
              "type": "ansi",
              "arguments": {}
            }
          },
          "data": {
            "text/plain": [
              "torch.Size([2000, 11]) torch.Size([2000, 1])\nOut[17]: 16"
            ]
          }
        }
      ],
      "execution_count": null
    },
    {
      "cell_type": "code",
      "source": [
        "class ChurnModel(pl.LightningModule):\n",
        "    def __init__(self, num_input_features, lr = 0.01):\n",
        "        super(ChurnModel, self).__init__()\n",
        "\n",
        "        self.save_hyperparameters()\n",
        "\n",
        "        self.linear1 = nn.Linear(num_input_features, 16)\n",
        "        self.linear2 = nn.Linear(16, 8)\n",
        "        self.linear3 = nn.Linear(8, 1)\n",
        "\n",
        "    def forward(self, xb):\n",
        "\n",
        "        prediction = torch.sigmoid(input = self.linear1(xb))\n",
        "        prediction = torch.sigmoid(input = self.linear2(prediction))\n",
        "        prediction = torch.sigmoid(input = self.linear3(prediction))\n",
        "\n",
        "        return prediction\n",
        "\n",
        "    def training_step(self, batch, batch_idx):\n",
        "        input, target = batch\n",
        "\n",
        "        logits = self.forward(input)\n",
        "\n",
        "        train_loss = F.binary_cross_entropy(logits, target)\n",
        "        train_acc = accuracy(logits, target.int())\n",
        "        train_precision_score = precision(logits, target.int())\n",
        "        train_recall_score = recall(logits, target.int())\n",
        "\n",
        "        metrics = {'train_loss': train_loss, 'train_acc': train_acc,\n",
        "                   'train_precision': train_precision_score, 'train_recall': train_recall_score}\n",
        "\n",
        "        self.log_dict(metrics, on_step = False, on_epoch = True,\n",
        "                      prog_bar = True)\n",
        "\n",
        "        return train_loss\n",
        "\n",
        "    def test_step(self, batch, batch_idx):\n",
        "        input, target = batch\n",
        "\n",
        "        logits = self.forward(input)\n",
        "\n",
        "        test_loss = F.binary_cross_entropy(logits, target)\n",
        "        test_acc = accuracy(logits, target.int())\n",
        "        test_precision_score = precision(logits,  target.int())\n",
        "        test_recall_score = recall(logits,  target.int())\n",
        "\n",
        "        metrics = {'test_loss': test_loss, 'test_acc': test_acc,\n",
        "                   'test_precision': test_precision_score, 'test_recall': test_recall_score}\n",
        "\n",
        "        self.log_dict(metrics, on_step = False, on_epoch = True,\n",
        "                      prog_bar = True)\n",
        "\n",
        "        return test_acc\n",
        "\n",
        "    def configure_optimizers(self):\n",
        "        return torch.optim.Adam(self.parameters(), lr = self.hparams.lr)"
      ],
      "metadata": {
        "application/vnd.databricks.v1+cell": {
          "showTitle": false,
          "cellMetadata": {},
          "nuid": "a190dd63-c230-47d7-a459-be685491df80",
          "inputWidgets": {},
          "title": ""
        },
        "id": "LhyxQQ_oEyTM"
      },
      "outputs": [],
      "execution_count": null
    },
    {
      "cell_type": "code",
      "source": [
        "from mlflow.models.signature import ModelSignature\n",
        "from mlflow.types.schema import Schema, ColSpec\n",
        "\n",
        "input_schema = Schema([\n",
        "  ColSpec('double'),\n",
        "  ColSpec('double'),\n",
        "  ColSpec('double'),\n",
        "  ColSpec('double'),\n",
        "  ColSpec('double'),\n",
        "  ColSpec('double'),\n",
        "  ColSpec('double'),\n",
        "  ColSpec('double'),\n",
        "  ColSpec('double'),\n",
        "  ColSpec('double'),\n",
        "  ColSpec('double')\n",
        "])\n",
        "\n",
        "output_schema = Schema([ColSpec('double')])"
      ],
      "metadata": {
        "application/vnd.databricks.v1+cell": {
          "showTitle": false,
          "cellMetadata": {},
          "nuid": "f90ffbd6-d30e-468e-ab71-3b6d629eeeb6",
          "inputWidgets": {},
          "title": ""
        },
        "id": "oVTY4R9CEyTO"
      },
      "outputs": [],
      "execution_count": null
    },
    {
      "cell_type": "code",
      "source": [
        "churn_model = ChurnModel(11)\n",
        "\n",
        "trainer = pl.Trainer(max_epochs = 2000)\n",
        "\n",
        "mlflow.pytorch.autolog()\n",
        "\n",
        "with mlflow.start_run() as run:\n",
        "\n",
        "    trainer.fit(churn_model, train_dl)\n",
        "    trainer.test(dataloaders = test_dl, ckpt_path = 'best')\n",
        "\n",
        "    signature = ModelSignature(inputs = input_schema, outputs = output_schema)\n",
        "\n",
        "    mlflow.pytorch.log_model(churn_model, 'churn_prediction', signature = signature)"
      ],
      "metadata": {
        "application/vnd.databricks.v1+cell": {
          "showTitle": false,
          "cellMetadata": {},
          "nuid": "579dc528-9778-4c7b-b777-fe859224325b",
          "inputWidgets": {},
          "title": ""
        },
        "colab": {
          "referenced_widgets": [
            "e70b00e4045c476b8b986d49bdcecef6",
            "0cb5dabb18d14966be2be235a00dab2e"
          ]
        },
        "id": "0RNjqgqnEyTP",
        "outputId": "ef24c8d5-0eb5-45d2-b691-3a01a7b82d9b"
      },
      "outputs": [
        {
          "output_type": "display_data",
          "metadata": {
            "application/vnd.databricks.v1+output": {
              "datasetInfos": [],
              "data": "GPU available: False, used: False\nTPU available: False, using: 0 TPU cores\nIPU available: False, using: 0 IPUs\nHPU available: False, using: 0 HPUs\n2022/11/10 02:55:58 WARNING mlflow.utils.autologging_utils: You are using an unsupported version of pytorch. If you encounter errors during autologging, try upgrading / downgrading pytorch to a supported version, or try upgrading MLflow.\nMissing logger folder: /databricks/driver/lightning_logs\n\n  | Name    | Type   | Params\n-----------------------------------\n0 | linear1 | Linear | 192   \n1 | linear2 | Linear | 136   \n2 | linear3 | Linear | 9     \n-----------------------------------\n337       Trainable params\n0         Non-trainable params\n337       Total params\n0.001     Total estimated model params size (MB)\n",
              "removedWidgets": [],
              "addedWidgets": {},
              "metadata": {},
              "type": "ansi",
              "arguments": {}
            }
          },
          "data": {
            "text/plain": [
              "GPU available: False, used: False\nTPU available: False, using: 0 TPU cores\nIPU available: False, using: 0 IPUs\nHPU available: False, using: 0 HPUs\n2022/11/10 02:55:58 WARNING mlflow.utils.autologging_utils: You are using an unsupported version of pytorch. If you encounter errors during autologging, try upgrading / downgrading pytorch to a supported version, or try upgrading MLflow.\nMissing logger folder: /databricks/driver/lightning_logs\n\n  | Name    | Type   | Params\n-----------------------------------\n0 | linear1 | Linear | 192   \n1 | linear2 | Linear | 136   \n2 | linear3 | Linear | 9     \n-----------------------------------\n337       Trainable params\n0         Non-trainable params\n337       Total params\n0.001     Total estimated model params size (MB)\n"
            ]
          }
        },
        {
          "output_type": "display_data",
          "metadata": {
            "application/vnd.databricks.v1+output": {
              "datasetInfos": [],
              "data": {
                "text/plain": "Training: 0it [00:00, ?it/s]",
                "application/vnd.jupyter.widget-view+json": {
                  "version_major": 2,
                  "version_minor": 0,
                  "model_id": "e70b00e4045c476b8b986d49bdcecef6"
                }
              },
              "removedWidgets": [],
              "addedWidgets": {},
              "metadata": {
                "kernelSessionId": "5342c9e9-3ccb97daeacbd2980e14e570"
              },
              "type": "mimeBundle",
              "arguments": {}
            }
          },
          "data": {
            "text/plain": "Training: 0it [00:00, ?it/s]",
            "application/vnd.jupyter.widget-view+json": {
              "version_major": 2,
              "version_minor": 0,
              "model_id": "e70b00e4045c476b8b986d49bdcecef6"
            }
          }
        },
        {
          "output_type": "display_data",
          "metadata": {
            "application/vnd.databricks.v1+output": {
              "datasetInfos": [],
              "data": "`Trainer.fit` stopped: `max_epochs=2000` reached.\n2022/11/10 03:17:29 WARNING mlflow.utils.requirements_utils: Found torch version (1.11.0+cpu) contains a local version label (+cpu). MLflow logged a pip requirement for this package as 'torch==1.11.0' without the local version label to make it installable from PyPI. To specify pip requirements containing local version labels, please use `conda_env` or `pip_requirements`.\n2022/11/10 03:17:33 WARNING mlflow.utils.requirements_utils: Found torchvision version (0.12.0+cpu) contains a local version label (+cpu). MLflow logged a pip requirement for this package as 'torchvision==0.12.0' without the local version label to make it installable from PyPI. To specify pip requirements containing local version labels, please use `conda_env` or `pip_requirements`.\nRestoring states from the checkpoint path at /databricks/driver/lightning_logs/version_0/checkpoints/epoch=1999-step=126000.ckpt\nLoaded model weights from checkpoint at /databricks/driver/lightning_logs/version_0/checkpoints/epoch=1999-step=126000.ckpt\n",
              "removedWidgets": [],
              "addedWidgets": {},
              "metadata": {},
              "type": "ansi",
              "arguments": {}
            }
          },
          "data": {
            "text/plain": [
              "`Trainer.fit` stopped: `max_epochs=2000` reached.\n2022/11/10 03:17:29 WARNING mlflow.utils.requirements_utils: Found torch version (1.11.0+cpu) contains a local version label (+cpu). MLflow logged a pip requirement for this package as 'torch==1.11.0' without the local version label to make it installable from PyPI. To specify pip requirements containing local version labels, please use `conda_env` or `pip_requirements`.\n2022/11/10 03:17:33 WARNING mlflow.utils.requirements_utils: Found torchvision version (0.12.0+cpu) contains a local version label (+cpu). MLflow logged a pip requirement for this package as 'torchvision==0.12.0' without the local version label to make it installable from PyPI. To specify pip requirements containing local version labels, please use `conda_env` or `pip_requirements`.\nRestoring states from the checkpoint path at /databricks/driver/lightning_logs/version_0/checkpoints/epoch=1999-step=126000.ckpt\nLoaded model weights from checkpoint at /databricks/driver/lightning_logs/version_0/checkpoints/epoch=1999-step=126000.ckpt\n"
            ]
          }
        },
        {
          "output_type": "display_data",
          "metadata": {
            "application/vnd.databricks.v1+output": {
              "datasetInfos": [],
              "data": {
                "text/plain": "Testing: 0it [00:00, ?it/s]",
                "application/vnd.jupyter.widget-view+json": {
                  "version_major": 2,
                  "version_minor": 0,
                  "model_id": "0cb5dabb18d14966be2be235a00dab2e"
                }
              },
              "removedWidgets": [],
              "addedWidgets": {},
              "metadata": {
                "kernelSessionId": "5342c9e9-3ccb97daeacbd2980e14e570"
              },
              "type": "mimeBundle",
              "arguments": {}
            }
          },
          "data": {
            "text/plain": "Testing: 0it [00:00, ?it/s]",
            "application/vnd.jupyter.widget-view+json": {
              "version_major": 2,
              "version_minor": 0,
              "model_id": "0cb5dabb18d14966be2be235a00dab2e"
            }
          }
        },
        {
          "output_type": "display_data",
          "metadata": {
            "application/vnd.databricks.v1+output": {
              "datasetInfos": [],
              "data": "2022/11/10 03:17:34 WARNING mlflow.utils.requirements_utils: Found torch version (1.11.0+cpu) contains a local version label (+cpu). MLflow logged a pip requirement for this package as 'torch==1.11.0' without the local version label to make it installable from PyPI. To specify pip requirements containing local version labels, please use `conda_env` or `pip_requirements`.\n────────────────────────────────────────────────────────────────────────────────────────────────────────────────────────\n       Test metric             DataLoader 0\n────────────────────────────────────────────────────────────────────────────────────────────────────────────────────────\n        test_acc            0.8464999794960022\n        test_loss           0.45185863971710205\n     test_precision          0.676912248134613\n       test_recall          0.4848880469799042\n────────────────────────────────────────────────────────────────────────────────────────────────────────────────────────\n2022/11/10 03:17:37 WARNING mlflow.utils.requirements_utils: Found torchvision version (0.12.0+cpu) contains a local version label (+cpu). MLflow logged a pip requirement for this package as 'torchvision==0.12.0' without the local version label to make it installable from PyPI. To specify pip requirements containing local version labels, please use `conda_env` or `pip_requirements`.\n",
              "removedWidgets": [],
              "addedWidgets": {},
              "metadata": {},
              "type": "ansi",
              "arguments": {}
            }
          },
          "data": {
            "text/plain": [
              "2022/11/10 03:17:34 WARNING mlflow.utils.requirements_utils: Found torch version (1.11.0+cpu) contains a local version label (+cpu). MLflow logged a pip requirement for this package as 'torch==1.11.0' without the local version label to make it installable from PyPI. To specify pip requirements containing local version labels, please use `conda_env` or `pip_requirements`.\n────────────────────────────────────────────────────────────────────────────────────────────────────────────────────────\n       Test metric             DataLoader 0\n────────────────────────────────────────────────────────────────────────────────────────────────────────────────────────\n        test_acc            0.8464999794960022\n        test_loss           0.45185863971710205\n     test_precision          0.676912248134613\n       test_recall          0.4848880469799042\n────────────────────────────────────────────────────────────────────────────────────────────────────────────────────────\n2022/11/10 03:17:37 WARNING mlflow.utils.requirements_utils: Found torchvision version (0.12.0+cpu) contains a local version label (+cpu). MLflow logged a pip requirement for this package as 'torchvision==0.12.0' without the local version label to make it installable from PyPI. To specify pip requirements containing local version labels, please use `conda_env` or `pip_requirements`.\n"
            ]
          }
        }
      ],
      "execution_count": null
    },
    {
      "cell_type": "code",
      "source": [
        "model_name = 'churn_prediction'\n",
        "\n",
        "model_version = mlflow.register_model(f'runs:/{run.info.run_id}/model', model_name)\n",
        "\n",
        "print(model_version)"
      ],
      "metadata": {
        "application/vnd.databricks.v1+cell": {
          "showTitle": false,
          "cellMetadata": {},
          "nuid": "234707e3-4d97-4bd1-995e-9d0a998022f7",
          "inputWidgets": {},
          "title": ""
        },
        "id": "EGdaiGWmEyTR"
      },
      "outputs": [],
      "execution_count": null
    },
    {
      "cell_type": "code",
      "source": [
        "client = MlflowClient()\n",
        "\n",
        "client.transition_model_version_stage(\n",
        "  name = model_name,\n",
        "  version = model_version.version,\n",
        "  stage = 'Production',\n",
        ")"
      ],
      "metadata": {
        "application/vnd.databricks.v1+cell": {
          "showTitle": false,
          "cellMetadata": {},
          "nuid": "e2fb0f49-11a6-46ac-b8fb-ab36d985b60b",
          "inputWidgets": {},
          "title": ""
        },
        "id": "tVum607GEyTT",
        "outputId": "22645a57-ebb7-459b-85b9-724c6bebca26"
      },
      "outputs": [
        {
          "output_type": "display_data",
          "metadata": {
            "application/vnd.databricks.v1+output": {
              "datasetInfos": [],
              "data": "Out[22]: <ModelVersion: creation_timestamp=1668051455578, current_stage='Production', description='', last_updated_timestamp=1668051763721, name='churn_prediction', run_id='f08762c534174557a88d459ce1960082', run_link='', source='dbfs:/databricks/mlflow-tracking/90305651608176/f08762c534174557a88d459ce1960082/artifacts/model', status='READY', status_message='', tags={}, user_id='1980623222278766', version='1'>",
              "removedWidgets": [],
              "addedWidgets": {},
              "metadata": {},
              "type": "ansi",
              "arguments": {}
            }
          },
          "data": {
            "text/plain": [
              "Out[22]: <ModelVersion: creation_timestamp=1668051455578, current_stage='Production', description='', last_updated_timestamp=1668051763721, name='churn_prediction', run_id='f08762c534174557a88d459ce1960082', run_link='', source='dbfs:/databricks/mlflow-tracking/90305651608176/f08762c534174557a88d459ce1960082/artifacts/model', status='READY', status_message='', tags={}, user_id='1980623222278766', version='1'>"
            ]
          }
        }
      ],
      "execution_count": null
    },
    {
      "cell_type": "code",
      "source": [
        "import os\n",
        "os.environ['DATABRICKS_TOKEN'] = 'dapid56da83c7d24500n3b13ceab00b24045c-3'"
      ],
      "metadata": {
        "application/vnd.databricks.v1+cell": {
          "showTitle": false,
          "cellMetadata": {},
          "nuid": "53bb62c4-3e1b-4581-93fa-5df9c2521394",
          "inputWidgets": {},
          "title": ""
        },
        "id": "e3PXcDsJEyTU"
      },
      "outputs": [],
      "execution_count": null
    },
    {
      "cell_type": "code",
      "source": [
        "import os\n",
        "import requests\n",
        "import numpy as np\n",
        "import pandas as pd\n",
        "import json\n",
        "\n",
        "def create_tf_serving_json(data):\n",
        "    return {'inputs': {name: data[name].tolist() for name in data.keys()} if isinstance(data, dict) else data.tolist()}\n",
        "\n",
        "def score_model(dataset):\n",
        "    url = 'https://adb-8932797120739102.2.azuredatabricks.net/model/churn_prediction/1/invocations'\n",
        "    headers = {'Authorization': f'Bearer {os.environ.get(\"DATABRICKS_TOKEN\")}', 'Content-Type': 'application/json'}\n",
        "    ds_dict = dataset.to_dict(orient='split') if isinstance(dataset, pd.DataFrame) else create_tf_serving_json(dataset)\n",
        "    data_json = json.dumps(ds_dict, allow_nan=True)\n",
        "    response = requests.request(method='POST', headers=headers, url=url, data=data_json)\n",
        "    if response.status_code != 200:\n",
        "        raise Exception(f'Request failed with status {response.status_code}, {response.text}')\n",
        "    return response.json()"
      ],
      "metadata": {
        "application/vnd.databricks.v1+cell": {
          "showTitle": false,
          "cellMetadata": {},
          "nuid": "437acc4b-2a06-47fc-b8f8-9026f063b9f0",
          "inputWidgets": {},
          "title": ""
        },
        "id": "BQXGgSi-EyTW"
      },
      "outputs": [],
      "execution_count": null
    },
    {
      "cell_type": "code",
      "source": [
        "X_test_numpy = X_test.detach().cpu().numpy()\n",
        "\n",
        "X_test_numpy[:5]"
      ],
      "metadata": {
        "application/vnd.databricks.v1+cell": {
          "showTitle": false,
          "cellMetadata": {},
          "nuid": "c7d51aa1-51b3-4144-a6f0-57d1b8de9a1e",
          "inputWidgets": {},
          "title": ""
        },
        "id": "tVbPwk8iEyTh",
        "outputId": "a57f8b8a-dec5-4910-95a5-cacb030c0e00"
      },
      "outputs": [
        {
          "output_type": "display_data",
          "metadata": {
            "application/vnd.databricks.v1+output": {
              "datasetInfos": [],
              "data": "Out[42]: array([[-0.18540366, -1.5195221 , -0.69212615,  0.7341523 , -0.90767115,\n         0.6493972 , -1.0304638 ,  0.8222534 ,  1.7228621 , -0.5748484 ,\n         0.9111777 ],\n       [-0.58014476, -0.66112256, -0.34703365,  0.6955779 ,  0.81548244,\n         0.6493972 ,  0.9704368 ,  1.0967362 ,  1.7228621 , -0.5748484 ,\n        -1.0974808 ],\n       [ 0.38593212, -0.5657449 ,  1.3784288 ,  0.9505554 ,  0.81548244,\n         0.6493972 , -1.0304638 ,  0.37761638,  1.7228621 , -0.5748484 ,\n         0.9111777 ],\n       [-1.3488511 , -0.5657449 , -0.34703365,  1.276915  ,  0.81548244,\n         0.6493972 ,  0.9704368 ,  1.1515388 , -0.5804295 , -0.5748484 ,\n         0.9111777 ],\n       [ 0.17817366,  0.2926546 ,  0.34315133, -1.2315063 , -0.90767115,\n         0.6493972 , -1.0304638 , -0.19570515, -0.5804295 , -0.5748484 ,\n         0.9111777 ]], dtype=float32)",
              "removedWidgets": [],
              "addedWidgets": {},
              "metadata": {},
              "type": "ansi",
              "arguments": {}
            }
          },
          "data": {
            "text/plain": [
              "Out[42]: array([[-0.18540366, -1.5195221 , -0.69212615,  0.7341523 , -0.90767115,\n         0.6493972 , -1.0304638 ,  0.8222534 ,  1.7228621 , -0.5748484 ,\n         0.9111777 ],\n       [-0.58014476, -0.66112256, -0.34703365,  0.6955779 ,  0.81548244,\n         0.6493972 ,  0.9704368 ,  1.0967362 ,  1.7228621 , -0.5748484 ,\n        -1.0974808 ],\n       [ 0.38593212, -0.5657449 ,  1.3784288 ,  0.9505554 ,  0.81548244,\n         0.6493972 , -1.0304638 ,  0.37761638,  1.7228621 , -0.5748484 ,\n         0.9111777 ],\n       [-1.3488511 , -0.5657449 , -0.34703365,  1.276915  ,  0.81548244,\n         0.6493972 ,  0.9704368 ,  1.1515388 , -0.5804295 , -0.5748484 ,\n         0.9111777 ],\n       [ 0.17817366,  0.2926546 ,  0.34315133, -1.2315063 , -0.90767115,\n         0.6493972 , -1.0304638 , -0.19570515, -0.5804295 , -0.5748484 ,\n         0.9111777 ]], dtype=float32)"
            ]
          }
        }
      ],
      "execution_count": null
    },
    {
      "cell_type": "code",
      "source": [
        "served_predictions = score_model(pd.DataFrame(X_test_numpy))\n",
        "\n",
        "served_predictions_df = pd.DataFrame(served_predictions)\n",
        "served_predictions_df = served_predictions_df.reset_index(drop = True)\n",
        "\n",
        "served_predictions_df"
      ],
      "metadata": {
        "application/vnd.databricks.v1+cell": {
          "showTitle": false,
          "cellMetadata": {},
          "nuid": "309dda9a-7579-4f11-94cb-7f0aa80f9b4e",
          "inputWidgets": {},
          "title": ""
        },
        "id": "ZTigdqehEyTi",
        "outputId": "63959ca6-6572-4088-a868-17ea91976039"
      },
      "outputs": [
        {
          "output_type": "display_data",
          "metadata": {
            "application/vnd.databricks.v1+output": {
              "datasetInfos": [],
              "data": "***** <Response [200]>\n",
              "removedWidgets": [],
              "addedWidgets": {},
              "metadata": {},
              "type": "ansi",
              "arguments": {}
            }
          },
          "data": {
            "text/plain": [
              "***** <Response [200]>\n"
            ]
          }
        },
        {
          "output_type": "display_data",
          "metadata": {
            "application/vnd.databricks.v1+output": {
              "datasetInfos": [],
              "data": "<div>\n<style scoped>\n    .dataframe tbody tr th:only-of-type {\n        vertical-align: middle;\n    }\n\n    .dataframe tbody tr th {\n        vertical-align: top;\n    }\n\n    .dataframe thead th {\n        text-align: right;\n    }\n</style>\n<table border=\"1\" class=\"dataframe\">\n  <thead>\n    <tr style=\"text-align: right;\">\n      <th></th>\n      <th>0</th>\n    </tr>\n  </thead>\n  <tbody>\n    <tr>\n      <th>0</th>\n      <td>0.007890</td>\n    </tr>\n    <tr>\n      <th>1</th>\n      <td>0.161568</td>\n    </tr>\n    <tr>\n      <th>2</th>\n      <td>0.020342</td>\n    </tr>\n    <tr>\n      <th>3</th>\n      <td>0.102108</td>\n    </tr>\n    <tr>\n      <th>4</th>\n      <td>0.544289</td>\n    </tr>\n    <tr>\n      <th>...</th>\n      <td>...</td>\n    </tr>\n    <tr>\n      <th>1995</th>\n      <td>0.045855</td>\n    </tr>\n    <tr>\n      <th>1996</th>\n      <td>0.002726</td>\n    </tr>\n    <tr>\n      <th>1997</th>\n      <td>0.004729</td>\n    </tr>\n    <tr>\n      <th>1998</th>\n      <td>0.022915</td>\n    </tr>\n    <tr>\n      <th>1999</th>\n      <td>0.031405</td>\n    </tr>\n  </tbody>\n</table>\n<p>2000 rows × 1 columns</p>\n</div>",
              "textData": null,
              "removedWidgets": [],
              "addedWidgets": {},
              "metadata": {},
              "type": "htmlSandbox",
              "arguments": {}
            }
          },
          "data": {
            "text/html": [
              "<div>\n<style scoped>\n    .dataframe tbody tr th:only-of-type {\n        vertical-align: middle;\n    }\n\n    .dataframe tbody tr th {\n        vertical-align: top;\n    }\n\n    .dataframe thead th {\n        text-align: right;\n    }\n</style>\n<table border=\"1\" class=\"dataframe\">\n  <thead>\n    <tr style=\"text-align: right;\">\n      <th></th>\n      <th>0</th>\n    </tr>\n  </thead>\n  <tbody>\n    <tr>\n      <th>0</th>\n      <td>0.007890</td>\n    </tr>\n    <tr>\n      <th>1</th>\n      <td>0.161568</td>\n    </tr>\n    <tr>\n      <th>2</th>\n      <td>0.020342</td>\n    </tr>\n    <tr>\n      <th>3</th>\n      <td>0.102108</td>\n    </tr>\n    <tr>\n      <th>4</th>\n      <td>0.544289</td>\n    </tr>\n    <tr>\n      <th>...</th>\n      <td>...</td>\n    </tr>\n    <tr>\n      <th>1995</th>\n      <td>0.045855</td>\n    </tr>\n    <tr>\n      <th>1996</th>\n      <td>0.002726</td>\n    </tr>\n    <tr>\n      <th>1997</th>\n      <td>0.004729</td>\n    </tr>\n    <tr>\n      <th>1998</th>\n      <td>0.022915</td>\n    </tr>\n    <tr>\n      <th>1999</th>\n      <td>0.031405</td>\n    </tr>\n  </tbody>\n</table>\n<p>2000 rows × 1 columns</p>\n</div>"
            ]
          }
        }
      ],
      "execution_count": null
    },
    {
      "cell_type": "code",
      "source": [
        "import os\n",
        "import requests\n",
        "import numpy as np\n",
        "import pandas as pd\n",
        "import json\n",
        "\n",
        "def create_tf_serving_json(data):\n",
        "  return {'inputs': {name: data[name].tolist() for name in data.keys()}}\n",
        "\n",
        "def score_model(dataset):\n",
        "  url = 'https://adb-1858010364734723.3.azuredatabricks.net/model/employee_promotion_prediction/1/invocations'\n",
        "  headers = {'Authorization': f'Bearer {os.environ.get(\"DATABRICKS_TOKEN\")}', 'Content-Type': 'application/json'}\n",
        "  ds_dict = create_tf_serving_json(dataset)\n",
        "  data_json = json.dumps(ds_dict, allow_nan=True)\n",
        "  print(data_json)\n",
        "  response = requests.request(method='POST', headers=headers, url=url, data=data_json)\n",
        "  if response.status_code != 200:\n",
        "    raise Exception(f'Request failed with status {response.status_code}, {response.text}')\n",
        "  return response.json()\n",
        "\n",
        "\n",
        "served_predictions = score_model(pd.DataFrame(X_test_numpy))\n",
        "\n",
        "served_predictions_df = pd.DataFrame(served_predictions['predictions'])\n",
        "served_predictions_df = served_predictions_df.reset_index(drop = True)\n",
        "\n",
        "served_predictions_df"
      ],
      "metadata": {
        "application/vnd.databricks.v1+cell": {
          "showTitle": false,
          "cellMetadata": {},
          "nuid": "a09fb16c-2ee8-483a-973b-40d8228cff10",
          "inputWidgets": {},
          "title": ""
        },
        "id": "yS4oSTKpEyTj"
      },
      "outputs": [],
      "execution_count": null
    },
    {
      "cell_type": "code",
      "source": [
        "import mlflow\n",
        "logged_model = 'runs:/' + run.info.run_id + '/churn_prediction'\n",
        "\n",
        "loaded_model = mlflow.pyfunc.load_model(logged_model)\n",
        "\n",
        "loaded_model_predictions_df = loaded_model.predict(pd.DataFrame(X_test_numpy)).reset_index(drop = True)\n",
        "\n",
        "loaded_model_predictions_df"
      ],
      "metadata": {
        "application/vnd.databricks.v1+cell": {
          "showTitle": false,
          "cellMetadata": {},
          "nuid": "82c40463-f3f4-4ecc-8d97-87ecbb506ab8",
          "inputWidgets": {},
          "title": ""
        },
        "id": "NRMcWrjUEyTl",
        "outputId": "e11b7785-f6c2-41a8-8032-407d03060342"
      },
      "outputs": [
        {
          "output_type": "display_data",
          "metadata": {
            "application/vnd.databricks.v1+output": {
              "datasetInfos": [],
              "data": "<div>\n<style scoped>\n    .dataframe tbody tr th:only-of-type {\n        vertical-align: middle;\n    }\n\n    .dataframe tbody tr th {\n        vertical-align: top;\n    }\n\n    .dataframe thead th {\n        text-align: right;\n    }\n</style>\n<table border=\"1\" class=\"dataframe\">\n  <thead>\n    <tr style=\"text-align: right;\">\n      <th></th>\n      <th>0</th>\n    </tr>\n  </thead>\n  <tbody>\n    <tr>\n      <th>0</th>\n      <td>0.007890</td>\n    </tr>\n    <tr>\n      <th>1</th>\n      <td>0.161568</td>\n    </tr>\n    <tr>\n      <th>2</th>\n      <td>0.020342</td>\n    </tr>\n    <tr>\n      <th>3</th>\n      <td>0.102108</td>\n    </tr>\n    <tr>\n      <th>4</th>\n      <td>0.544289</td>\n    </tr>\n    <tr>\n      <th>...</th>\n      <td>...</td>\n    </tr>\n    <tr>\n      <th>1995</th>\n      <td>0.045855</td>\n    </tr>\n    <tr>\n      <th>1996</th>\n      <td>0.002726</td>\n    </tr>\n    <tr>\n      <th>1997</th>\n      <td>0.004729</td>\n    </tr>\n    <tr>\n      <th>1998</th>\n      <td>0.022915</td>\n    </tr>\n    <tr>\n      <th>1999</th>\n      <td>0.031405</td>\n    </tr>\n  </tbody>\n</table>\n<p>2000 rows × 1 columns</p>\n</div>",
              "textData": null,
              "removedWidgets": [],
              "addedWidgets": {},
              "metadata": {},
              "type": "htmlSandbox",
              "arguments": {}
            }
          },
          "data": {
            "text/html": [
              "<div>\n<style scoped>\n    .dataframe tbody tr th:only-of-type {\n        vertical-align: middle;\n    }\n\n    .dataframe tbody tr th {\n        vertical-align: top;\n    }\n\n    .dataframe thead th {\n        text-align: right;\n    }\n</style>\n<table border=\"1\" class=\"dataframe\">\n  <thead>\n    <tr style=\"text-align: right;\">\n      <th></th>\n      <th>0</th>\n    </tr>\n  </thead>\n  <tbody>\n    <tr>\n      <th>0</th>\n      <td>0.007890</td>\n    </tr>\n    <tr>\n      <th>1</th>\n      <td>0.161568</td>\n    </tr>\n    <tr>\n      <th>2</th>\n      <td>0.020342</td>\n    </tr>\n    <tr>\n      <th>3</th>\n      <td>0.102108</td>\n    </tr>\n    <tr>\n      <th>4</th>\n      <td>0.544289</td>\n    </tr>\n    <tr>\n      <th>...</th>\n      <td>...</td>\n    </tr>\n    <tr>\n      <th>1995</th>\n      <td>0.045855</td>\n    </tr>\n    <tr>\n      <th>1996</th>\n      <td>0.002726</td>\n    </tr>\n    <tr>\n      <th>1997</th>\n      <td>0.004729</td>\n    </tr>\n    <tr>\n      <th>1998</th>\n      <td>0.022915</td>\n    </tr>\n    <tr>\n      <th>1999</th>\n      <td>0.031405</td>\n    </tr>\n  </tbody>\n</table>\n<p>2000 rows × 1 columns</p>\n</div>"
            ]
          }
        }
      ],
      "execution_count": null
    },
    {
      "cell_type": "markdown",
      "source": [
        "Loaded and Served model predictions are compared.Both need to match. Predicted probabilities are probability of predicting '1' label."
      ],
      "metadata": {
        "application/vnd.databricks.v1+cell": {
          "showTitle": false,
          "cellMetadata": {},
          "nuid": "0955c6f1-8dfc-421a-8826-a3fb3c46d795",
          "inputWidgets": {},
          "title": ""
        },
        "id": "zyDuW3SxEyTn"
      }
    },
    {
      "cell_type": "code",
      "source": [
        "loaded_and_served_compare_df = pd.concat([served_predictions_df, loaded_model_predictions_df], axis = 1, ignore_index = True)\n",
        "\n",
        "loaded_and_served_compare_df"
      ],
      "metadata": {
        "application/vnd.databricks.v1+cell": {
          "showTitle": false,
          "cellMetadata": {},
          "nuid": "14fd7993-c3f2-41e6-b4f9-02ca0b60c0bd",
          "inputWidgets": {},
          "title": ""
        },
        "id": "rXNmPefhEyTo",
        "outputId": "8f5902c5-5188-4ce7-db27-84ddbebf50b7"
      },
      "outputs": [
        {
          "output_type": "display_data",
          "metadata": {
            "application/vnd.databricks.v1+output": {
              "datasetInfos": [],
              "data": "<div>\n<style scoped>\n    .dataframe tbody tr th:only-of-type {\n        vertical-align: middle;\n    }\n\n    .dataframe tbody tr th {\n        vertical-align: top;\n    }\n\n    .dataframe thead th {\n        text-align: right;\n    }\n</style>\n<table border=\"1\" class=\"dataframe\">\n  <thead>\n    <tr style=\"text-align: right;\">\n      <th></th>\n      <th>0</th>\n      <th>1</th>\n    </tr>\n  </thead>\n  <tbody>\n    <tr>\n      <th>0</th>\n      <td>0.007890</td>\n      <td>0.007890</td>\n    </tr>\n    <tr>\n      <th>1</th>\n      <td>0.161568</td>\n      <td>0.161568</td>\n    </tr>\n    <tr>\n      <th>2</th>\n      <td>0.020342</td>\n      <td>0.020342</td>\n    </tr>\n    <tr>\n      <th>3</th>\n      <td>0.102108</td>\n      <td>0.102108</td>\n    </tr>\n    <tr>\n      <th>4</th>\n      <td>0.544289</td>\n      <td>0.544289</td>\n    </tr>\n    <tr>\n      <th>...</th>\n      <td>...</td>\n      <td>...</td>\n    </tr>\n    <tr>\n      <th>1995</th>\n      <td>0.045855</td>\n      <td>0.045855</td>\n    </tr>\n    <tr>\n      <th>1996</th>\n      <td>0.002726</td>\n      <td>0.002726</td>\n    </tr>\n    <tr>\n      <th>1997</th>\n      <td>0.004729</td>\n      <td>0.004729</td>\n    </tr>\n    <tr>\n      <th>1998</th>\n      <td>0.022915</td>\n      <td>0.022915</td>\n    </tr>\n    <tr>\n      <th>1999</th>\n      <td>0.031405</td>\n      <td>0.031405</td>\n    </tr>\n  </tbody>\n</table>\n<p>2000 rows × 2 columns</p>\n</div>",
              "textData": null,
              "removedWidgets": [],
              "addedWidgets": {},
              "metadata": {},
              "type": "htmlSandbox",
              "arguments": {}
            }
          },
          "data": {
            "text/html": [
              "<div>\n<style scoped>\n    .dataframe tbody tr th:only-of-type {\n        vertical-align: middle;\n    }\n\n    .dataframe tbody tr th {\n        vertical-align: top;\n    }\n\n    .dataframe thead th {\n        text-align: right;\n    }\n</style>\n<table border=\"1\" class=\"dataframe\">\n  <thead>\n    <tr style=\"text-align: right;\">\n      <th></th>\n      <th>0</th>\n      <th>1</th>\n    </tr>\n  </thead>\n  <tbody>\n    <tr>\n      <th>0</th>\n      <td>0.007890</td>\n      <td>0.007890</td>\n    </tr>\n    <tr>\n      <th>1</th>\n      <td>0.161568</td>\n      <td>0.161568</td>\n    </tr>\n    <tr>\n      <th>2</th>\n      <td>0.020342</td>\n      <td>0.020342</td>\n    </tr>\n    <tr>\n      <th>3</th>\n      <td>0.102108</td>\n      <td>0.102108</td>\n    </tr>\n    <tr>\n      <th>4</th>\n      <td>0.544289</td>\n      <td>0.544289</td>\n    </tr>\n    <tr>\n      <th>...</th>\n      <td>...</td>\n      <td>...</td>\n    </tr>\n    <tr>\n      <th>1995</th>\n      <td>0.045855</td>\n      <td>0.045855</td>\n    </tr>\n    <tr>\n      <th>1996</th>\n      <td>0.002726</td>\n      <td>0.002726</td>\n    </tr>\n    <tr>\n      <th>1997</th>\n      <td>0.004729</td>\n      <td>0.004729</td>\n    </tr>\n    <tr>\n      <th>1998</th>\n      <td>0.022915</td>\n      <td>0.022915</td>\n    </tr>\n    <tr>\n      <th>1999</th>\n      <td>0.031405</td>\n      <td>0.031405</td>\n    </tr>\n  </tbody>\n</table>\n<p>2000 rows × 2 columns</p>\n</div>"
            ]
          }
        }
      ],
      "execution_count": null
    },
    {
      "cell_type": "markdown",
      "source": [
        "Rounding off sigmoid predictions to get binary predictions and comparing some predictions"
      ],
      "metadata": {
        "application/vnd.databricks.v1+cell": {
          "showTitle": false,
          "cellMetadata": {},
          "nuid": "316bd688-21ba-4f25-8ce5-96ea2b14ce76",
          "inputWidgets": {},
          "title": ""
        },
        "id": "aSDoOL_CEyTp"
      }
    },
    {
      "cell_type": "code",
      "source": [
        "loaded_and_served_compare_df.round()[:15]"
      ],
      "metadata": {
        "application/vnd.databricks.v1+cell": {
          "showTitle": false,
          "cellMetadata": {},
          "nuid": "7457f3a8-9443-4b56-8535-b63d50b339cd",
          "inputWidgets": {},
          "title": ""
        },
        "id": "CZHCrqAeEyTq",
        "outputId": "a64be529-8dde-4668-c29c-e80b74a61b66"
      },
      "outputs": [
        {
          "output_type": "display_data",
          "metadata": {
            "application/vnd.databricks.v1+output": {
              "datasetInfos": [],
              "data": "<div>\n<style scoped>\n    .dataframe tbody tr th:only-of-type {\n        vertical-align: middle;\n    }\n\n    .dataframe tbody tr th {\n        vertical-align: top;\n    }\n\n    .dataframe thead th {\n        text-align: right;\n    }\n</style>\n<table border=\"1\" class=\"dataframe\">\n  <thead>\n    <tr style=\"text-align: right;\">\n      <th></th>\n      <th>0</th>\n      <th>1</th>\n    </tr>\n  </thead>\n  <tbody>\n    <tr>\n      <th>0</th>\n      <td>0.0</td>\n      <td>0.0</td>\n    </tr>\n    <tr>\n      <th>1</th>\n      <td>0.0</td>\n      <td>0.0</td>\n    </tr>\n    <tr>\n      <th>2</th>\n      <td>0.0</td>\n      <td>0.0</td>\n    </tr>\n    <tr>\n      <th>3</th>\n      <td>0.0</td>\n      <td>0.0</td>\n    </tr>\n    <tr>\n      <th>4</th>\n      <td>1.0</td>\n      <td>1.0</td>\n    </tr>\n    <tr>\n      <th>5</th>\n      <td>1.0</td>\n      <td>1.0</td>\n    </tr>\n    <tr>\n      <th>6</th>\n      <td>0.0</td>\n      <td>0.0</td>\n    </tr>\n    <tr>\n      <th>7</th>\n      <td>0.0</td>\n      <td>0.0</td>\n    </tr>\n    <tr>\n      <th>8</th>\n      <td>1.0</td>\n      <td>1.0</td>\n    </tr>\n    <tr>\n      <th>9</th>\n      <td>0.0</td>\n      <td>0.0</td>\n    </tr>\n    <tr>\n      <th>10</th>\n      <td>0.0</td>\n      <td>0.0</td>\n    </tr>\n    <tr>\n      <th>11</th>\n      <td>0.0</td>\n      <td>0.0</td>\n    </tr>\n    <tr>\n      <th>12</th>\n      <td>0.0</td>\n      <td>0.0</td>\n    </tr>\n    <tr>\n      <th>13</th>\n      <td>0.0</td>\n      <td>0.0</td>\n    </tr>\n    <tr>\n      <th>14</th>\n      <td>0.0</td>\n      <td>0.0</td>\n    </tr>\n  </tbody>\n</table>\n</div>",
              "textData": null,
              "removedWidgets": [],
              "addedWidgets": {},
              "metadata": {},
              "type": "htmlSandbox",
              "arguments": {}
            }
          },
          "data": {
            "text/html": [
              "<div>\n<style scoped>\n    .dataframe tbody tr th:only-of-type {\n        vertical-align: middle;\n    }\n\n    .dataframe tbody tr th {\n        vertical-align: top;\n    }\n\n    .dataframe thead th {\n        text-align: right;\n    }\n</style>\n<table border=\"1\" class=\"dataframe\">\n  <thead>\n    <tr style=\"text-align: right;\">\n      <th></th>\n      <th>0</th>\n      <th>1</th>\n    </tr>\n  </thead>\n  <tbody>\n    <tr>\n      <th>0</th>\n      <td>0.0</td>\n      <td>0.0</td>\n    </tr>\n    <tr>\n      <th>1</th>\n      <td>0.0</td>\n      <td>0.0</td>\n    </tr>\n    <tr>\n      <th>2</th>\n      <td>0.0</td>\n      <td>0.0</td>\n    </tr>\n    <tr>\n      <th>3</th>\n      <td>0.0</td>\n      <td>0.0</td>\n    </tr>\n    <tr>\n      <th>4</th>\n      <td>1.0</td>\n      <td>1.0</td>\n    </tr>\n    <tr>\n      <th>5</th>\n      <td>1.0</td>\n      <td>1.0</td>\n    </tr>\n    <tr>\n      <th>6</th>\n      <td>0.0</td>\n      <td>0.0</td>\n    </tr>\n    <tr>\n      <th>7</th>\n      <td>0.0</td>\n      <td>0.0</td>\n    </tr>\n    <tr>\n      <th>8</th>\n      <td>1.0</td>\n      <td>1.0</td>\n    </tr>\n    <tr>\n      <th>9</th>\n      <td>0.0</td>\n      <td>0.0</td>\n    </tr>\n    <tr>\n      <th>10</th>\n      <td>0.0</td>\n      <td>0.0</td>\n    </tr>\n    <tr>\n      <th>11</th>\n      <td>0.0</td>\n      <td>0.0</td>\n    </tr>\n    <tr>\n      <th>12</th>\n      <td>0.0</td>\n      <td>0.0</td>\n    </tr>\n    <tr>\n      <th>13</th>\n      <td>0.0</td>\n      <td>0.0</td>\n    </tr>\n    <tr>\n      <th>14</th>\n      <td>0.0</td>\n      <td>0.0</td>\n    </tr>\n  </tbody>\n</table>\n</div>"
            ]
          }
        }
      ],
      "execution_count": null
    },
    {
      "cell_type": "code",
      "source": [
        "from sklearn.metrics import accuracy_score, recall_score, precision_score\n",
        "\n",
        "y_test_numpy = y_test.detach().cpu().numpy()\n",
        "served_predictions_numpy = served_predictions_df.to_numpy()\n",
        "\n",
        "print('Test Accuracy score :', accuracy_score(y_test_numpy, np.round(served_predictions_numpy)))\n",
        "print('Test Precision score :', precision_score(y_test_numpy, np.round(served_predictions_numpy)))\n",
        "print('Test Recall score :', recall_score(y_test_numpy, np.round(served_predictions_numpy)))"
      ],
      "metadata": {
        "application/vnd.databricks.v1+cell": {
          "showTitle": false,
          "cellMetadata": {},
          "nuid": "f2dddceb-bb0d-4c4e-96f1-7e241dc1ce39",
          "inputWidgets": {},
          "title": ""
        },
        "id": "moUj-l2xEyTs",
        "outputId": "12d0f28a-e4ec-49af-a4b3-1b8d600d4414"
      },
      "outputs": [
        {
          "output_type": "display_data",
          "metadata": {
            "application/vnd.databricks.v1+output": {
              "datasetInfos": [],
              "data": "Test Accuracy score : 0.8465\nTest Precision score : 0.6779661016949152\nTest Recall score : 0.4854368932038835\n",
              "removedWidgets": [],
              "addedWidgets": {},
              "metadata": {},
              "type": "ansi",
              "arguments": {}
            }
          },
          "data": {
            "text/plain": [
              "Test Accuracy score : 0.8465\nTest Precision score : 0.6779661016949152\nTest Recall score : 0.4854368932038835\n"
            ]
          }
        }
      ],
      "execution_count": null
    },
    {
      "cell_type": "code",
      "source": [],
      "metadata": {
        "application/vnd.databricks.v1+cell": {
          "showTitle": false,
          "cellMetadata": {},
          "nuid": "cf220475-bc04-4718-a197-3b5dc8207056",
          "inputWidgets": {},
          "title": ""
        },
        "id": "y9gUdiDtEyTt"
      },
      "outputs": [],
      "execution_count": null
    }
  ],
  "metadata": {
    "kernelspec": {
      "display_name": "Python 3",
      "language": "python",
      "name": "python3"
    },
    "language_info": {
      "mimetype": "text/x-python",
      "name": "python",
      "pygments_lexer": "ipython3",
      "codemirror_mode": {
        "name": "ipython",
        "version": 3
      },
      "version": "3.8.8",
      "nbconvert_exporter": "python",
      "file_extension": ".py"
    },
    "application/vnd.databricks.v1+notebook": {
      "notebookName": "demo-03-BinaryClassificationUsingPyTorch",
      "dashboards": [],
      "notebookMetadata": {
        "pythonIndentUnit": 4
      },
      "language": "python",
      "widgets": {},
      "notebookOrigID": 4057250625670743
    },
    "colab": {
      "provenance": []
    }
  },
  "nbformat": 4,
  "nbformat_minor": 0
}