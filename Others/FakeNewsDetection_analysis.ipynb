{
  "cells": [
    {
      "cell_type": "markdown",
      "metadata": {
        "id": "XSqlT00CuNxs"
      },
      "source": [
        "# FakeNewsDetection"
      ]
    },
    {
      "cell_type": "code",
      "execution_count": null,
      "metadata": {
        "id": "Z2XjjhOFuNxw",
        "outputId": "72b02e68-4e5a-45d9-ff94-19a7ab4dd18f"
      },
      "outputs": [
        {
          "name": "stderr",
          "output_type": "stream",
          "text": [
            "[nltk_data] Downloading package punkt to\n",
            "[nltk_data]     C:\\Users\\LakshmipathyGanesh\\AppData\\Roaming\\nltk_data.\n",
            "[nltk_data]     ..\n",
            "[nltk_data]   Package punkt is already up-to-date!\n",
            "[nltk_data] Downloading package stopwords to\n",
            "[nltk_data]     C:\\Users\\LakshmipathyGanesh\\AppData\\Roaming\\nltk_data.\n",
            "[nltk_data]     ..\n",
            "[nltk_data]   Package stopwords is already up-to-date!\n"
          ]
        }
      ],
      "source": [
        "#Import necessary libraries\n",
        "import pandas as pd\n",
        "import numpy as np\n",
        "import matplotlib.pyplot as plt\n",
        "import warnings\n",
        "warnings.filterwarnings('ignore')\n",
        "import nltk #Import NLTK ---> Natural Language Toolkit\n",
        "nltk.download('punkt')\n",
        "nltk.download('stopwords')\n",
        "from nltk.tokenize import sent_tokenize, word_tokenize, RegexpTokenizer\n",
        "from nltk.corpus import stopwords\n",
        "from nltk.stem import PorterStemmer\n",
        "from sklearn.feature_extraction.text import TfidfVectorizer"
      ]
    },
    {
      "cell_type": "code",
      "execution_count": null,
      "metadata": {
        "id": "tQspqjtYuNx1"
      },
      "outputs": [],
      "source": [
        "#Specify the input filename\n",
        "INPUTFILE = r'fakenews.csv'"
      ]
    },
    {
      "cell_type": "code",
      "execution_count": null,
      "metadata": {
        "id": "WXP8etXNuNx2"
      },
      "outputs": [],
      "source": [
        "#Specify the ratio of test data for prediction\n",
        "test_data_ratio = 0.2"
      ]
    },
    {
      "cell_type": "code",
      "execution_count": null,
      "metadata": {
        "id": "VbDxDHlluNx3"
      },
      "outputs": [],
      "source": [
        "# Load the file for analysis. Change the path of the file if required\n",
        "df = pd.read_csv(INPUTFILE, encoding='utf-8',header=0)"
      ]
    },
    {
      "cell_type": "code",
      "execution_count": null,
      "metadata": {
        "id": "t9lWPNNQuNx3",
        "outputId": "ecbfe6bc-6cfb-4ecd-a909-2837c6237a3a"
      },
      "outputs": [
        {
          "data": {
            "text/html": [
              "<div>\n",
              "<style scoped>\n",
              "    .dataframe tbody tr th:only-of-type {\n",
              "        vertical-align: middle;\n",
              "    }\n",
              "\n",
              "    .dataframe tbody tr th {\n",
              "        vertical-align: top;\n",
              "    }\n",
              "\n",
              "    .dataframe thead th {\n",
              "        text-align: right;\n",
              "    }\n",
              "</style>\n",
              "<table border=\"1\" class=\"dataframe\">\n",
              "  <thead>\n",
              "    <tr style=\"text-align: right;\">\n",
              "      <th></th>\n",
              "      <th>text</th>\n",
              "      <th>label</th>\n",
              "    </tr>\n",
              "  </thead>\n",
              "  <tbody>\n",
              "    <tr>\n",
              "      <th>0</th>\n",
              "      <td>Get the latest from TODAY Sign up for our news...</td>\n",
              "      <td>1</td>\n",
              "    </tr>\n",
              "    <tr>\n",
              "      <th>1</th>\n",
              "      <td>2d  Conan On The Funeral Trump Will Be Invited...</td>\n",
              "      <td>1</td>\n",
              "    </tr>\n",
              "    <tr>\n",
              "      <th>2</th>\n",
              "      <td>It’s safe to say that Instagram Stories has fa...</td>\n",
              "      <td>0</td>\n",
              "    </tr>\n",
              "    <tr>\n",
              "      <th>3</th>\n",
              "      <td>Much like a certain Amazon goddess with a lass...</td>\n",
              "      <td>0</td>\n",
              "    </tr>\n",
              "    <tr>\n",
              "      <th>4</th>\n",
              "      <td>At a time when the perfect outfit is just one ...</td>\n",
              "      <td>0</td>\n",
              "    </tr>\n",
              "  </tbody>\n",
              "</table>\n",
              "</div>"
            ],
            "text/plain": [
              "                                                text  label\n",
              "0  Get the latest from TODAY Sign up for our news...      1\n",
              "1  2d  Conan On The Funeral Trump Will Be Invited...      1\n",
              "2  It’s safe to say that Instagram Stories has fa...      0\n",
              "3  Much like a certain Amazon goddess with a lass...      0\n",
              "4  At a time when the perfect outfit is just one ...      0"
            ]
          },
          "execution_count": 5,
          "metadata": {},
          "output_type": "execute_result"
        }
      ],
      "source": [
        "df.head()"
      ]
    },
    {
      "cell_type": "code",
      "execution_count": null,
      "metadata": {
        "id": "zMbf-sfDuNx4",
        "outputId": "29a5e8e0-c4e1-4931-8f58-83a2661641ef"
      },
      "outputs": [
        {
          "data": {
            "text/plain": [
              "(4986, 2)"
            ]
          },
          "execution_count": 6,
          "metadata": {},
          "output_type": "execute_result"
        }
      ],
      "source": [
        "df.shape"
      ]
    },
    {
      "cell_type": "code",
      "execution_count": null,
      "metadata": {
        "id": "K8I8CiJmuNx5",
        "outputId": "e6975742-3232-4673-bfd7-46fe00b8af04"
      },
      "outputs": [
        {
          "data": {
            "text/plain": [
              "([<matplotlib.patches.Wedge at 0x22228089bc8>,\n",
              "  <matplotlib.patches.Wedge at 0x2222809f508>],\n",
              " [Text(-1.1457601834755702, 0.35669819450345974, '1'),\n",
              "  Text(1.1457601834755702, -0.35669819450346035, '0')],\n",
              " [Text(-0.6683601070274159, 0.20807394679368485, '40.4%'),\n",
              "  Text(0.6683601070274158, -0.2080739467936852, '59.6%')])"
            ]
          },
          "execution_count": 7,
          "metadata": {},
          "output_type": "execute_result"
        },
        {
          "data": {
            "image/png": "[encoded data removed]",
            "text/plain": [
              "<Figure size 432x288 with 1 Axes>"
            ]
          },
          "metadata": {},
          "output_type": "display_data"
        }
      ],
      "source": [
        "#Plot the distribution of the label column in the data\n",
        "cat_target=df.label\n",
        "label_size = [cat_target.sum(),len(cat_target)-cat_target.sum()]\n",
        "plt.pie(label_size,explode=[0.1,0.1],colors=['darkgrey','darkorange'],startangle=90,shadow=True,labels=['1','0'],autopct='%1.1f%%')"
      ]
    },
    {
      "cell_type": "markdown",
      "metadata": {
        "id": "DNtJIjK_uNx5"
      },
      "source": [
        "### Data Preprocessing"
      ]
    },
    {
      "cell_type": "code",
      "execution_count": null,
      "metadata": {
        "id": "eftyZFunuNx5"
      },
      "outputs": [],
      "source": [
        "# create a function to preprocess the data\n",
        "def preprocess_data(data):\n",
        "\n",
        "  # 1. Tokenization\n",
        "    tk = RegexpTokenizer('\\s+', gaps = True)\n",
        "    text_data = [] # List for storing the tokenized data\n",
        "    for values in data.text:\n",
        "        tokenized_data = tk.tokenize(values) # Tokenize the news\n",
        "        text_data.append(tokenized_data) # append the tokenized data\n",
        "\n",
        "  # 2. Stopword Removal\n",
        "\n",
        "  # Extract the stopwords\n",
        "    sw = stopwords.words('english')\n",
        "    clean_data = [] # List for storing the clean text\n",
        "  # Remove the stopwords using stopwords\n",
        "    for data in text_data:\n",
        "        clean_text = [words.lower() for words in data if words.lower() not in sw]\n",
        "        clean_data.append(clean_text) # Appned the clean_text in the clean_data list\n",
        "\n",
        "  # 3. Stemming\n",
        "\n",
        "  # Create a stemmer object\n",
        "    ps = PorterStemmer()\n",
        "    stemmed_data = [] # List for storing the stemmed data\n",
        "    for data in clean_data:\n",
        "        stemmed_text = [ps.stem(words) for words in data] # Stem the words\n",
        "        stemmed_data.append(stemmed_text) # Append the stemmed text\n",
        "\n",
        "\n",
        "  # 4. tfidf vectorizer --> Term Frequency Inverse Document Frequency\n",
        "  # Flatten the stemmed data\n",
        "\n",
        "    updated_data = []\n",
        "    for data in stemmed_data:\n",
        "        updated_data.append(\" \".join(data))\n",
        "\n",
        "  # TFID Vector object\n",
        "    tfidf = TfidfVectorizer()\n",
        "    tfidf_matrix = tfidf.fit_transform(updated_data)\n",
        "\n",
        "    return tfidf_matrix"
      ]
    },
    {
      "cell_type": "code",
      "execution_count": null,
      "metadata": {
        "id": "rlULxuRfuNx6"
      },
      "outputs": [],
      "source": [
        "# preprocess the text data\n",
        "preprocessed_data = preprocess_data(df.drop('label', axis=1))"
      ]
    },
    {
      "cell_type": "code",
      "execution_count": null,
      "metadata": {
        "id": "wgKjMPb6uNx7"
      },
      "outputs": [],
      "source": [
        "features_df = pd.DataFrame(preprocessed_data.toarray())\n",
        "datadf = pd.concat([features_df,df['label']],axis=1)"
      ]
    },
    {
      "cell_type": "code",
      "execution_count": null,
      "metadata": {
        "id": "ZKwNmnPVuNx8"
      },
      "outputs": [],
      "source": [
        "# Split data into train & test in the ratio of 80:20\n",
        "from sklearn.model_selection import train_test_split\n",
        "X_train, X_test, y_train, y_test = train_test_split(datadf, datadf.label, test_size=test_data_ratio, random_state = 42)"
      ]
    },
    {
      "cell_type": "code",
      "execution_count": null,
      "metadata": {
        "id": "oVVJiXLvuNx9"
      },
      "outputs": [],
      "source": [
        "# Evaluation Metrics for Classification models\n",
        "from sklearn import metrics\n",
        "from sklearn.metrics import confusion_matrix, ConfusionMatrixDisplay\n",
        "\n",
        "# Function for deriving a classification report & Confusion matrix for any algorithm\n",
        "def compute_metrics(data, y_true, model_obj, model):\n",
        "\n",
        "        # Make predictions\n",
        "    y_pred = model_obj.predict(data)\n",
        "    print(metrics.classification_report(y_true, y_pred))\n",
        "\n",
        "    cm = confusion_matrix(y_true, y_pred, labels=model_obj.classes_)\n",
        "    disp = ConfusionMatrixDisplay(confusion_matrix=cm,display_labels=model_obj.classes_)\n",
        "    disp.plot()\n",
        "    plt.show()"
      ]
    },
    {
      "cell_type": "code",
      "execution_count": null,
      "metadata": {
        "id": "tJES3g1duNx9",
        "outputId": "8ea418f1-1b9c-4a27-cbe4-3a24fe99ab4d"
      },
      "outputs": [
        {
          "data": {
            "text/plain": [
              "LogisticRegressionCV(Cs=20, cv=3, random_state=42)"
            ]
          },
          "execution_count": 13,
          "metadata": {},
          "output_type": "execute_result"
        }
      ],
      "source": [
        "# Import LogisticRegression model from sklearn library\n",
        "from sklearn.linear_model import LogisticRegressionCV\n",
        "\n",
        "# Initialize the model\n",
        "lr_reg = LogisticRegressionCV(Cs=20, cv=3, random_state=42)\n",
        "\n",
        "# fit the model\n",
        "lr_reg.fit(X_train, y_train)"
      ]
    },
    {
      "cell_type": "code",
      "execution_count": null,
      "metadata": {
        "id": "NWBDUrg8uNx9",
        "outputId": "a643a3ed-7914-473a-f48d-06c3371f7c86"
      },
      "outputs": [
        {
          "name": "stdout",
          "output_type": "stream",
          "text": [
            "              precision    recall  f1-score   support\n",
            "\n",
            "           0       1.00      1.00      1.00      2391\n",
            "           1       1.00      1.00      1.00      1597\n",
            "\n",
            "    accuracy                           1.00      3988\n",
            "   macro avg       1.00      1.00      1.00      3988\n",
            "weighted avg       1.00      1.00      1.00      3988\n",
            "\n"
          ]
        },
        {
          "data": {
            "image/png": "[encoded data removed]",
            "text/plain": [
              "<Figure size 432x288 with 2 Axes>"
            ]
          },
          "metadata": {
            "needs_background": "light"
          },
          "output_type": "display_data"
        }
      ],
      "source": [
        "#  Compute the Evaluation Metrics for train set of Logistic Regression model\n",
        "lr_metrics_train =  compute_metrics(X_train, y_train, lr_reg, 'LogisticRegression')\n",
        "lr_metrics_train"
      ]
    },
    {
      "cell_type": "code",
      "execution_count": null,
      "metadata": {
        "id": "b1QsUp5IuNx-",
        "outputId": "de990558-6a64-4f6b-e532-3ee1ddeb9dfa"
      },
      "outputs": [
        {
          "name": "stdout",
          "output_type": "stream",
          "text": [
            "              precision    recall  f1-score   support\n",
            "\n",
            "           0       1.00      1.00      1.00       581\n",
            "           1       1.00      1.00      1.00       417\n",
            "\n",
            "    accuracy                           1.00       998\n",
            "   macro avg       1.00      1.00      1.00       998\n",
            "weighted avg       1.00      1.00      1.00       998\n",
            "\n"
          ]
        },
        {
          "data": {
            "image/png": "[encoded data removed]",
            "text/plain": [
              "<Figure size 432x288 with 2 Axes>"
            ]
          },
          "metadata": {
            "needs_background": "light"
          },
          "output_type": "display_data"
        }
      ],
      "source": [
        "# Compute the Evaluation Metrics for test set for Logistic Regression model\n",
        "lr_metrics =  compute_metrics(X_test, y_test, lr_reg, 'LogisticRegression')\n",
        "lr_metrics"
      ]
    },
    {
      "cell_type": "code",
      "execution_count": null,
      "metadata": {
        "id": "BN7y-XVLuNyA",
        "outputId": "4549a12c-54b8-41df-a1d4-d3480cef3435"
      },
      "outputs": [
        {
          "data": {
            "text/plain": [
              "MultinomialNB(alpha=0.0)"
            ]
          },
          "execution_count": 16,
          "metadata": {},
          "output_type": "execute_result"
        }
      ],
      "source": [
        "# Import Naive Bayes model from sklearn library\n",
        "from sklearn.naive_bayes import MultinomialNB\n",
        "\n",
        "# Initialize the model\n",
        "mnb = MultinomialNB(alpha=0.0)\n",
        "\n",
        "# Fit the model\n",
        "mnb.fit(X_train, y_train)"
      ]
    },
    {
      "cell_type": "code",
      "execution_count": null,
      "metadata": {
        "id": "MpKNWRU5uNyA",
        "outputId": "d58ce1e0-8c85-479d-ba2a-aadf933d1ba3"
      },
      "outputs": [
        {
          "name": "stdout",
          "output_type": "stream",
          "text": [
            "              precision    recall  f1-score   support\n",
            "\n",
            "           0       1.00      0.99      1.00      2391\n",
            "           1       0.99      1.00      0.99      1597\n",
            "\n",
            "    accuracy                           0.99      3988\n",
            "   macro avg       0.99      1.00      0.99      3988\n",
            "weighted avg       0.99      0.99      0.99      3988\n",
            "\n"
          ]
        },
        {
          "data": {
            "image/png": "[encoded data removed]",
            "text/plain": [
              "<Figure size 432x288 with 2 Axes>"
            ]
          },
          "metadata": {
            "needs_background": "light"
          },
          "output_type": "display_data"
        }
      ],
      "source": [
        "#  Compute the Evaluation Metrics for train set of Naive Bayes model\n",
        "mnb_metrics_train = compute_metrics(X_train, y_train, mnb, 'Naive Bayes')\n",
        "mnb_metrics_train"
      ]
    },
    {
      "cell_type": "code",
      "execution_count": null,
      "metadata": {
        "id": "54GBxZ_zuNyB",
        "outputId": "0deb3a99-4cad-4983-871b-ae62cf99fdbb"
      },
      "outputs": [
        {
          "name": "stdout",
          "output_type": "stream",
          "text": [
            "              precision    recall  f1-score   support\n",
            "\n",
            "           0       1.00      0.87      0.93       581\n",
            "           1       0.85      1.00      0.92       417\n",
            "\n",
            "    accuracy                           0.92       998\n",
            "   macro avg       0.92      0.93      0.92       998\n",
            "weighted avg       0.94      0.92      0.92       998\n",
            "\n"
          ]
        },
        {
          "data": {
            "image/png": "[encoded data removed]",
            "text/plain": [
              "<Figure size 432x288 with 2 Axes>"
            ]
          },
          "metadata": {
            "needs_background": "light"
          },
          "output_type": "display_data"
        }
      ],
      "source": [
        "#  Compute the Evaluation Metrics for test set of Naive Bayes model\n",
        "mnb_metrics = compute_metrics(X_test, y_test, mnb, 'Naive Bayes')\n",
        "mnb_metrics"
      ]
    },
    {
      "cell_type": "code",
      "execution_count": null,
      "metadata": {
        "id": "FNnbjzxOuNyB"
      },
      "outputs": [],
      "source": []
    }
  ],
  "metadata": {
    "kernelspec": {
      "display_name": "Python 3",
      "language": "python",
      "name": "python3"
    },
    "language_info": {
      "codemirror_mode": {
        "name": "ipython",
        "version": 3
      },
      "file_extension": ".py",
      "mimetype": "text/x-python",
      "name": "python",
      "nbconvert_exporter": "python",
      "pygments_lexer": "ipython3",
      "version": "3.7.6"
    },
    "colab": {
      "provenance": []
    }
  },
  "nbformat": 4,
  "nbformat_minor": 0
}